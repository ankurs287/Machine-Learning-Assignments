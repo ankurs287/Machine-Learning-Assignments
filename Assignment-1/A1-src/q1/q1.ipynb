{
 "cells": [
  {
   "cell_type": "markdown",
   "metadata": {},
   "source": [
    "# 1. Linear Regression"
   ]
  },
  {
   "cell_type": "code",
   "execution_count": 1,
   "metadata": {},
   "outputs": [],
   "source": [
    "import numpy as np\n",
    "import pandas as pd\n",
    "import matplotlib.pyplot as plt\n",
    "from sklearn.metrics import mean_squared_error\n",
    "from sklearn.model_selection import KFold\n",
    "from sklearn.model_selection import GridSearchCV\n",
    "from sklearn.linear_model import Ridge\n",
    "from sklearn.linear_model import Lasso"
   ]
  },
  {
   "cell_type": "markdown",
   "metadata": {},
   "source": [
    "### Import dataset"
   ]
  },
  {
   "cell_type": "code",
   "execution_count": 2,
   "metadata": {},
   "outputs": [
    {
     "data": {
      "text/html": [
       "<div>\n",
       "<style scoped>\n",
       "    .dataframe tbody tr th:only-of-type {\n",
       "        vertical-align: middle;\n",
       "    }\n",
       "\n",
       "    .dataframe tbody tr th {\n",
       "        vertical-align: top;\n",
       "    }\n",
       "\n",
       "    .dataframe thead th {\n",
       "        text-align: right;\n",
       "    }\n",
       "</style>\n",
       "<table border=\"1\" class=\"dataframe\">\n",
       "  <thead>\n",
       "    <tr style=\"text-align: right;\">\n",
       "      <th></th>\n",
       "      <th>CRIM</th>\n",
       "      <th>ZN</th>\n",
       "      <th>INDUS</th>\n",
       "      <th>CHAS</th>\n",
       "      <th>NOX</th>\n",
       "      <th>RM</th>\n",
       "      <th>AGE</th>\n",
       "      <th>DIS</th>\n",
       "      <th>RAD</th>\n",
       "      <th>TAX</th>\n",
       "      <th>PT</th>\n",
       "      <th>B</th>\n",
       "      <th>LSTAT</th>\n",
       "      <th>MV</th>\n",
       "    </tr>\n",
       "  </thead>\n",
       "  <tbody>\n",
       "    <tr>\n",
       "      <th>0</th>\n",
       "      <td>0.00632</td>\n",
       "      <td>18.0</td>\n",
       "      <td>2.31</td>\n",
       "      <td>0</td>\n",
       "      <td>0.538</td>\n",
       "      <td>6.575</td>\n",
       "      <td>65.199997</td>\n",
       "      <td>4.0900</td>\n",
       "      <td>1</td>\n",
       "      <td>296</td>\n",
       "      <td>15.300000</td>\n",
       "      <td>396.899994</td>\n",
       "      <td>4.98</td>\n",
       "      <td>24.000000</td>\n",
       "    </tr>\n",
       "    <tr>\n",
       "      <th>1</th>\n",
       "      <td>0.02731</td>\n",
       "      <td>0.0</td>\n",
       "      <td>7.07</td>\n",
       "      <td>0</td>\n",
       "      <td>0.469</td>\n",
       "      <td>6.421</td>\n",
       "      <td>78.900002</td>\n",
       "      <td>4.9671</td>\n",
       "      <td>2</td>\n",
       "      <td>242</td>\n",
       "      <td>17.799999</td>\n",
       "      <td>396.899994</td>\n",
       "      <td>9.14</td>\n",
       "      <td>21.600000</td>\n",
       "    </tr>\n",
       "    <tr>\n",
       "      <th>2</th>\n",
       "      <td>0.02729</td>\n",
       "      <td>0.0</td>\n",
       "      <td>7.07</td>\n",
       "      <td>0</td>\n",
       "      <td>0.469</td>\n",
       "      <td>7.185</td>\n",
       "      <td>61.099998</td>\n",
       "      <td>4.9671</td>\n",
       "      <td>2</td>\n",
       "      <td>242</td>\n",
       "      <td>17.799999</td>\n",
       "      <td>392.829987</td>\n",
       "      <td>4.03</td>\n",
       "      <td>34.700001</td>\n",
       "    </tr>\n",
       "    <tr>\n",
       "      <th>3</th>\n",
       "      <td>0.03237</td>\n",
       "      <td>0.0</td>\n",
       "      <td>2.18</td>\n",
       "      <td>0</td>\n",
       "      <td>0.458</td>\n",
       "      <td>6.998</td>\n",
       "      <td>45.799999</td>\n",
       "      <td>6.0622</td>\n",
       "      <td>3</td>\n",
       "      <td>222</td>\n",
       "      <td>18.700001</td>\n",
       "      <td>394.630005</td>\n",
       "      <td>2.94</td>\n",
       "      <td>33.400002</td>\n",
       "    </tr>\n",
       "    <tr>\n",
       "      <th>4</th>\n",
       "      <td>0.06905</td>\n",
       "      <td>0.0</td>\n",
       "      <td>2.18</td>\n",
       "      <td>0</td>\n",
       "      <td>0.458</td>\n",
       "      <td>7.147</td>\n",
       "      <td>54.200001</td>\n",
       "      <td>6.0622</td>\n",
       "      <td>3</td>\n",
       "      <td>222</td>\n",
       "      <td>18.700001</td>\n",
       "      <td>396.899994</td>\n",
       "      <td>5.33</td>\n",
       "      <td>36.200001</td>\n",
       "    </tr>\n",
       "  </tbody>\n",
       "</table>\n",
       "</div>"
      ],
      "text/plain": [
       "      CRIM    ZN  INDUS  CHAS    NOX     RM        AGE     DIS  RAD  TAX  \\\n",
       "0  0.00632  18.0   2.31     0  0.538  6.575  65.199997  4.0900    1  296   \n",
       "1  0.02731   0.0   7.07     0  0.469  6.421  78.900002  4.9671    2  242   \n",
       "2  0.02729   0.0   7.07     0  0.469  7.185  61.099998  4.9671    2  242   \n",
       "3  0.03237   0.0   2.18     0  0.458  6.998  45.799999  6.0622    3  222   \n",
       "4  0.06905   0.0   2.18     0  0.458  7.147  54.200001  6.0622    3  222   \n",
       "\n",
       "          PT           B  LSTAT         MV  \n",
       "0  15.300000  396.899994   4.98  24.000000  \n",
       "1  17.799999  396.899994   9.14  21.600000  \n",
       "2  17.799999  392.829987   4.03  34.700001  \n",
       "3  18.700001  394.630005   2.94  33.400002  \n",
       "4  18.700001  396.899994   5.33  36.200001  "
      ]
     },
     "execution_count": 2,
     "metadata": {},
     "output_type": "execute_result"
    }
   ],
   "source": [
    "data = pd.read_excel(\"./data/boston.xls\")\n",
    "data_set_size = len(data)\n",
    "data.head()"
   ]
  },
  {
   "cell_type": "markdown",
   "metadata": {
    "collapsed": true
   },
   "source": [
    "### Preprocessing: Feature Normalisation\n",
    "Extract features and normalise them"
   ]
  },
  {
   "cell_type": "code",
   "execution_count": 3,
   "metadata": {},
   "outputs": [],
   "source": [
    "def feature_normalisation(X):\n",
    "    mu = np.mean(X, axis=0)\n",
    "    std = np.std(X, axis=0)\n",
    "    return (X - mu) / std"
   ]
  },
  {
   "cell_type": "code",
   "execution_count": 4,
   "metadata": {},
   "outputs": [
    {
     "name": "stdout",
     "output_type": "stream",
     "text": [
      "506\n"
     ]
    }
   ],
   "source": [
    "normalised_data = feature_normalisation(data.values)\n",
    "\n",
    "np.random.shuffle(normalised_data)\n",
    "\n",
    "X = normalised_data[:, :-1]\n",
    "y = normalised_data[:, -1]\n",
    "print(data_set_size)"
   ]
  },
  {
   "cell_type": "markdown",
   "metadata": {},
   "source": [
    "## Gradient Descent"
   ]
  },
  {
   "cell_type": "code",
   "execution_count": 5,
   "metadata": {},
   "outputs": [],
   "source": [
    "def gradient_descent(X, y, alpha=0.01, time=1000, lam=None, reg='ridge'):\n",
    "    # Adding intercept\n",
    "    X = np.hstack((np.ones((len(X), 1)), X))\n",
    "    n = len(X)\n",
    "    theta = np.zeros((time, len(X[0])))\n",
    "    train_rmse = np.zeros(time)\n",
    "    for i in range(time):\n",
    "        pred = np.dot(X, theta[i - 1])\n",
    "        error = np.subtract(pred, y)\n",
    "        derivative = (alpha / n) * np.dot(X.T, error)\n",
    "        if lam is not None:\n",
    "            if reg == 'ridge':\n",
    "                derivative = np.add(derivative, (lam / n) * theta[i - 1])\n",
    "            elif reg == 'lasso':\n",
    "                for d in range(len(derivative)):\n",
    "                    derivative[d] += (lam / n) * (1.0 if theta[i - 1][d] >= 0 else -1.0)\n",
    "\n",
    "        theta[i] = theta[i - 1] - derivative  # Gradient Descent Rule\n",
    "\n",
    "        new_pred = np.dot(X, theta[i])\n",
    "        new_error = np.subtract(new_pred, y)\n",
    "        train_rmse[i] = np.sqrt((1. / n) * np.dot(new_error.T, new_error))\n",
    "    return theta, train_rmse\n"
   ]
  },
  {
   "cell_type": "markdown",
   "metadata": {},
   "source": [
    "## Least Squared Regression [ R(w) = 0 ] for 5-Folds"
   ]
  },
  {
   "cell_type": "code",
   "execution_count": 6,
   "metadata": {},
   "outputs": [
    {
     "data": {
      "text/plain": [
       "<Figure size 720x4320 with 0 Axes>"
      ]
     },
     "metadata": {},
     "output_type": "display_data"
    }
   ],
   "source": [
    "time = 1000\n",
    "k = 5  # number of folds\n",
    "theta = [None] * k\n",
    "train_rmse_collection = np.zeros((k, time))\n",
    "val_rmse_collection = np.zeros((k, time))\n",
    "\n",
    "kf = KFold(n_splits=k)\n",
    "i = 0\n",
    "plt.figure(figsize=(10, 60))\n",
    "folds = []\n",
    "for train, val in kf.split(X):\n",
    "    folds.append([train, val])\n",
    "    X_fold = X[train]\n",
    "    y_fold = y[train]\n",
    "    theta[i], train_rmse = gradient_descent(X_fold, y_fold, time=time)\n",
    "    0\n",
    "\n",
    "    # print(train_rmse[-1])\n",
    "\n",
    "    # Calculate rmse of validation set\n",
    "    validation_size = len(X[val])\n",
    "    X_val = X[val]\n",
    "    y_val = y[val]\n",
    "    # Adding intercept\n",
    "    X_val = np.hstack((np.ones((len(X_val), 1)), X_val))\n",
    "    val_rmse = np.zeros(time)\n",
    "    for j in range(time):\n",
    "        pred = np.dot(X_val, theta[i][j])\n",
    "        error = np.subtract(pred, y_val)\n",
    "        val_rmse[j] = np.sqrt((1. / validation_size) * np.dot(error.T, error))\n",
    "\n",
    "    plt.figure()\n",
    "    # plt.subplot(7, 1, i + 1)\n",
    "    plt.plot(train_rmse, label='Train RMSE for Fold: %s' % (i + 1))\n",
    "    plt.plot(val_rmse, label='Validation RMSE for Fold: %s' % (i + 1))\n",
    "    plt.title('RMSE for Fold: %s' % (i + 1))\n",
    "    plt.legend()\n",
    "    plt.xlabel('Epoch')\n",
    "    plt.ylabel('RMSE')\n",
    "    plt.savefig('./plots/q1_a %s.png' % (i + 1), bbox_inches='tight', pad_inches=0.5)\n",
    "    plt.close()\n",
    "\n",
    "    train_rmse_collection[i] = train_rmse\n",
    "    val_rmse_collection[i] = val_rmse\n",
    "\n",
    "    i += 1\n",
    "\n",
    "plt.figure()\n",
    "# plt.subplot(7, 1, 6)\n",
    "plt.plot(np.mean(train_rmse_collection, axis=0), label='Train Mean RMSE over all Folds')\n",
    "plt.plot(np.mean(val_rmse_collection, axis=0), label='Validation Mean RMSE over all Folds')\n",
    "plt.title('Mean RMSE over all Folds')\n",
    "plt.legend()\n",
    "plt.xlabel('Epoch')\n",
    "plt.ylabel('Mean RMSE')\n",
    "plt.savefig(\"./plots/q1_a 6.png\", bbox_inches='tight', pad_inches=0.5)\n",
    "plt.close()\n",
    "\n",
    "plt.figure()\n",
    "# plt.subplot(7, 1, 7)\n",
    "plt.plot(np.std(train_rmse_collection, axis=0), label='Train Standard Deviation RMSE over all Folds')\n",
    "plt.plot(np.std(val_rmse_collection, axis=0), label='Validation Standard Deviation RMSE over all Folds')\n",
    "plt.title('Standard Deviation RMSE over all Folds')\n",
    "plt.legend()\n",
    "plt.xlabel('Epoch')\n",
    "plt.ylabel('STD RMSE')\n",
    "plt.savefig(\"./plots/q1_a 7.png\", bbox_inches='tight', pad_inches=0.5)\n",
    "plt.close()\n",
    "\n",
    "# plt.savefig(\"./q1_a.png\", bbox_inches='tight', pad_inches=0.5)\n",
    "# plt.close()\n"
   ]
  },
  {
   "cell_type": "code",
   "execution_count": 7,
   "metadata": {},
   "outputs": [
    {
     "name": "stdout",
     "output_type": "stream",
     "text": [
      "Train RMSE for Fold: 1 : 0.5179495977131547\n",
      "Validation RMSE for Fold: 1 : 0.5201463681081264\n",
      "\n",
      "Train RMSE for Fold: 2 : 0.5122308128481374\n",
      "Validation RMSE for Fold: 2 : 0.5220272282229463\n",
      "\n",
      "Train RMSE for Fold: 3 : 0.48316315997156883\n",
      "Validation RMSE for Fold: 3 : 0.6345232672675419\n",
      "\n",
      "Train RMSE for Fold: 4 : 0.5049485360283535\n",
      "Validation RMSE for Fold: 4 : 0.5588365465912248\n",
      "\n",
      "Train RMSE for Fold: 5 : 0.5276515088589706\n",
      "Validation RMSE for Fold: 5 : 0.44907255824460646\n",
      "\n",
      "Train Mean RMSE over all Folds 0.5091887230840371\n",
      "Validation Mean RMSE over all Folds 0.5369211936868892\n",
      "\n",
      "Train STD RMSE over all Folds 0.014981260391297546\n",
      "Validation STD RMSE over all Folds 0.06037723940306455\n"
     ]
    }
   ],
   "source": [
    "for i in range(k):\n",
    "    print('Train RMSE for Fold: %s : %s' % (i + 1, train_rmse_collection[i, -1]))\n",
    "    print('Validation RMSE for Fold: %s : %s' % (i + 1, val_rmse_collection[i, -1]))\n",
    "    print()\n",
    "\n",
    "train_mean_rmse = np.mean(train_rmse_collection, axis=0)\n",
    "val_mean_rmse = np.mean(val_rmse_collection, axis=0)\n",
    "print('Train Mean RMSE over all Folds %s' % (train_mean_rmse[-1]))\n",
    "print('Validation Mean RMSE over all Folds %s' % (val_mean_rmse[-1]))\n",
    "print()\n",
    "train_std_rmse = np.std(train_rmse_collection, axis=0)\n",
    "val_std_rmse = np.std(val_rmse_collection, axis=0)\n",
    "print('Train STD RMSE over all Folds %s' % (train_std_rmse[-1]))\n",
    "print('Validation STD RMSE over all Folds %s' % (val_std_rmse[-1]))"
   ]
  },
  {
   "cell_type": "markdown",
   "metadata": {},
   "source": [
    "## Regularization"
   ]
  },
  {
   "cell_type": "code",
   "execution_count": 8,
   "metadata": {},
   "outputs": [
    {
     "name": "stdout",
     "output_type": "stream",
     "text": [
      "Fold with minimum RMSE on Validation Set: 5 (RMSE: 0.44907255824460646)\n",
      "Dataset Size:  506 \n",
      "Train+Val size:  405 \n",
      "Test Size:  101\n"
     ]
    }
   ],
   "source": [
    "# Find the fold with lowest RMSE for Validation Set and take it out as a test set\n",
    "test_fold = np.argmin(val_rmse_collection[:, -1])\n",
    "X_test = X[folds[test_fold][1]]\n",
    "y_test = y[folds[test_fold][1]]\n",
    "\n",
    "X_ = np.delete(X, folds[test_fold][1], axis=0)\n",
    "y_ = np.delete(y, folds[test_fold][1], axis=0)\n",
    "print('Fold with minimum RMSE on Validation Set: %s (RMSE: %s)' %(test_fold+1, val_rmse_collection[test_fold, -1]))\n",
    "print('Dataset Size: ', len(y), '\\nTrain+Val size: ', len(y_), '\\nTest Size: ', len(y_test))"
   ]
  },
  {
   "cell_type": "markdown",
   "metadata": {},
   "source": [
    "## Ridge Regression [ l2 norm ]"
   ]
  },
  {
   "cell_type": "code",
   "execution_count": 9,
   "metadata": {},
   "outputs": [
    {
     "name": "stdout",
     "output_type": "stream",
     "text": [
      "0.1\n"
     ]
    }
   ],
   "source": [
    "parameters = {'alpha': [0.001, 0.01, 0.1]}\n",
    "reg = GridSearchCV(Ridge(), parameters, cv=k)\n",
    "reg.fit(X_, y_)\n",
    "l = reg.best_params_['alpha']  # Regularisation Parameter\n",
    "print(l)"
   ]
  },
  {
   "cell_type": "code",
   "execution_count": 10,
   "metadata": {},
   "outputs": [],
   "source": [
    "theta, l2_rmse = gradient_descent(X_, y_, time=time, lam=l)\n",
    "\n",
    "# Calculate rmse of test set\n",
    "test_size = len(X_test)\n",
    "# Adding intercept\n",
    "X_test_ = np.hstack((np.ones((len(X_test), 1)), X_test))\n",
    "l2_test_rmse = np.zeros(time)\n",
    "for i in range(time):\n",
    "    pred = np.dot(X_test_, theta[i])\n",
    "    error = np.subtract(pred, y_test)\n",
    "    l2_test_rmse[i] = np.sqrt((1. / test_size) * np.dot(error.T, error))\n"
   ]
  },
  {
   "cell_type": "code",
   "execution_count": 11,
   "metadata": {},
   "outputs": [
    {
     "name": "stdout",
     "output_type": "stream",
     "text": [
      "RMSE on Train Set: 0.5290174756673958\n",
      "RMSE on Test Set: 0.4499092626510626\n"
     ]
    }
   ],
   "source": [
    "# plt.figure(figsize=(10, 20))\n",
    "# plt.subplot(2, 1, 1)\n",
    "plt.figure()\n",
    "plt.plot(l2_rmse, label='Train')\n",
    "plt.plot(l2_test_rmse, label='Test')\n",
    "plt.title('L2 Regularization')\n",
    "plt.legend()\n",
    "plt.xlabel('Epoch')\n",
    "plt.ylabel('RMSE')\n",
    "plt.savefig(\"./plots/q1_reg_l2.png\", bbox_inches='tight', pad_inches=0.5)\n",
    "plt.close()\n",
    "\n",
    "print('RMSE on Train Set: %s' % (l2_rmse[-1]))\n",
    "print('RMSE on Test Set: %s' % (l2_test_rmse[-1]))\n"
   ]
  },
  {
   "cell_type": "markdown",
   "metadata": {},
   "source": [
    "## LASSO Regression [ l1 norm ]"
   ]
  },
  {
   "cell_type": "code",
   "execution_count": 12,
   "metadata": {},
   "outputs": [
    {
     "name": "stdout",
     "output_type": "stream",
     "text": [
      "0.01\n"
     ]
    }
   ],
   "source": [
    "parameters = {'alpha': [0.01, 0.1, 1, 10, 100]}\n",
    "reg = GridSearchCV(Lasso(), parameters, cv=k)\n",
    "reg.fit(X_, y_)\n",
    "l = reg.best_params_['alpha']  # Regularisation Parameter\n",
    "print(l)"
   ]
  },
  {
   "cell_type": "code",
   "execution_count": 13,
   "metadata": {},
   "outputs": [],
   "source": [
    "theta, l1_rmse = gradient_descent(X_, y_, time=time, lam=l, reg='lasso')\n",
    "\n",
    "# Calculate rmse of test set\n",
    "test_size = len(X_test)\n",
    "# Adding intercept\n",
    "X_test_ = np.hstack((np.ones((len(X_test), 1)), X_test))\n",
    "l1_test_rmse = np.zeros(time)\n",
    "for i in range(time):\n",
    "    pred = np.dot(X_test_, theta[i])\n",
    "    error = np.subtract(pred, y_test)\n",
    "    l1_test_rmse[i] = np.sqrt((1. / test_size) * np.dot(error.T, error))\n"
   ]
  },
  {
   "cell_type": "code",
   "execution_count": 14,
   "metadata": {},
   "outputs": [
    {
     "name": "stdout",
     "output_type": "stream",
     "text": [
      "RMSE on Train Set: 0.5287357730918358\n",
      "RMSE on Test Set: 0.44934276683941765\n"
     ]
    }
   ],
   "source": [
    "# plt.subplot(2, 1, 2)\n",
    "plt.figure()\n",
    "plt.plot(l1_rmse, label='Train')\n",
    "plt.plot(l1_test_rmse, label='Test')\n",
    "plt.title('L1 Regularization')\n",
    "plt.legend()\n",
    "plt.xlabel('Epoch')\n",
    "plt.ylabel('RMSE')\n",
    "plt.savefig('./plots/q1_regl1.png', bbox_inches='tight', pad_inches=0.5)\n",
    "plt.close()\n",
    "\n",
    "print('RMSE on Train Set: %s' % (l1_rmse[-1]))\n",
    "print('RMSE on Test Set: %s' % (l1_test_rmse[-1]))\n"
   ]
  },
  {
   "cell_type": "code",
   "execution_count": 15,
   "metadata": {},
   "outputs": [
    {
     "name": "stdout",
     "output_type": "stream",
     "text": [
      "Linear Regression:  0.44907255824460646\n",
      "L2 Regression:  0.4499092626510626\n",
      "L1 Regression:  0.44934276683941765\n"
     ]
    }
   ],
   "source": [
    "print('Linear Regression: ', val_rmse_collection[test_fold, -1])\n",
    "print('L2 Regression: ', l2_test_rmse[-1])\n",
    "print('L1 Regression: ', l1_test_rmse[-1])"
   ]
  },
  {
   "cell_type": "code",
   "execution_count": null,
   "metadata": {},
   "outputs": [],
   "source": []
  }
 ],
 "metadata": {
  "kernelspec": {
   "display_name": "Python 3",
   "language": "python",
   "name": "python3"
  },
  "language_info": {
   "codemirror_mode": {
    "name": "ipython",
    "version": 3
   },
   "file_extension": ".py",
   "mimetype": "text/x-python",
   "name": "python",
   "nbconvert_exporter": "python",
   "pygments_lexer": "ipython3",
   "version": "3.6.6"
  }
 },
 "nbformat": 4,
 "nbformat_minor": 1
}
