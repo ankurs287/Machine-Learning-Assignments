{
 "cells": [
  {
   "cell_type": "markdown",
   "metadata": {},
   "source": [
    "# Logistic Regression"
   ]
  },
  {
   "cell_type": "code",
   "execution_count": 1,
   "metadata": {},
   "outputs": [],
   "source": [
    "import pickle\n",
    "\n",
    "import idx2numpy\n",
    "import matplotlib.pyplot as plt\n",
    "import numpy as np\n",
    "from sklearn.utils import shuffle\n"
   ]
  },
  {
   "cell_type": "markdown",
   "metadata": {},
   "source": [
    "## Import Data"
   ]
  },
  {
   "cell_type": "code",
   "execution_count": 2,
   "metadata": {},
   "outputs": [],
   "source": [
    "train_images = idx2numpy.convert_from_file('./data/train-images-idx3-ubyte')\n",
    "train_labels = idx2numpy.convert_from_file('./data/train-labels-idx1-ubyte')\n",
    "test_images = idx2numpy.convert_from_file('./data/t10k-images-idx3-ubyte')\n",
    "test_labels = idx2numpy.convert_from_file('./data/t10k-labels-idx1-ubyte')\n"
   ]
  },
  {
   "cell_type": "markdown",
   "metadata": {},
   "source": [
    "### reshape images 3D vector to 2D vector \n"
   ]
  },
  {
   "cell_type": "code",
   "execution_count": 3,
   "metadata": {},
   "outputs": [
    {
     "name": "stdout",
     "output_type": "stream",
     "text": [
      "5000\n"
     ]
    }
   ],
   "source": [
    "X_train = np.vstack([img.reshape(-1, ) for img in train_images])\n",
    "y_train = train_labels\n",
    "X_test = np.vstack([img.reshape(-1, ) for img in test_images])\n",
    "y_test = test_labels\n",
    "X_train, y_train = shuffle(X_train, y_train)\n",
    "train_cap = 5000\n",
    "X_train = X_train[:train_cap, :]\n",
    "y_train = y_train[:train_cap]\n",
    "dataset_size = len(y_train)\n",
    "print(dataset_size)\n"
   ]
  },
  {
   "cell_type": "code",
   "execution_count": 4,
   "metadata": {},
   "outputs": [],
   "source": [
    "logit_l2_model_file = './saved_model/q2_12.sav'\n",
    "logit_l1_model_file = './saved_model/q2_l1.sav'"
   ]
  },
  {
   "cell_type": "code",
   "execution_count": 5,
   "metadata": {},
   "outputs": [],
   "source": [
    "from sklearn.linear_model import LogisticRegression"
   ]
  },
  {
   "cell_type": "markdown",
   "metadata": {},
   "source": [
    "### L2 Norm\n"
   ]
  },
  {
   "cell_type": "code",
   "execution_count": 6,
   "metadata": {},
   "outputs": [],
   "source": [
    "def logistic_regression(penalty='l2'):\n",
    "    try:\n",
    "        loaded_model = pickle.load(open(logit_l2_model_file if penalty == 'l2' else logit_l1_model_file, 'rb'))\n",
    "        print('local model returned')\n",
    "        return loaded_model\n",
    "    except FileNotFoundError:\n",
    "        regs = []\n",
    "    for i in range(10):\n",
    "        print('training digit ..', i)\n",
    "        y_train_ = y_train.copy()\n",
    "        y_train_ = (y_train_ == i).astype(int)\n",
    "        reg = LogisticRegression(penalty=penalty)\n",
    "        reg.fit(X_train, y_train_)\n",
    "        regs.append(reg)\n",
    "    pickle.dump(regs, open(logit_l2_model_file if penalty == 'l2' else logit_l1_model_file, 'wb'))\n",
    "    print('Fresh model returned')\n",
    "    return regs\n"
   ]
  },
  {
   "cell_type": "code",
   "execution_count": 7,
   "metadata": {},
   "outputs": [
    {
     "name": "stdout",
     "output_type": "stream",
     "text": [
      "local model returned\n"
     ]
    }
   ],
   "source": [
    "reg_l2 = logistic_regression()"
   ]
  },
  {
   "cell_type": "code",
   "execution_count": 8,
   "metadata": {},
   "outputs": [
    {
     "name": "stdout",
     "output_type": "stream",
     "text": [
      "Train Accuracy for 0th digit: 0.9846\n",
      "Test Accuracy for 0th digit: 0.9834\n",
      "\n",
      "Train Accuracy for 1th digit: 0.9838\n",
      "Test Accuracy for 1th digit: 0.9854\n",
      "\n",
      "Train Accuracy for 2th digit: 0.9488\n",
      "Test Accuracy for 2th digit: 0.9487\n",
      "\n",
      "Train Accuracy for 3th digit: 0.9452\n",
      "Test Accuracy for 3th digit: 0.9467\n",
      "\n",
      "Train Accuracy for 4th digit: 0.9762\n",
      "Test Accuracy for 4th digit: 0.971\n",
      "\n",
      "Train Accuracy for 5th digit: 0.953\n",
      "Test Accuracy for 5th digit: 0.9457\n",
      "\n",
      "Train Accuracy for 6th digit: 0.9832\n",
      "Test Accuracy for 6th digit: 0.9791\n",
      "\n",
      "Train Accuracy for 7th digit: 0.9714\n",
      "Test Accuracy for 7th digit: 0.9666\n",
      "\n",
      "Train Accuracy for 8th digit: 0.9146\n",
      "Test Accuracy for 8th digit: 0.917\n",
      "\n",
      "Train Accuracy for 9th digit: 0.9278\n",
      "Test Accuracy for 9th digit: 0.9207\n",
      "\n"
     ]
    }
   ],
   "source": [
    "for i in range(10):\n",
    "    y_train_ = y_train.copy()\n",
    "    y_train_ = (y_train_ == i).astype(int)\n",
    "\n",
    "    train_accuracy = reg_l2[i].score(X_train, y_train_)\n",
    "    print('Train Accuracy for %sth digit: %s' % (i, train_accuracy))\n",
    "\n",
    "    y_test_ = y_test.copy()\n",
    "    y_test_ = (y_test_ == i).astype(int)\n",
    "    test_accuracy = reg_l2[i].score(X_test, y_test_)\n",
    "    print('Test Accuracy for %sth digit: %s\\n' % (i, test_accuracy))\n",
    "\n"
   ]
  },
  {
   "cell_type": "markdown",
   "metadata": {},
   "source": [
    "### L1 Norm"
   ]
  },
  {
   "cell_type": "code",
   "execution_count": 9,
   "metadata": {},
   "outputs": [
    {
     "name": "stdout",
     "output_type": "stream",
     "text": [
      "local model returned\n"
     ]
    }
   ],
   "source": [
    "reg_l1 = logistic_regression(penalty='l1')"
   ]
  },
  {
   "cell_type": "code",
   "execution_count": 10,
   "metadata": {},
   "outputs": [
    {
     "name": "stdout",
     "output_type": "stream",
     "text": [
      "Train Accuracy for 0th digit: 0.985\n",
      "Test Accuracy for 0th digit: 0.9866\n",
      "\n",
      "Train Accuracy for 1th digit: 0.9892\n",
      "Test Accuracy for 1th digit: 0.9896\n",
      "\n",
      "Train Accuracy for 2th digit: 0.9652\n",
      "Test Accuracy for 2th digit: 0.9647\n",
      "\n",
      "Train Accuracy for 3th digit: 0.9464\n",
      "Test Accuracy for 3th digit: 0.9457\n",
      "\n",
      "Train Accuracy for 4th digit: 0.9756\n",
      "Test Accuracy for 4th digit: 0.9718\n",
      "\n",
      "Train Accuracy for 5th digit: 0.9562\n",
      "Test Accuracy for 5th digit: 0.9539\n",
      "\n",
      "Train Accuracy for 6th digit: 0.9796\n",
      "Test Accuracy for 6th digit: 0.9733\n",
      "\n",
      "Train Accuracy for 7th digit: 0.973\n",
      "Test Accuracy for 7th digit: 0.9706\n",
      "\n",
      "Train Accuracy for 8th digit: 0.9122\n",
      "Test Accuracy for 8th digit: 0.9172\n",
      "\n",
      "Train Accuracy for 9th digit: 0.9346\n",
      "Test Accuracy for 9th digit: 0.9302\n",
      "\n"
     ]
    }
   ],
   "source": [
    "for i in range(10):\n",
    "    y_train_ = y_train.copy()\n",
    "    y_train_ = (y_train_ == i).astype(int)\n",
    "\n",
    "    train_accuracy = reg_l1[i].score(X_train, y_train_)\n",
    "    print('Train Accuracy for %sth digit: %s' % (i, train_accuracy))\n",
    "\n",
    "    y_test_ = y_test.copy()\n",
    "    y_test_ = (y_test_ == i).astype(int)\n",
    "    test_accuracy = reg_l1[i].score(X_test, y_test_)\n",
    "    print('Test Accuracy for %sth digit: %s\\n' % (i, test_accuracy))\n"
   ]
  },
  {
   "cell_type": "code",
   "execution_count": null,
   "metadata": {},
   "outputs": [],
   "source": []
  },
  {
   "cell_type": "code",
   "execution_count": null,
   "metadata": {},
   "outputs": [],
   "source": []
  }
 ],
 "metadata": {
  "kernelspec": {
   "display_name": "Python 3",
   "language": "python",
   "name": "python3"
  },
  "language_info": {
   "codemirror_mode": {
    "name": "ipython",
    "version": 3
   },
   "file_extension": ".py",
   "mimetype": "text/x-python",
   "name": "python",
   "nbconvert_exporter": "python",
   "pygments_lexer": "ipython3",
   "version": "3.6.5"
  }
 },
 "nbformat": 4,
 "nbformat_minor": 1
}
