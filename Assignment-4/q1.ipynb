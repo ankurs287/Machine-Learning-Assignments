{
 "cells": [
  {
   "cell_type": "code",
   "execution_count": 28,
   "metadata": {
    "collapsed": true
   },
   "outputs": [],
   "source": [
    "import numpy as np\n",
    "import pandas as pd"
   ]
  },
  {
   "cell_type": "code",
   "execution_count": 29,
   "metadata": {},
   "outputs": [
    {
     "data": {
      "text/plain": [
       "Index(['Creditability', 'Account Balance', 'Duration of Credit (month)',\n       'Payment Status of Previous Credit', 'Purpose', 'Credit Amount',\n       'Value Savings/Stocks', 'Length of current employment',\n       'Instalment per cent', 'Sex & Marital Status', 'Guarantors',\n       'Duration in Current address', 'Most valuable available asset',\n       'Age (years)', 'Concurrent Credits', 'Type of apartment',\n       'No of Credits at this Bank', 'Occupation', 'No of dependents',\n       'Telephone', 'Foreign Worker'],\n      dtype='object')"
      ]
     },
     "execution_count": 29,
     "metadata": {},
     "output_type": "execute_result"
    }
   ],
   "source": [
    "data = pd.read_csv('index.csv')\n",
    "data.keys()"
   ]
  },
  {
   "cell_type": "code",
   "execution_count": 30,
   "metadata": {
    "collapsed": true
   },
   "outputs": [
    {
     "name": "stdout",
     "output_type": "stream",
     "text": [
      "(1000, 20) (1000,)\n"
     ]
    }
   ],
   "source": [
    "y = data['Creditability']\n",
    "data.drop('Creditability', axis=1, inplace=True)\n",
    "X = data.values\n",
    "print(X.shape, y.shape)"
   ]
  },
  {
   "cell_type": "code",
   "execution_count": 31,
   "metadata": {},
   "outputs": [],
   "source": [
    "from sklearn.tree import DecisionTreeClassifier\n",
    "from sklearn.ensemble import RandomForestClassifier\n",
    "from sklearn.model_selection import GridSearchCV"
   ]
  },
  {
   "cell_type": "code",
   "execution_count": 32,
   "metadata": {
    "collapsed": true
   },
   "outputs": [
    {
     "name": "stderr",
     "output_type": "stream",
     "text": [
      "/home/ankur/anaconda3/lib/python3.6/site-packages/sklearn/model_selection/_split.py:1943: FutureWarning: You should specify a value for 'cv' instead of relying on the default value. The default value will change from 3 to 5 in version 0.22.\n  warnings.warn(CV_WARNING, FutureWarning)\n[Parallel(n_jobs=1)]: Using backend SequentialBackend with 1 concurrent workers.\n[Parallel(n_jobs=1)]: Done   1 out of   1 | elapsed:    0.0s remaining:    0.0s\n[Parallel(n_jobs=1)]: Done   2 out of   2 | elapsed:    0.0s remaining:    0.0s\n[Parallel(n_jobs=1)]: Done   3 out of   3 | elapsed:    0.1s remaining:    0.0s\n"
     ]
    },
    {
     "name": "stdout",
     "output_type": "stream",
     "text": [
      "Fitting 3 folds for each of 120 candidates, totalling 360 fits\n[CV] max_depth=3, max_features=4, n_estimators=3 .....................\n[CV]  max_depth=3, max_features=4, n_estimators=3, score=0.9358974358974359, total=   0.0s\n[CV] max_depth=3, max_features=4, n_estimators=3 .....................\n[CV]  max_depth=3, max_features=4, n_estimators=3, score=0.9484978540772532, total=   0.0s\n[CV] max_depth=3, max_features=4, n_estimators=3 .....................\n[CV]  max_depth=3, max_features=4, n_estimators=3, score=0.927038626609442, total=   0.0s\n[CV] max_depth=3, max_features=4, n_estimators=5 .....................\n[CV]  max_depth=3, max_features=4, n_estimators=5, score=0.9615384615384616, total=   0.0s\n[CV] max_depth=3, max_features=4, n_estimators=5 .....................\n[CV]  max_depth=3, max_features=4, n_estimators=5, score=0.9828326180257511, total=   0.0s\n[CV] max_depth=3, max_features=4, n_estimators=5 .....................\n[CV]  max_depth=3, max_features=4, n_estimators=5, score=0.9356223175965666, total=   0.0s\n[CV] max_depth=3, max_features=4, n_estimators=10 ....................\n[CV]  max_depth=3, max_features=4, n_estimators=10, score=0.9871794871794872, total=   0.0s\n[CV] max_depth=3, max_features=4, n_estimators=10 ....................\n[CV]  max_depth=3, max_features=4, n_estimators=10, score=0.9785407725321889, total=   0.0s\n[CV] max_depth=3, max_features=4, n_estimators=10 ....................\n"
     ]
    },
    {
     "name": "stdout",
     "output_type": "stream",
     "text": [
      "[CV]  max_depth=3, max_features=4, n_estimators=10, score=0.9656652360515021, total=   0.0s\n[CV] max_depth=3, max_features=4, n_estimators=25 ....................\n[CV]  max_depth=3, max_features=4, n_estimators=25, score=0.9914529914529915, total=   0.0s\n[CV] max_depth=3, max_features=4, n_estimators=25 ....................\n[CV]  max_depth=3, max_features=4, n_estimators=25, score=0.9957081545064378, total=   0.1s\n[CV] max_depth=3, max_features=4, n_estimators=25 ....................\n"
     ]
    },
    {
     "name": "stdout",
     "output_type": "stream",
     "text": [
      "[CV]  max_depth=3, max_features=4, n_estimators=25, score=0.9742489270386266, total=   0.1s\n[CV] max_depth=3, max_features=4, n_estimators=50 ....................\n[CV]  max_depth=3, max_features=4, n_estimators=50, score=0.9914529914529915, total=   0.1s\n[CV] max_depth=3, max_features=4, n_estimators=50 ....................\n"
     ]
    },
    {
     "name": "stdout",
     "output_type": "stream",
     "text": [
      "[CV]  max_depth=3, max_features=4, n_estimators=50, score=0.9957081545064378, total=   0.1s\n[CV] max_depth=3, max_features=4, n_estimators=50 ....................\n[CV]  max_depth=3, max_features=4, n_estimators=50, score=0.9613733905579399, total=   0.1s\n[CV] max_depth=3, max_features=4, n_estimators=150 ...................\n"
     ]
    },
    {
     "name": "stdout",
     "output_type": "stream",
     "text": [
      "[CV]  max_depth=3, max_features=4, n_estimators=150, score=0.9871794871794872, total=   0.2s\n[CV] max_depth=3, max_features=4, n_estimators=150 ...................\n"
     ]
    },
    {
     "name": "stdout",
     "output_type": "stream",
     "text": [
      "[CV]  max_depth=3, max_features=4, n_estimators=150, score=0.9957081545064378, total=   0.2s\n[CV] max_depth=3, max_features=4, n_estimators=150 ...................\n"
     ]
    },
    {
     "name": "stdout",
     "output_type": "stream",
     "text": [
      "[CV]  max_depth=3, max_features=4, n_estimators=150, score=0.9570815450643777, total=   0.2s\n[CV] max_depth=3, max_features=7, n_estimators=3 .....................\n[CV]  max_depth=3, max_features=7, n_estimators=3, score=0.9529914529914529, total=   0.0s\n[CV] max_depth=3, max_features=7, n_estimators=3 .....................\n[CV]  max_depth=3, max_features=7, n_estimators=3, score=0.9828326180257511, total=   0.0s\n[CV] max_depth=3, max_features=7, n_estimators=3 .....................\n[CV]  max_depth=3, max_features=7, n_estimators=3, score=0.9141630901287554, total=   0.0s\n[CV] max_depth=3, max_features=7, n_estimators=5 .....................\n[CV]  max_depth=3, max_features=7, n_estimators=5, score=0.9615384615384616, total=   0.0s\n[CV] max_depth=3, max_features=7, n_estimators=5 .....................\n[CV]  max_depth=3, max_features=7, n_estimators=5, score=0.9957081545064378, total=   0.0s\n[CV] max_depth=3, max_features=7, n_estimators=5 .....................\n[CV]  max_depth=3, max_features=7, n_estimators=5, score=0.9356223175965666, total=   0.0s\n[CV] max_depth=3, max_features=7, n_estimators=10 ....................\n[CV]  max_depth=3, max_features=7, n_estimators=10, score=0.9658119658119658, total=   0.0s\n[CV] max_depth=3, max_features=7, n_estimators=10 ....................\n[CV]  max_depth=3, max_features=7, n_estimators=10, score=0.9914163090128756, total=   0.0s\n[CV] max_depth=3, max_features=7, n_estimators=10 ....................\n[CV]  max_depth=3, max_features=7, n_estimators=10, score=0.9098712446351931, total=   0.0s\n[CV] max_depth=3, max_features=7, n_estimators=25 ....................\n[CV]  max_depth=3, max_features=7, n_estimators=25, score=0.9700854700854701, total=   0.0s\n[CV] max_depth=3, max_features=7, n_estimators=25 ....................\n"
     ]
    },
    {
     "name": "stdout",
     "output_type": "stream",
     "text": [
      "[CV]  max_depth=3, max_features=7, n_estimators=25, score=0.9914163090128756, total=   0.1s\n[CV] max_depth=3, max_features=7, n_estimators=25 ....................\n[CV]  max_depth=3, max_features=7, n_estimators=25, score=0.9141630901287554, total=   0.0s\n[CV] max_depth=3, max_features=7, n_estimators=50 ....................\n[CV]  max_depth=3, max_features=7, n_estimators=50, score=0.9658119658119658, total=   0.1s\n[CV] max_depth=3, max_features=7, n_estimators=50 ....................\n"
     ]
    },
    {
     "name": "stdout",
     "output_type": "stream",
     "text": [
      "[CV]  max_depth=3, max_features=7, n_estimators=50, score=0.9871244635193133, total=   0.1s\n[CV] max_depth=3, max_features=7, n_estimators=50 ....................\n[CV]  max_depth=3, max_features=7, n_estimators=50, score=0.9141630901287554, total=   0.1s\n[CV] max_depth=3, max_features=7, n_estimators=150 ...................\n"
     ]
    },
    {
     "name": "stdout",
     "output_type": "stream",
     "text": [
      "[CV]  max_depth=3, max_features=7, n_estimators=150, score=0.9700854700854701, total=   0.3s\n[CV] max_depth=3, max_features=7, n_estimators=150 ...................\n"
     ]
    },
    {
     "name": "stdout",
     "output_type": "stream",
     "text": [
      "[CV]  max_depth=3, max_features=7, n_estimators=150, score=0.9914163090128756, total=   0.3s\n[CV] max_depth=3, max_features=7, n_estimators=150 ...................\n"
     ]
    },
    {
     "name": "stdout",
     "output_type": "stream",
     "text": [
      "[CV]  max_depth=3, max_features=7, n_estimators=150, score=0.9012875536480687, total=   0.2s\n[CV] max_depth=3, max_features=15, n_estimators=3 ....................\n[CV]  max_depth=3, max_features=15, n_estimators=3, score=0.905982905982906, total=   0.0s\n[CV] max_depth=3, max_features=15, n_estimators=3 ....................\n[CV]  max_depth=3, max_features=15, n_estimators=3, score=0.9742489270386266, total=   0.0s\n[CV] max_depth=3, max_features=15, n_estimators=3 ....................\n[CV]  max_depth=3, max_features=15, n_estimators=3, score=0.9055793991416309, total=   0.0s\n[CV] max_depth=3, max_features=15, n_estimators=5 ....................\n[CV]  max_depth=3, max_features=15, n_estimators=5, score=0.9188034188034188, total=   0.0s\n[CV] max_depth=3, max_features=15, n_estimators=5 ....................\n[CV]  max_depth=3, max_features=15, n_estimators=5, score=0.9785407725321889, total=   0.0s\n[CV] max_depth=3, max_features=15, n_estimators=5 ....................\n[CV]  max_depth=3, max_features=15, n_estimators=5, score=0.871244635193133, total=   0.0s\n[CV] max_depth=3, max_features=15, n_estimators=10 ...................\n[CV]  max_depth=3, max_features=15, n_estimators=10, score=0.9145299145299145, total=   0.0s\n[CV] max_depth=3, max_features=15, n_estimators=10 ...................\n[CV]  max_depth=3, max_features=15, n_estimators=10, score=0.9871244635193133, total=   0.0s\n[CV] max_depth=3, max_features=15, n_estimators=10 ...................\n[CV]  max_depth=3, max_features=15, n_estimators=10, score=0.8540772532188842, total=   0.0s\n[CV] max_depth=3, max_features=15, n_estimators=25 ...................\n[CV]  max_depth=3, max_features=15, n_estimators=25, score=0.9444444444444444, total=   0.0s\n[CV] max_depth=3, max_features=15, n_estimators=25 ...................\n"
     ]
    },
    {
     "name": "stdout",
     "output_type": "stream",
     "text": [
      "[CV]  max_depth=3, max_features=15, n_estimators=25, score=0.9914163090128756, total=   0.0s\n[CV] max_depth=3, max_features=15, n_estimators=25 ...................\n[CV]  max_depth=3, max_features=15, n_estimators=25, score=0.871244635193133, total=   0.0s\n[CV] max_depth=3, max_features=15, n_estimators=50 ...................\n[CV]  max_depth=3, max_features=15, n_estimators=50, score=0.9529914529914529, total=   0.1s\n[CV] max_depth=3, max_features=15, n_estimators=50 ...................\n"
     ]
    },
    {
     "name": "stdout",
     "output_type": "stream",
     "text": [
      "[CV]  max_depth=3, max_features=15, n_estimators=50, score=0.9871244635193133, total=   0.1s\n[CV] max_depth=3, max_features=15, n_estimators=50 ...................\n[CV]  max_depth=3, max_features=15, n_estimators=50, score=0.8669527896995708, total=   0.1s\n[CV] max_depth=3, max_features=15, n_estimators=150 ..................\n"
     ]
    },
    {
     "name": "stdout",
     "output_type": "stream",
     "text": [
      "[CV]  max_depth=3, max_features=15, n_estimators=150, score=0.9529914529914529, total=   0.3s\n[CV] max_depth=3, max_features=15, n_estimators=150 ..................\n"
     ]
    },
    {
     "name": "stdout",
     "output_type": "stream",
     "text": [
      "[CV]  max_depth=3, max_features=15, n_estimators=150, score=0.9871244635193133, total=   0.3s\n[CV] max_depth=3, max_features=15, n_estimators=150 ..................\n"
     ]
    },
    {
     "name": "stdout",
     "output_type": "stream",
     "text": [
      "[CV]  max_depth=3, max_features=15, n_estimators=150, score=0.8755364806866953, total=   0.3s\n[CV] max_depth=3, max_features=20, n_estimators=3 ....................\n[CV]  max_depth=3, max_features=20, n_estimators=3, score=0.9102564102564102, total=   0.0s\n[CV] max_depth=3, max_features=20, n_estimators=3 ....................\n[CV]  max_depth=3, max_features=20, n_estimators=3, score=0.9613733905579399, total=   0.0s\n[CV] max_depth=3, max_features=20, n_estimators=3 ....................\n[CV]  max_depth=3, max_features=20, n_estimators=3, score=0.8369098712446352, total=   0.0s\n[CV] max_depth=3, max_features=20, n_estimators=5 ....................\n[CV]  max_depth=3, max_features=20, n_estimators=5, score=0.8931623931623932, total=   0.0s\n[CV] max_depth=3, max_features=20, n_estimators=5 ....................\n[CV]  max_depth=3, max_features=20, n_estimators=5, score=0.9656652360515021, total=   0.0s\n[CV] max_depth=3, max_features=20, n_estimators=5 ....................\n[CV]  max_depth=3, max_features=20, n_estimators=5, score=0.8240343347639485, total=   0.0s\n[CV] max_depth=3, max_features=20, n_estimators=10 ...................\n[CV]  max_depth=3, max_features=20, n_estimators=10, score=0.9145299145299145, total=   0.0s\n[CV] max_depth=3, max_features=20, n_estimators=10 ...................\n[CV]  max_depth=3, max_features=20, n_estimators=10, score=0.9871244635193133, total=   0.0s\n[CV] max_depth=3, max_features=20, n_estimators=10 ...................\n[CV]  max_depth=3, max_features=20, n_estimators=10, score=0.8583690987124464, total=   0.0s\n[CV] max_depth=3, max_features=20, n_estimators=25 ...................\n"
     ]
    },
    {
     "name": "stdout",
     "output_type": "stream",
     "text": [
      "[CV]  max_depth=3, max_features=20, n_estimators=25, score=0.9358974358974359, total=   0.1s\n[CV] max_depth=3, max_features=20, n_estimators=25 ...................\n[CV]  max_depth=3, max_features=20, n_estimators=25, score=0.9828326180257511, total=   0.1s\n[CV] max_depth=3, max_features=20, n_estimators=25 ...................\n[CV]  max_depth=3, max_features=20, n_estimators=25, score=0.8755364806866953, total=   0.1s\n[CV] max_depth=3, max_features=20, n_estimators=50 ...................\n"
     ]
    },
    {
     "name": "stdout",
     "output_type": "stream",
     "text": [
      "[CV]  max_depth=3, max_features=20, n_estimators=50, score=0.9529914529914529, total=   0.1s\n[CV] max_depth=3, max_features=20, n_estimators=50 ...................\n[CV]  max_depth=3, max_features=20, n_estimators=50, score=0.9785407725321889, total=   0.1s\n[CV] max_depth=3, max_features=20, n_estimators=50 ...................\n"
     ]
    },
    {
     "name": "stdout",
     "output_type": "stream",
     "text": [
      "[CV]  max_depth=3, max_features=20, n_estimators=50, score=0.8583690987124464, total=   0.1s\n[CV] max_depth=3, max_features=20, n_estimators=150 ..................\n"
     ]
    },
    {
     "name": "stdout",
     "output_type": "stream",
     "text": [
      "[CV]  max_depth=3, max_features=20, n_estimators=150, score=0.9401709401709402, total=   0.3s\n[CV] max_depth=3, max_features=20, n_estimators=150 ..................\n"
     ]
    },
    {
     "name": "stdout",
     "output_type": "stream",
     "text": [
      "[CV]  max_depth=3, max_features=20, n_estimators=150, score=0.9828326180257511, total=   0.3s\n[CV] max_depth=3, max_features=20, n_estimators=150 ..................\n"
     ]
    },
    {
     "name": "stdout",
     "output_type": "stream",
     "text": [
      "[CV]  max_depth=3, max_features=20, n_estimators=150, score=0.8412017167381974, total=   0.3s\n[CV] max_depth=5, max_features=4, n_estimators=3 .....................\n[CV]  max_depth=5, max_features=4, n_estimators=3, score=0.9273504273504274, total=   0.0s\n[CV] max_depth=5, max_features=4, n_estimators=3 .....................\n[CV]  max_depth=5, max_features=4, n_estimators=3, score=0.8841201716738197, total=   0.0s\n[CV] max_depth=5, max_features=4, n_estimators=3 .....................\n[CV]  max_depth=5, max_features=4, n_estimators=3, score=0.8154506437768241, total=   0.0s\n[CV] max_depth=5, max_features=4, n_estimators=5 .....................\n[CV]  max_depth=5, max_features=4, n_estimators=5, score=0.9145299145299145, total=   0.0s\n[CV] max_depth=5, max_features=4, n_estimators=5 .....................\n[CV]  max_depth=5, max_features=4, n_estimators=5, score=0.9141630901287554, total=   0.0s\n[CV] max_depth=5, max_features=4, n_estimators=5 .....................\n[CV]  max_depth=5, max_features=4, n_estimators=5, score=0.8669527896995708, total=   0.0s\n[CV] max_depth=5, max_features=4, n_estimators=10 ....................\n[CV]  max_depth=5, max_features=4, n_estimators=10, score=0.9487179487179487, total=   0.0s\n[CV] max_depth=5, max_features=4, n_estimators=10 ....................\n[CV]  max_depth=5, max_features=4, n_estimators=10, score=0.9399141630901288, total=   0.0s\n[CV] max_depth=5, max_features=4, n_estimators=10 ....................\n[CV]  max_depth=5, max_features=4, n_estimators=10, score=0.8884120171673819, total=   0.0s\n[CV] max_depth=5, max_features=4, n_estimators=25 ....................\n[CV]  max_depth=5, max_features=4, n_estimators=25, score=0.9615384615384616, total=   0.0s\n[CV] max_depth=5, max_features=4, n_estimators=25 ....................\n"
     ]
    },
    {
     "name": "stdout",
     "output_type": "stream",
     "text": [
      "[CV]  max_depth=5, max_features=4, n_estimators=25, score=0.9613733905579399, total=   0.0s\n[CV] max_depth=5, max_features=4, n_estimators=25 ....................\n[CV]  max_depth=5, max_features=4, n_estimators=25, score=0.9055793991416309, total=   0.0s\n[CV] max_depth=5, max_features=4, n_estimators=50 ....................\n[CV]  max_depth=5, max_features=4, n_estimators=50, score=0.9615384615384616, total=   0.1s\n[CV] max_depth=5, max_features=4, n_estimators=50 ....................\n"
     ]
    },
    {
     "name": "stdout",
     "output_type": "stream",
     "text": [
      "[CV]  max_depth=5, max_features=4, n_estimators=50, score=0.9785407725321889, total=   0.1s\n[CV] max_depth=5, max_features=4, n_estimators=50 ....................\n[CV]  max_depth=5, max_features=4, n_estimators=50, score=0.9012875536480687, total=   0.1s\n[CV] max_depth=5, max_features=4, n_estimators=150 ...................\n"
     ]
    },
    {
     "name": "stdout",
     "output_type": "stream",
     "text": [
      "[CV]  max_depth=5, max_features=4, n_estimators=150, score=0.9658119658119658, total=   0.2s\n[CV] max_depth=5, max_features=4, n_estimators=150 ...................\n"
     ]
    },
    {
     "name": "stdout",
     "output_type": "stream",
     "text": [
      "[CV]  max_depth=5, max_features=4, n_estimators=150, score=0.9871244635193133, total=   0.2s\n[CV] max_depth=5, max_features=4, n_estimators=150 ...................\n"
     ]
    },
    {
     "name": "stdout",
     "output_type": "stream",
     "text": [
      "[CV]  max_depth=5, max_features=4, n_estimators=150, score=0.9055793991416309, total=   0.2s\n[CV] max_depth=5, max_features=7, n_estimators=3 .....................\n[CV]  max_depth=5, max_features=7, n_estimators=3, score=0.8931623931623932, total=   0.0s\n[CV] max_depth=5, max_features=7, n_estimators=3 .....................\n[CV]  max_depth=5, max_features=7, n_estimators=3, score=0.8841201716738197, total=   0.0s\n[CV] max_depth=5, max_features=7, n_estimators=3 .....................\n[CV]  max_depth=5, max_features=7, n_estimators=3, score=0.8626609442060086, total=   0.0s\n[CV] max_depth=5, max_features=7, n_estimators=5 .....................\n[CV]  max_depth=5, max_features=7, n_estimators=5, score=0.9316239316239316, total=   0.0s\n[CV] max_depth=5, max_features=7, n_estimators=5 .....................\n[CV]  max_depth=5, max_features=7, n_estimators=5, score=0.944206008583691, total=   0.0s\n[CV] max_depth=5, max_features=7, n_estimators=5 .....................\n[CV]  max_depth=5, max_features=7, n_estimators=5, score=0.8540772532188842, total=   0.0s\n[CV] max_depth=5, max_features=7, n_estimators=10 ....................\n[CV]  max_depth=5, max_features=7, n_estimators=10, score=0.9529914529914529, total=   0.0s\n[CV] max_depth=5, max_features=7, n_estimators=10 ....................\n[CV]  max_depth=5, max_features=7, n_estimators=10, score=0.9356223175965666, total=   0.0s\n[CV] max_depth=5, max_features=7, n_estimators=10 ....................\n[CV]  max_depth=5, max_features=7, n_estimators=10, score=0.8583690987124464, total=   0.0s\n[CV] max_depth=5, max_features=7, n_estimators=25 ....................\n"
     ]
    },
    {
     "name": "stdout",
     "output_type": "stream",
     "text": [
      "[CV]  max_depth=5, max_features=7, n_estimators=25, score=0.9615384615384616, total=   0.0s\n[CV] max_depth=5, max_features=7, n_estimators=25 ....................\n[CV]  max_depth=5, max_features=7, n_estimators=25, score=0.9570815450643777, total=   0.0s\n[CV] max_depth=5, max_features=7, n_estimators=25 ....................\n[CV]  max_depth=5, max_features=7, n_estimators=25, score=0.8841201716738197, total=   0.0s\n[CV] max_depth=5, max_features=7, n_estimators=50 ....................\n"
     ]
    },
    {
     "name": "stdout",
     "output_type": "stream",
     "text": [
      "[CV]  max_depth=5, max_features=7, n_estimators=50, score=0.9615384615384616, total=   0.1s\n[CV] max_depth=5, max_features=7, n_estimators=50 ....................\n[CV]  max_depth=5, max_features=7, n_estimators=50, score=0.9570815450643777, total=   0.1s\n[CV] max_depth=5, max_features=7, n_estimators=50 ....................\n[CV]  max_depth=5, max_features=7, n_estimators=50, score=0.8798283261802575, total=   0.1s\n[CV] max_depth=5, max_features=7, n_estimators=150 ...................\n"
     ]
    },
    {
     "name": "stdout",
     "output_type": "stream",
     "text": [
      "[CV]  max_depth=5, max_features=7, n_estimators=150, score=0.9529914529914529, total=   0.3s\n[CV] max_depth=5, max_features=7, n_estimators=150 ...................\n"
     ]
    },
    {
     "name": "stdout",
     "output_type": "stream",
     "text": [
      "[CV]  max_depth=5, max_features=7, n_estimators=150, score=0.9656652360515021, total=   0.3s\n[CV] max_depth=5, max_features=7, n_estimators=150 ...................\n"
     ]
    },
    {
     "name": "stdout",
     "output_type": "stream",
     "text": [
      "[CV]  max_depth=5, max_features=7, n_estimators=150, score=0.871244635193133, total=   0.3s\n[CV] max_depth=5, max_features=15, n_estimators=3 ....................\n[CV]  max_depth=5, max_features=15, n_estimators=3, score=0.8632478632478633, total=   0.0s\n[CV] max_depth=5, max_features=15, n_estimators=3 ....................\n[CV]  max_depth=5, max_features=15, n_estimators=3, score=0.9227467811158798, total=   0.0s\n[CV] max_depth=5, max_features=15, n_estimators=3 ....................\n[CV]  max_depth=5, max_features=15, n_estimators=3, score=0.8326180257510729, total=   0.0s\n[CV] max_depth=5, max_features=15, n_estimators=5 ....................\n[CV]  max_depth=5, max_features=15, n_estimators=5, score=0.8974358974358975, total=   0.0s\n[CV] max_depth=5, max_features=15, n_estimators=5 ....................\n[CV]  max_depth=5, max_features=15, n_estimators=5, score=0.9184549356223176, total=   0.0s\n[CV] max_depth=5, max_features=15, n_estimators=5 ....................\n[CV]  max_depth=5, max_features=15, n_estimators=5, score=0.8326180257510729, total=   0.0s\n[CV] max_depth=5, max_features=15, n_estimators=10 ...................\n[CV]  max_depth=5, max_features=15, n_estimators=10, score=0.9401709401709402, total=   0.0s\n[CV] max_depth=5, max_features=15, n_estimators=10 ...................\n[CV]  max_depth=5, max_features=15, n_estimators=10, score=0.944206008583691, total=   0.0s\n[CV] max_depth=5, max_features=15, n_estimators=10 ...................\n[CV]  max_depth=5, max_features=15, n_estimators=10, score=0.8497854077253219, total=   0.0s\n[CV] max_depth=5, max_features=15, n_estimators=25 ...................\n"
     ]
    },
    {
     "name": "stdout",
     "output_type": "stream",
     "text": [
      "[CV]  max_depth=5, max_features=15, n_estimators=25, score=0.9444444444444444, total=   0.1s\n[CV] max_depth=5, max_features=15, n_estimators=25 ...................\n[CV]  max_depth=5, max_features=15, n_estimators=25, score=0.944206008583691, total=   0.1s\n[CV] max_depth=5, max_features=15, n_estimators=25 ...................\n[CV]  max_depth=5, max_features=15, n_estimators=25, score=0.8197424892703863, total=   0.1s\n[CV] max_depth=5, max_features=15, n_estimators=50 ...................\n"
     ]
    },
    {
     "name": "stdout",
     "output_type": "stream",
     "text": [
      "[CV]  max_depth=5, max_features=15, n_estimators=50, score=0.9401709401709402, total=   0.1s\n[CV] max_depth=5, max_features=15, n_estimators=50 ...................\n[CV]  max_depth=5, max_features=15, n_estimators=50, score=0.9484978540772532, total=   0.1s\n[CV] max_depth=5, max_features=15, n_estimators=50 ...................\n"
     ]
    },
    {
     "name": "stdout",
     "output_type": "stream",
     "text": [
      "[CV]  max_depth=5, max_features=15, n_estimators=50, score=0.8326180257510729, total=   0.1s\n[CV] max_depth=5, max_features=15, n_estimators=150 ..................\n"
     ]
    },
    {
     "name": "stdout",
     "output_type": "stream",
     "text": [
      "[CV]  max_depth=5, max_features=15, n_estimators=150, score=0.9316239316239316, total=   0.3s\n[CV] max_depth=5, max_features=15, n_estimators=150 ..................\n"
     ]
    },
    {
     "name": "stdout",
     "output_type": "stream",
     "text": [
      "[CV]  max_depth=5, max_features=15, n_estimators=150, score=0.9613733905579399, total=   0.3s\n[CV] max_depth=5, max_features=15, n_estimators=150 ..................\n"
     ]
    },
    {
     "name": "stdout",
     "output_type": "stream",
     "text": [
      "[CV]  max_depth=5, max_features=15, n_estimators=150, score=0.8454935622317596, total=   0.3s\n[CV] max_depth=5, max_features=20, n_estimators=3 ....................\n[CV]  max_depth=5, max_features=20, n_estimators=3, score=0.8675213675213675, total=   0.0s\n[CV] max_depth=5, max_features=20, n_estimators=3 ....................\n[CV]  max_depth=5, max_features=20, n_estimators=3, score=0.8884120171673819, total=   0.0s\n[CV] max_depth=5, max_features=20, n_estimators=3 ....................\n[CV]  max_depth=5, max_features=20, n_estimators=3, score=0.7896995708154506, total=   0.0s\n[CV] max_depth=5, max_features=20, n_estimators=5 ....................\n[CV]  max_depth=5, max_features=20, n_estimators=5, score=0.9017094017094017, total=   0.0s\n[CV] max_depth=5, max_features=20, n_estimators=5 ....................\n[CV]  max_depth=5, max_features=20, n_estimators=5, score=0.871244635193133, total=   0.0s\n[CV] max_depth=5, max_features=20, n_estimators=5 ....................\n[CV]  max_depth=5, max_features=20, n_estimators=5, score=0.759656652360515, total=   0.0s\n[CV] max_depth=5, max_features=20, n_estimators=10 ...................\n[CV]  max_depth=5, max_features=20, n_estimators=10, score=0.9230769230769231, total=   0.0s\n[CV] max_depth=5, max_features=20, n_estimators=10 ...................\n[CV]  max_depth=5, max_features=20, n_estimators=10, score=0.927038626609442, total=   0.0s\n[CV] max_depth=5, max_features=20, n_estimators=10 ...................\n[CV]  max_depth=5, max_features=20, n_estimators=10, score=0.8025751072961373, total=   0.0s\n[CV] max_depth=5, max_features=20, n_estimators=25 ...................\n"
     ]
    },
    {
     "name": "stdout",
     "output_type": "stream",
     "text": [
      "[CV]  max_depth=5, max_features=20, n_estimators=25, score=0.9273504273504274, total=   0.1s\n[CV] max_depth=5, max_features=20, n_estimators=25 ...................\n[CV]  max_depth=5, max_features=20, n_estimators=25, score=0.9399141630901288, total=   0.1s\n[CV] max_depth=5, max_features=20, n_estimators=25 ...................\n[CV]  max_depth=5, max_features=20, n_estimators=25, score=0.8283261802575107, total=   0.1s\n[CV] max_depth=5, max_features=20, n_estimators=50 ...................\n"
     ]
    },
    {
     "name": "stdout",
     "output_type": "stream",
     "text": [
      "[CV]  max_depth=5, max_features=20, n_estimators=50, score=0.9273504273504274, total=   0.1s\n[CV] max_depth=5, max_features=20, n_estimators=50 ...................\n[CV]  max_depth=5, max_features=20, n_estimators=50, score=0.9484978540772532, total=   0.1s\n[CV] max_depth=5, max_features=20, n_estimators=50 ...................\n"
     ]
    },
    {
     "name": "stdout",
     "output_type": "stream",
     "text": [
      "[CV]  max_depth=5, max_features=20, n_estimators=50, score=0.8240343347639485, total=   0.1s\n[CV] max_depth=5, max_features=20, n_estimators=150 ..................\n"
     ]
    },
    {
     "name": "stdout",
     "output_type": "stream",
     "text": [
      "[CV]  max_depth=5, max_features=20, n_estimators=150, score=0.9316239316239316, total=   0.4s\n[CV] max_depth=5, max_features=20, n_estimators=150 ..................\n"
     ]
    },
    {
     "name": "stdout",
     "output_type": "stream",
     "text": [
      "[CV]  max_depth=5, max_features=20, n_estimators=150, score=0.9484978540772532, total=   0.4s\n[CV] max_depth=5, max_features=20, n_estimators=150 ..................\n"
     ]
    },
    {
     "name": "stdout",
     "output_type": "stream",
     "text": [
      "[CV]  max_depth=5, max_features=20, n_estimators=150, score=0.8197424892703863, total=   0.4s\n[CV] max_depth=7, max_features=4, n_estimators=3 .....................\n[CV]  max_depth=7, max_features=4, n_estimators=3, score=0.8803418803418803, total=   0.0s\n[CV] max_depth=7, max_features=4, n_estimators=3 .....................\n[CV]  max_depth=7, max_features=4, n_estimators=3, score=0.8755364806866953, total=   0.0s\n[CV] max_depth=7, max_features=4, n_estimators=3 .....................\n[CV]  max_depth=7, max_features=4, n_estimators=3, score=0.8154506437768241, total=   0.0s\n[CV] max_depth=7, max_features=4, n_estimators=5 .....................\n[CV]  max_depth=7, max_features=4, n_estimators=5, score=0.9188034188034188, total=   0.0s\n[CV] max_depth=7, max_features=4, n_estimators=5 .....................\n[CV]  max_depth=7, max_features=4, n_estimators=5, score=0.9012875536480687, total=   0.0s\n[CV] max_depth=7, max_features=4, n_estimators=5 .....................\n[CV]  max_depth=7, max_features=4, n_estimators=5, score=0.8540772532188842, total=   0.0s\n[CV] max_depth=7, max_features=4, n_estimators=10 ....................\n[CV]  max_depth=7, max_features=4, n_estimators=10, score=0.9487179487179487, total=   0.0s\n[CV] max_depth=7, max_features=4, n_estimators=10 ....................\n[CV]  max_depth=7, max_features=4, n_estimators=10, score=0.927038626609442, total=   0.0s\n[CV] max_depth=7, max_features=4, n_estimators=10 ....................\n[CV]  max_depth=7, max_features=4, n_estimators=10, score=0.8755364806866953, total=   0.0s\n[CV] max_depth=7, max_features=4, n_estimators=25 ....................\n[CV]  max_depth=7, max_features=4, n_estimators=25, score=0.9615384615384616, total=   0.0s\n[CV] max_depth=7, max_features=4, n_estimators=25 ....................\n"
     ]
    },
    {
     "name": "stdout",
     "output_type": "stream",
     "text": [
      "[CV]  max_depth=7, max_features=4, n_estimators=25, score=0.9313304721030042, total=   0.0s\n[CV] max_depth=7, max_features=4, n_estimators=25 ....................\n[CV]  max_depth=7, max_features=4, n_estimators=25, score=0.8927038626609443, total=   0.0s\n[CV] max_depth=7, max_features=4, n_estimators=50 ....................\n[CV]  max_depth=7, max_features=4, n_estimators=50, score=0.9572649572649573, total=   0.1s\n[CV] max_depth=7, max_features=4, n_estimators=50 ....................\n"
     ]
    },
    {
     "name": "stdout",
     "output_type": "stream",
     "text": [
      "[CV]  max_depth=7, max_features=4, n_estimators=50, score=0.9527896995708155, total=   0.1s\n[CV] max_depth=7, max_features=4, n_estimators=50 ....................\n[CV]  max_depth=7, max_features=4, n_estimators=50, score=0.8969957081545065, total=   0.1s\n[CV] max_depth=7, max_features=4, n_estimators=150 ...................\n"
     ]
    },
    {
     "name": "stdout",
     "output_type": "stream",
     "text": [
      "[CV]  max_depth=7, max_features=4, n_estimators=150, score=0.9700854700854701, total=   0.2s\n[CV] max_depth=7, max_features=4, n_estimators=150 ...................\n"
     ]
    },
    {
     "name": "stdout",
     "output_type": "stream",
     "text": [
      "[CV]  max_depth=7, max_features=4, n_estimators=150, score=0.9699570815450643, total=   0.2s\n[CV] max_depth=7, max_features=4, n_estimators=150 ...................\n"
     ]
    },
    {
     "name": "stdout",
     "output_type": "stream",
     "text": [
      "[CV]  max_depth=7, max_features=4, n_estimators=150, score=0.8969957081545065, total=   0.3s\n[CV] max_depth=7, max_features=7, n_estimators=3 .....................\n[CV]  max_depth=7, max_features=7, n_estimators=3, score=0.8589743589743589, total=   0.0s\n[CV] max_depth=7, max_features=7, n_estimators=3 .....................\n[CV]  max_depth=7, max_features=7, n_estimators=3, score=0.8583690987124464, total=   0.0s\n[CV] max_depth=7, max_features=7, n_estimators=3 .....................\n[CV]  max_depth=7, max_features=7, n_estimators=3, score=0.8197424892703863, total=   0.0s\n[CV] max_depth=7, max_features=7, n_estimators=5 .....................\n[CV]  max_depth=7, max_features=7, n_estimators=5, score=0.8888888888888888, total=   0.0s\n[CV] max_depth=7, max_features=7, n_estimators=5 .....................\n[CV]  max_depth=7, max_features=7, n_estimators=5, score=0.9012875536480687, total=   0.0s\n[CV] max_depth=7, max_features=7, n_estimators=5 .....................\n[CV]  max_depth=7, max_features=7, n_estimators=5, score=0.8497854077253219, total=   0.0s\n[CV] max_depth=7, max_features=7, n_estimators=10 ....................\n[CV]  max_depth=7, max_features=7, n_estimators=10, score=0.9102564102564102, total=   0.0s\n[CV] max_depth=7, max_features=7, n_estimators=10 ....................\n[CV]  max_depth=7, max_features=7, n_estimators=10, score=0.9184549356223176, total=   0.0s\n[CV] max_depth=7, max_features=7, n_estimators=10 ....................\n[CV]  max_depth=7, max_features=7, n_estimators=10, score=0.8497854077253219, total=   0.0s\n[CV] max_depth=7, max_features=7, n_estimators=25 ....................\n"
     ]
    },
    {
     "name": "stdout",
     "output_type": "stream",
     "text": [
      "[CV]  max_depth=7, max_features=7, n_estimators=25, score=0.9102564102564102, total=   0.1s\n[CV] max_depth=7, max_features=7, n_estimators=25 ....................\n[CV]  max_depth=7, max_features=7, n_estimators=25, score=0.9399141630901288, total=   0.0s\n[CV] max_depth=7, max_features=7, n_estimators=25 ....................\n[CV]  max_depth=7, max_features=7, n_estimators=25, score=0.8412017167381974, total=   0.0s\n[CV] max_depth=7, max_features=7, n_estimators=50 ....................\n"
     ]
    },
    {
     "name": "stdout",
     "output_type": "stream",
     "text": [
      "[CV]  max_depth=7, max_features=7, n_estimators=50, score=0.9145299145299145, total=   0.1s\n[CV] max_depth=7, max_features=7, n_estimators=50 ....................\n[CV]  max_depth=7, max_features=7, n_estimators=50, score=0.9399141630901288, total=   0.1s\n[CV] max_depth=7, max_features=7, n_estimators=50 ....................\n"
     ]
    },
    {
     "name": "stdout",
     "output_type": "stream",
     "text": [
      "[CV]  max_depth=7, max_features=7, n_estimators=50, score=0.8283261802575107, total=   0.1s\n[CV] max_depth=7, max_features=7, n_estimators=150 ...................\n"
     ]
    },
    {
     "name": "stdout",
     "output_type": "stream",
     "text": [
      "[CV]  max_depth=7, max_features=7, n_estimators=150, score=0.9316239316239316, total=   0.3s\n[CV] max_depth=7, max_features=7, n_estimators=150 ...................\n"
     ]
    },
    {
     "name": "stdout",
     "output_type": "stream",
     "text": [
      "[CV]  max_depth=7, max_features=7, n_estimators=150, score=0.9399141630901288, total=   0.3s\n[CV] max_depth=7, max_features=7, n_estimators=150 ...................\n"
     ]
    },
    {
     "name": "stdout",
     "output_type": "stream",
     "text": [
      "[CV]  max_depth=7, max_features=7, n_estimators=150, score=0.8240343347639485, total=   0.3s\n[CV] max_depth=7, max_features=15, n_estimators=3 ....................\n[CV]  max_depth=7, max_features=15, n_estimators=3, score=0.8632478632478633, total=   0.0s\n[CV] max_depth=7, max_features=15, n_estimators=3 ....................\n[CV]  max_depth=7, max_features=15, n_estimators=3, score=0.871244635193133, total=   0.0s\n[CV] max_depth=7, max_features=15, n_estimators=3 ....................\n[CV]  max_depth=7, max_features=15, n_estimators=3, score=0.759656652360515, total=   0.0s\n[CV] max_depth=7, max_features=15, n_estimators=5 ....................\n[CV]  max_depth=7, max_features=15, n_estimators=5, score=0.9017094017094017, total=   0.0s\n[CV] max_depth=7, max_features=15, n_estimators=5 ....................\n[CV]  max_depth=7, max_features=15, n_estimators=5, score=0.8841201716738197, total=   0.0s\n[CV] max_depth=7, max_features=15, n_estimators=5 ....................\n[CV]  max_depth=7, max_features=15, n_estimators=5, score=0.7811158798283262, total=   0.0s\n[CV] max_depth=7, max_features=15, n_estimators=10 ...................\n[CV]  max_depth=7, max_features=15, n_estimators=10, score=0.9017094017094017, total=   0.0s\n[CV] max_depth=7, max_features=15, n_estimators=10 ...................\n[CV]  max_depth=7, max_features=15, n_estimators=10, score=0.9141630901287554, total=   0.0s\n[CV] max_depth=7, max_features=15, n_estimators=10 ...................\n[CV]  max_depth=7, max_features=15, n_estimators=10, score=0.7854077253218884, total=   0.0s\n[CV] max_depth=7, max_features=15, n_estimators=25 ...................\n"
     ]
    },
    {
     "name": "stdout",
     "output_type": "stream",
     "text": [
      "[CV]  max_depth=7, max_features=15, n_estimators=25, score=0.9188034188034188, total=   0.1s\n[CV] max_depth=7, max_features=15, n_estimators=25 ...................\n[CV]  max_depth=7, max_features=15, n_estimators=25, score=0.9313304721030042, total=   0.1s\n[CV] max_depth=7, max_features=15, n_estimators=25 ...................\n[CV]  max_depth=7, max_features=15, n_estimators=25, score=0.8197424892703863, total=   0.1s\n[CV] max_depth=7, max_features=15, n_estimators=50 ...................\n"
     ]
    },
    {
     "name": "stdout",
     "output_type": "stream",
     "text": [
      "[CV]  max_depth=7, max_features=15, n_estimators=50, score=0.9316239316239316, total=   0.1s\n[CV] max_depth=7, max_features=15, n_estimators=50 ...................\n[CV]  max_depth=7, max_features=15, n_estimators=50, score=0.9356223175965666, total=   0.1s\n[CV] max_depth=7, max_features=15, n_estimators=50 ...................\n"
     ]
    },
    {
     "name": "stdout",
     "output_type": "stream",
     "text": [
      "[CV]  max_depth=7, max_features=15, n_estimators=50, score=0.8240343347639485, total=   0.1s\n[CV] max_depth=7, max_features=15, n_estimators=150 ..................\n"
     ]
    },
    {
     "name": "stdout",
     "output_type": "stream",
     "text": [
      "[CV]  max_depth=7, max_features=15, n_estimators=150, score=0.9145299145299145, total=   0.4s\n[CV] max_depth=7, max_features=15, n_estimators=150 ..................\n"
     ]
    },
    {
     "name": "stdout",
     "output_type": "stream",
     "text": [
      "[CV]  max_depth=7, max_features=15, n_estimators=150, score=0.944206008583691, total=   0.4s\n[CV] max_depth=7, max_features=15, n_estimators=150 ..................\n"
     ]
    },
    {
     "name": "stdout",
     "output_type": "stream",
     "text": [
      "[CV]  max_depth=7, max_features=15, n_estimators=150, score=0.8197424892703863, total=   0.4s\n[CV] max_depth=7, max_features=20, n_estimators=3 ....................\n[CV]  max_depth=7, max_features=20, n_estimators=3, score=0.8547008547008547, total=   0.0s\n[CV] max_depth=7, max_features=20, n_estimators=3 ....................\n[CV]  max_depth=7, max_features=20, n_estimators=3, score=0.8626609442060086, total=   0.0s\n[CV] max_depth=7, max_features=20, n_estimators=3 ....................\n[CV]  max_depth=7, max_features=20, n_estimators=3, score=0.7081545064377682, total=   0.0s\n[CV] max_depth=7, max_features=20, n_estimators=5 ....................\n[CV]  max_depth=7, max_features=20, n_estimators=5, score=0.8846153846153846, total=   0.0s\n[CV] max_depth=7, max_features=20, n_estimators=5 ....................\n[CV]  max_depth=7, max_features=20, n_estimators=5, score=0.8326180257510729, total=   0.0s\n[CV] max_depth=7, max_features=20, n_estimators=5 ....................\n[CV]  max_depth=7, max_features=20, n_estimators=5, score=0.7854077253218884, total=   0.0s\n[CV] max_depth=7, max_features=20, n_estimators=10 ...................\n[CV]  max_depth=7, max_features=20, n_estimators=10, score=0.9273504273504274, total=   0.0s\n[CV] max_depth=7, max_features=20, n_estimators=10 ...................\n[CV]  max_depth=7, max_features=20, n_estimators=10, score=0.871244635193133, total=   0.0s\n[CV] max_depth=7, max_features=20, n_estimators=10 ...................\n"
     ]
    },
    {
     "name": "stdout",
     "output_type": "stream",
     "text": [
      "[CV]  max_depth=7, max_features=20, n_estimators=10, score=0.7939914163090128, total=   0.0s\n[CV] max_depth=7, max_features=20, n_estimators=25 ...................\n[CV]  max_depth=7, max_features=20, n_estimators=25, score=0.9102564102564102, total=   0.1s\n[CV] max_depth=7, max_features=20, n_estimators=25 ...................\n[CV]  max_depth=7, max_features=20, n_estimators=25, score=0.8969957081545065, total=   0.1s\n[CV] max_depth=7, max_features=20, n_estimators=25 ...................\n"
     ]
    },
    {
     "name": "stdout",
     "output_type": "stream",
     "text": [
      "[CV]  max_depth=7, max_features=20, n_estimators=25, score=0.8154506437768241, total=   0.1s\n[CV] max_depth=7, max_features=20, n_estimators=50 ...................\n[CV]  max_depth=7, max_features=20, n_estimators=50, score=0.9230769230769231, total=   0.1s\n[CV] max_depth=7, max_features=20, n_estimators=50 ...................\n"
     ]
    },
    {
     "name": "stdout",
     "output_type": "stream",
     "text": [
      "[CV]  max_depth=7, max_features=20, n_estimators=50, score=0.9227467811158798, total=   0.1s\n[CV] max_depth=7, max_features=20, n_estimators=50 ...................\n[CV]  max_depth=7, max_features=20, n_estimators=50, score=0.8111587982832618, total=   0.1s\n[CV] max_depth=7, max_features=20, n_estimators=150 ..................\n"
     ]
    },
    {
     "name": "stdout",
     "output_type": "stream",
     "text": [
      "[CV]  max_depth=7, max_features=20, n_estimators=150, score=0.9230769230769231, total=   0.4s\n[CV] max_depth=7, max_features=20, n_estimators=150 ..................\n"
     ]
    },
    {
     "name": "stdout",
     "output_type": "stream",
     "text": [
      "[CV]  max_depth=7, max_features=20, n_estimators=150, score=0.9313304721030042, total=   0.4s\n[CV] max_depth=7, max_features=20, n_estimators=150 ..................\n"
     ]
    },
    {
     "name": "stdout",
     "output_type": "stream",
     "text": [
      "[CV]  max_depth=7, max_features=20, n_estimators=150, score=0.8025751072961373, total=   0.4s\n[CV] max_depth=10, max_features=4, n_estimators=3 ....................\n[CV]  max_depth=10, max_features=4, n_estimators=3, score=0.8675213675213675, total=   0.0s\n[CV] max_depth=10, max_features=4, n_estimators=3 ....................\n[CV]  max_depth=10, max_features=4, n_estimators=3, score=0.8583690987124464, total=   0.0s\n[CV] max_depth=10, max_features=4, n_estimators=3 ....................\n[CV]  max_depth=10, max_features=4, n_estimators=3, score=0.7982832618025751, total=   0.0s\n[CV] max_depth=10, max_features=4, n_estimators=5 ....................\n[CV]  max_depth=10, max_features=4, n_estimators=5, score=0.8760683760683761, total=   0.0s\n[CV] max_depth=10, max_features=4, n_estimators=5 ....................\n[CV]  max_depth=10, max_features=4, n_estimators=5, score=0.8583690987124464, total=   0.0s\n[CV] max_depth=10, max_features=4, n_estimators=5 ....................\n[CV]  max_depth=10, max_features=4, n_estimators=5, score=0.8111587982832618, total=   0.0s\n[CV] max_depth=10, max_features=4, n_estimators=10 ...................\n[CV]  max_depth=10, max_features=4, n_estimators=10, score=0.9273504273504274, total=   0.0s\n[CV] max_depth=10, max_features=4, n_estimators=10 ...................\n[CV]  max_depth=10, max_features=4, n_estimators=10, score=0.8884120171673819, total=   0.0s\n[CV] max_depth=10, max_features=4, n_estimators=10 ...................\n[CV]  max_depth=10, max_features=4, n_estimators=10, score=0.8025751072961373, total=   0.0s\n[CV] max_depth=10, max_features=4, n_estimators=25 ...................\n"
     ]
    },
    {
     "name": "stdout",
     "output_type": "stream",
     "text": [
      "[CV]  max_depth=10, max_features=4, n_estimators=25, score=0.9273504273504274, total=   0.0s\n[CV] max_depth=10, max_features=4, n_estimators=25 ...................\n[CV]  max_depth=10, max_features=4, n_estimators=25, score=0.927038626609442, total=   0.0s\n[CV] max_depth=10, max_features=4, n_estimators=25 ...................\n[CV]  max_depth=10, max_features=4, n_estimators=25, score=0.8369098712446352, total=   0.0s\n[CV] max_depth=10, max_features=4, n_estimators=50 ...................\n"
     ]
    },
    {
     "name": "stdout",
     "output_type": "stream",
     "text": [
      "[CV]  max_depth=10, max_features=4, n_estimators=50, score=0.9358974358974359, total=   0.1s\n[CV] max_depth=10, max_features=4, n_estimators=50 ...................\n[CV]  max_depth=10, max_features=4, n_estimators=50, score=0.927038626609442, total=   0.1s\n[CV] max_depth=10, max_features=4, n_estimators=50 ...................\n[CV]  max_depth=10, max_features=4, n_estimators=50, score=0.8454935622317596, total=   0.1s\n[CV] max_depth=10, max_features=4, n_estimators=150 ..................\n"
     ]
    },
    {
     "name": "stdout",
     "output_type": "stream",
     "text": [
      "[CV]  max_depth=10, max_features=4, n_estimators=150, score=0.9444444444444444, total=   0.3s\n[CV] max_depth=10, max_features=4, n_estimators=150 ..................\n"
     ]
    },
    {
     "name": "stdout",
     "output_type": "stream",
     "text": [
      "[CV]  max_depth=10, max_features=4, n_estimators=150, score=0.9484978540772532, total=   0.3s\n[CV] max_depth=10, max_features=4, n_estimators=150 ..................\n"
     ]
    },
    {
     "name": "stdout",
     "output_type": "stream",
     "text": [
      "[CV]  max_depth=10, max_features=4, n_estimators=150, score=0.8497854077253219, total=   0.3s\n[CV] max_depth=10, max_features=7, n_estimators=3 ....................\n[CV]  max_depth=10, max_features=7, n_estimators=3, score=0.8461538461538461, total=   0.0s\n[CV] max_depth=10, max_features=7, n_estimators=3 ....................\n[CV]  max_depth=10, max_features=7, n_estimators=3, score=0.8240343347639485, total=   0.0s\n[CV] max_depth=10, max_features=7, n_estimators=3 ....................\n[CV]  max_depth=10, max_features=7, n_estimators=3, score=0.7081545064377682, total=   0.0s\n[CV] max_depth=10, max_features=7, n_estimators=5 ....................\n[CV]  max_depth=10, max_features=7, n_estimators=5, score=0.8760683760683761, total=   0.0s\n[CV] max_depth=10, max_features=7, n_estimators=5 ....................\n[CV]  max_depth=10, max_features=7, n_estimators=5, score=0.8369098712446352, total=   0.0s\n[CV] max_depth=10, max_features=7, n_estimators=5 ....................\n[CV]  max_depth=10, max_features=7, n_estimators=5, score=0.7424892703862661, total=   0.0s\n[CV] max_depth=10, max_features=7, n_estimators=10 ...................\n[CV]  max_depth=10, max_features=7, n_estimators=10, score=0.9017094017094017, total=   0.0s\n[CV] max_depth=10, max_features=7, n_estimators=10 ...................\n[CV]  max_depth=10, max_features=7, n_estimators=10, score=0.8841201716738197, total=   0.0s\n[CV] max_depth=10, max_features=7, n_estimators=10 ...................\n[CV]  max_depth=10, max_features=7, n_estimators=10, score=0.7725321888412017, total=   0.0s\n[CV] max_depth=10, max_features=7, n_estimators=25 ...................\n"
     ]
    },
    {
     "name": "stdout",
     "output_type": "stream",
     "text": [
      "[CV]  max_depth=10, max_features=7, n_estimators=25, score=0.9102564102564102, total=   0.1s\n[CV] max_depth=10, max_features=7, n_estimators=25 ...................\n[CV]  max_depth=10, max_features=7, n_estimators=25, score=0.9227467811158798, total=   0.1s\n[CV] max_depth=10, max_features=7, n_estimators=25 ...................\n[CV]  max_depth=10, max_features=7, n_estimators=25, score=0.8068669527896996, total=   0.1s\n[CV] max_depth=10, max_features=7, n_estimators=50 ...................\n"
     ]
    },
    {
     "name": "stdout",
     "output_type": "stream",
     "text": [
      "[CV]  max_depth=10, max_features=7, n_estimators=50, score=0.9145299145299145, total=   0.1s\n[CV] max_depth=10, max_features=7, n_estimators=50 ...................\n[CV]  max_depth=10, max_features=7, n_estimators=50, score=0.9227467811158798, total=   0.1s\n[CV] max_depth=10, max_features=7, n_estimators=50 ...................\n"
     ]
    },
    {
     "name": "stdout",
     "output_type": "stream",
     "text": [
      "[CV]  max_depth=10, max_features=7, n_estimators=50, score=0.8412017167381974, total=   0.1s\n[CV] max_depth=10, max_features=7, n_estimators=150 ..................\n"
     ]
    },
    {
     "name": "stdout",
     "output_type": "stream",
     "text": [
      "[CV]  max_depth=10, max_features=7, n_estimators=150, score=0.9102564102564102, total=   0.3s\n[CV] max_depth=10, max_features=7, n_estimators=150 ..................\n"
     ]
    },
    {
     "name": "stdout",
     "output_type": "stream",
     "text": [
      "[CV]  max_depth=10, max_features=7, n_estimators=150, score=0.927038626609442, total=   0.3s\n[CV] max_depth=10, max_features=7, n_estimators=150 ..................\n"
     ]
    },
    {
     "name": "stdout",
     "output_type": "stream",
     "text": [
      "[CV]  max_depth=10, max_features=7, n_estimators=150, score=0.8412017167381974, total=   0.3s\n[CV] max_depth=10, max_features=15, n_estimators=3 ...................\n[CV]  max_depth=10, max_features=15, n_estimators=3, score=0.8504273504273504, total=   0.0s\n[CV] max_depth=10, max_features=15, n_estimators=3 ...................\n[CV]  max_depth=10, max_features=15, n_estimators=3, score=0.871244635193133, total=   0.0s\n[CV] max_depth=10, max_features=15, n_estimators=3 ...................\n[CV]  max_depth=10, max_features=15, n_estimators=3, score=0.7639484978540773, total=   0.0s\n[CV] max_depth=10, max_features=15, n_estimators=5 ...................\n[CV]  max_depth=10, max_features=15, n_estimators=5, score=0.8504273504273504, total=   0.0s\n[CV] max_depth=10, max_features=15, n_estimators=5 ...................\n[CV]  max_depth=10, max_features=15, n_estimators=5, score=0.8798283261802575, total=   0.0s\n[CV] max_depth=10, max_features=15, n_estimators=5 ...................\n[CV]  max_depth=10, max_features=15, n_estimators=5, score=0.7982832618025751, total=   0.0s\n[CV] max_depth=10, max_features=15, n_estimators=10 ..................\n[CV]  max_depth=10, max_features=15, n_estimators=10, score=0.8717948717948718, total=   0.0s\n[CV] max_depth=10, max_features=15, n_estimators=10 ..................\n[CV]  max_depth=10, max_features=15, n_estimators=10, score=0.8927038626609443, total=   0.0s\n[CV] max_depth=10, max_features=15, n_estimators=10 ..................\n"
     ]
    },
    {
     "name": "stdout",
     "output_type": "stream",
     "text": [
      "[CV]  max_depth=10, max_features=15, n_estimators=10, score=0.7896995708154506, total=   0.0s\n[CV] max_depth=10, max_features=15, n_estimators=25 ..................\n[CV]  max_depth=10, max_features=15, n_estimators=25, score=0.8888888888888888, total=   0.1s\n[CV] max_depth=10, max_features=15, n_estimators=25 ..................\n[CV]  max_depth=10, max_features=15, n_estimators=25, score=0.9184549356223176, total=   0.1s\n[CV] max_depth=10, max_features=15, n_estimators=25 ..................\n"
     ]
    },
    {
     "name": "stdout",
     "output_type": "stream",
     "text": [
      "[CV]  max_depth=10, max_features=15, n_estimators=25, score=0.8197424892703863, total=   0.1s\n[CV] max_depth=10, max_features=15, n_estimators=50 ..................\n[CV]  max_depth=10, max_features=15, n_estimators=50, score=0.9017094017094017, total=   0.1s\n[CV] max_depth=10, max_features=15, n_estimators=50 ..................\n"
     ]
    },
    {
     "name": "stdout",
     "output_type": "stream",
     "text": [
      "[CV]  max_depth=10, max_features=15, n_estimators=50, score=0.9184549356223176, total=   0.1s\n[CV] max_depth=10, max_features=15, n_estimators=50 ..................\n[CV]  max_depth=10, max_features=15, n_estimators=50, score=0.7982832618025751, total=   0.1s\n[CV] max_depth=10, max_features=15, n_estimators=150 .................\n"
     ]
    },
    {
     "name": "stdout",
     "output_type": "stream",
     "text": [
      "[CV]  max_depth=10, max_features=15, n_estimators=150, score=0.9017094017094017, total=   0.4s\n[CV] max_depth=10, max_features=15, n_estimators=150 .................\n"
     ]
    },
    {
     "name": "stdout",
     "output_type": "stream",
     "text": [
      "[CV]  max_depth=10, max_features=15, n_estimators=150, score=0.9356223175965666, total=   0.4s\n[CV] max_depth=10, max_features=15, n_estimators=150 .................\n"
     ]
    },
    {
     "name": "stdout",
     "output_type": "stream",
     "text": [
      "[CV]  max_depth=10, max_features=15, n_estimators=150, score=0.7939914163090128, total=   0.4s\n[CV] max_depth=10, max_features=20, n_estimators=3 ...................\n[CV]  max_depth=10, max_features=20, n_estimators=3, score=0.8418803418803419, total=   0.0s\n[CV] max_depth=10, max_features=20, n_estimators=3 ...................\n[CV]  max_depth=10, max_features=20, n_estimators=3, score=0.8154506437768241, total=   0.0s\n[CV] max_depth=10, max_features=20, n_estimators=3 ...................\n[CV]  max_depth=10, max_features=20, n_estimators=3, score=0.7124463519313304, total=   0.0s\n[CV] max_depth=10, max_features=20, n_estimators=5 ...................\n[CV]  max_depth=10, max_features=20, n_estimators=5, score=0.8504273504273504, total=   0.0s\n[CV] max_depth=10, max_features=20, n_estimators=5 ...................\n[CV]  max_depth=10, max_features=20, n_estimators=5, score=0.8283261802575107, total=   0.0s\n[CV] max_depth=10, max_features=20, n_estimators=5 ...................\n[CV]  max_depth=10, max_features=20, n_estimators=5, score=0.7381974248927039, total=   0.0s\n[CV] max_depth=10, max_features=20, n_estimators=10 ..................\n[CV]  max_depth=10, max_features=20, n_estimators=10, score=0.8504273504273504, total=   0.0s\n[CV] max_depth=10, max_features=20, n_estimators=10 ..................\n[CV]  max_depth=10, max_features=20, n_estimators=10, score=0.8283261802575107, total=   0.0s\n[CV] max_depth=10, max_features=20, n_estimators=10 ..................\n"
     ]
    },
    {
     "name": "stdout",
     "output_type": "stream",
     "text": [
      "[CV]  max_depth=10, max_features=20, n_estimators=10, score=0.7682403433476395, total=   0.0s\n[CV] max_depth=10, max_features=20, n_estimators=25 ..................\n[CV]  max_depth=10, max_features=20, n_estimators=25, score=0.905982905982906, total=   0.1s\n[CV] max_depth=10, max_features=20, n_estimators=25 ..................\n[CV]  max_depth=10, max_features=20, n_estimators=25, score=0.8755364806866953, total=   0.1s\n[CV] max_depth=10, max_features=20, n_estimators=25 ..................\n"
     ]
    },
    {
     "name": "stdout",
     "output_type": "stream",
     "text": [
      "[CV]  max_depth=10, max_features=20, n_estimators=25, score=0.7896995708154506, total=   0.1s\n[CV] max_depth=10, max_features=20, n_estimators=50 ..................\n[CV]  max_depth=10, max_features=20, n_estimators=50, score=0.9102564102564102, total=   0.2s\n[CV] max_depth=10, max_features=20, n_estimators=50 ..................\n"
     ]
    },
    {
     "name": "stdout",
     "output_type": "stream",
     "text": [
      "[CV]  max_depth=10, max_features=20, n_estimators=50, score=0.8884120171673819, total=   0.2s\n[CV] max_depth=10, max_features=20, n_estimators=50 ..................\n[CV]  max_depth=10, max_features=20, n_estimators=50, score=0.7854077253218884, total=   0.2s\n[CV] max_depth=10, max_features=20, n_estimators=150 .................\n"
     ]
    },
    {
     "name": "stdout",
     "output_type": "stream",
     "text": [
      "[CV]  max_depth=10, max_features=20, n_estimators=150, score=0.9017094017094017, total=   0.5s\n[CV] max_depth=10, max_features=20, n_estimators=150 .................\n"
     ]
    },
    {
     "name": "stdout",
     "output_type": "stream",
     "text": [
      "[CV]  max_depth=10, max_features=20, n_estimators=150, score=0.927038626609442, total=   0.5s\n[CV] max_depth=10, max_features=20, n_estimators=150 .................\n"
     ]
    },
    {
     "name": "stdout",
     "output_type": "stream",
     "text": [
      "[CV]  max_depth=10, max_features=20, n_estimators=150, score=0.7896995708154506, total=   0.5s\n[CV] max_depth=None, max_features=4, n_estimators=3 ..................\n[CV]  max_depth=None, max_features=4, n_estimators=3, score=0.8461538461538461, total=   0.0s\n[CV] max_depth=None, max_features=4, n_estimators=3 ..................\n[CV]  max_depth=None, max_features=4, n_estimators=3, score=0.8068669527896996, total=   0.0s\n[CV] max_depth=None, max_features=4, n_estimators=3 ..................\n[CV]  max_depth=None, max_features=4, n_estimators=3, score=0.7296137339055794, total=   0.0s\n[CV] max_depth=None, max_features=4, n_estimators=5 ..................\n[CV]  max_depth=None, max_features=4, n_estimators=5, score=0.8547008547008547, total=   0.0s\n[CV] max_depth=None, max_features=4, n_estimators=5 ..................\n[CV]  max_depth=None, max_features=4, n_estimators=5, score=0.8454935622317596, total=   0.0s\n[CV] max_depth=None, max_features=4, n_estimators=5 ..................\n[CV]  max_depth=None, max_features=4, n_estimators=5, score=0.7854077253218884, total=   0.0s\n[CV] max_depth=None, max_features=4, n_estimators=10 .................\n[CV]  max_depth=None, max_features=4, n_estimators=10, score=0.8717948717948718, total=   0.0s\n[CV] max_depth=None, max_features=4, n_estimators=10 .................\n[CV]  max_depth=None, max_features=4, n_estimators=10, score=0.8326180257510729, total=   0.0s\n[CV] max_depth=None, max_features=4, n_estimators=10 .................\n[CV]  max_depth=None, max_features=4, n_estimators=10, score=0.7682403433476395, total=   0.0s\n[CV] max_depth=None, max_features=4, n_estimators=25 .................\n"
     ]
    },
    {
     "name": "stdout",
     "output_type": "stream",
     "text": [
      "[CV]  max_depth=None, max_features=4, n_estimators=25, score=0.9316239316239316, total=   0.0s\n[CV] max_depth=None, max_features=4, n_estimators=25 .................\n[CV]  max_depth=None, max_features=4, n_estimators=25, score=0.9356223175965666, total=   0.0s\n[CV] max_depth=None, max_features=4, n_estimators=25 .................\n[CV]  max_depth=None, max_features=4, n_estimators=25, score=0.8454935622317596, total=   0.0s\n[CV] max_depth=None, max_features=4, n_estimators=50 .................\n"
     ]
    },
    {
     "name": "stdout",
     "output_type": "stream",
     "text": [
      "[CV]  max_depth=None, max_features=4, n_estimators=50, score=0.9102564102564102, total=   0.1s\n[CV] max_depth=None, max_features=4, n_estimators=50 .................\n[CV]  max_depth=None, max_features=4, n_estimators=50, score=0.9227467811158798, total=   0.1s\n[CV] max_depth=None, max_features=4, n_estimators=50 .................\n"
     ]
    },
    {
     "name": "stdout",
     "output_type": "stream",
     "text": [
      "[CV]  max_depth=None, max_features=4, n_estimators=50, score=0.8283261802575107, total=   0.1s\n[CV] max_depth=None, max_features=4, n_estimators=150 ................\n"
     ]
    },
    {
     "name": "stdout",
     "output_type": "stream",
     "text": [
      "[CV]  max_depth=None, max_features=4, n_estimators=150, score=0.9145299145299145, total=   0.3s\n[CV] max_depth=None, max_features=4, n_estimators=150 ................\n"
     ]
    },
    {
     "name": "stdout",
     "output_type": "stream",
     "text": [
      "[CV]  max_depth=None, max_features=4, n_estimators=150, score=0.9313304721030042, total=   0.3s\n[CV] max_depth=None, max_features=4, n_estimators=150 ................\n"
     ]
    },
    {
     "name": "stdout",
     "output_type": "stream",
     "text": [
      "[CV]  max_depth=None, max_features=4, n_estimators=150, score=0.8369098712446352, total=   0.3s\n[CV] max_depth=None, max_features=7, n_estimators=3 ..................\n[CV]  max_depth=None, max_features=7, n_estimators=3, score=0.8162393162393162, total=   0.0s\n[CV] max_depth=None, max_features=7, n_estimators=3 ..................\n[CV]  max_depth=None, max_features=7, n_estimators=3, score=0.7982832618025751, total=   0.0s\n[CV] max_depth=None, max_features=7, n_estimators=3 ..................\n[CV]  max_depth=None, max_features=7, n_estimators=3, score=0.7982832618025751, total=   0.0s\n[CV] max_depth=None, max_features=7, n_estimators=5 ..................\n[CV]  max_depth=None, max_features=7, n_estimators=5, score=0.8547008547008547, total=   0.0s\n[CV] max_depth=None, max_features=7, n_estimators=5 ..................\n[CV]  max_depth=None, max_features=7, n_estimators=5, score=0.8497854077253219, total=   0.0s\n[CV] max_depth=None, max_features=7, n_estimators=5 ..................\n[CV]  max_depth=None, max_features=7, n_estimators=5, score=0.8326180257510729, total=   0.0s\n[CV] max_depth=None, max_features=7, n_estimators=10 .................\n[CV]  max_depth=None, max_features=7, n_estimators=10, score=0.8333333333333334, total=   0.0s\n[CV] max_depth=None, max_features=7, n_estimators=10 .................\n[CV]  max_depth=None, max_features=7, n_estimators=10, score=0.8669527896995708, total=   0.0s\n[CV] max_depth=None, max_features=7, n_estimators=10 .................\n[CV]  max_depth=None, max_features=7, n_estimators=10, score=0.7467811158798283, total=   0.0s\n[CV] max_depth=None, max_features=7, n_estimators=25 .................\n"
     ]
    },
    {
     "name": "stdout",
     "output_type": "stream",
     "text": [
      "[CV]  max_depth=None, max_features=7, n_estimators=25, score=0.9017094017094017, total=   0.1s\n[CV] max_depth=None, max_features=7, n_estimators=25 .................\n[CV]  max_depth=None, max_features=7, n_estimators=25, score=0.9012875536480687, total=   0.1s\n[CV] max_depth=None, max_features=7, n_estimators=25 .................\n[CV]  max_depth=None, max_features=7, n_estimators=25, score=0.8154506437768241, total=   0.1s\n[CV] max_depth=None, max_features=7, n_estimators=50 .................\n"
     ]
    },
    {
     "name": "stdout",
     "output_type": "stream",
     "text": [
      "[CV]  max_depth=None, max_features=7, n_estimators=50, score=0.8888888888888888, total=   0.1s\n[CV] max_depth=None, max_features=7, n_estimators=50 .................\n[CV]  max_depth=None, max_features=7, n_estimators=50, score=0.9227467811158798, total=   0.1s\n[CV] max_depth=None, max_features=7, n_estimators=50 .................\n"
     ]
    },
    {
     "name": "stdout",
     "output_type": "stream",
     "text": [
      "[CV]  max_depth=None, max_features=7, n_estimators=50, score=0.8111587982832618, total=   0.1s\n[CV] max_depth=None, max_features=7, n_estimators=150 ................\n"
     ]
    },
    {
     "name": "stdout",
     "output_type": "stream",
     "text": [
      "[CV]  max_depth=None, max_features=7, n_estimators=150, score=0.8931623931623932, total=   0.3s\n[CV] max_depth=None, max_features=7, n_estimators=150 ................\n"
     ]
    },
    {
     "name": "stdout",
     "output_type": "stream",
     "text": [
      "[CV]  max_depth=None, max_features=7, n_estimators=150, score=0.927038626609442, total=   0.3s\n[CV] max_depth=None, max_features=7, n_estimators=150 ................\n"
     ]
    },
    {
     "name": "stdout",
     "output_type": "stream",
     "text": [
      "[CV]  max_depth=None, max_features=7, n_estimators=150, score=0.8240343347639485, total=   0.3s\n[CV] max_depth=None, max_features=15, n_estimators=3 .................\n[CV]  max_depth=None, max_features=15, n_estimators=3, score=0.8632478632478633, total=   0.0s\n[CV] max_depth=None, max_features=15, n_estimators=3 .................\n[CV]  max_depth=None, max_features=15, n_estimators=3, score=0.8197424892703863, total=   0.0s\n[CV] max_depth=None, max_features=15, n_estimators=3 .................\n[CV]  max_depth=None, max_features=15, n_estimators=3, score=0.7939914163090128, total=   0.0s\n[CV] max_depth=None, max_features=15, n_estimators=5 .................\n[CV]  max_depth=None, max_features=15, n_estimators=5, score=0.8632478632478633, total=   0.0s\n[CV] max_depth=None, max_features=15, n_estimators=5 .................\n[CV]  max_depth=None, max_features=15, n_estimators=5, score=0.8454935622317596, total=   0.0s\n[CV] max_depth=None, max_features=15, n_estimators=5 .................\n[CV]  max_depth=None, max_features=15, n_estimators=5, score=0.8111587982832618, total=   0.0s\n[CV] max_depth=None, max_features=15, n_estimators=10 ................\n[CV]  max_depth=None, max_features=15, n_estimators=10, score=0.8290598290598291, total=   0.0s\n[CV] max_depth=None, max_features=15, n_estimators=10 ................\n[CV]  max_depth=None, max_features=15, n_estimators=10, score=0.8197424892703863, total=   0.0s\n[CV] max_depth=None, max_features=15, n_estimators=10 ................\n"
     ]
    },
    {
     "name": "stdout",
     "output_type": "stream",
     "text": [
      "[CV]  max_depth=None, max_features=15, n_estimators=10, score=0.7339055793991416, total=   0.0s\n[CV] max_depth=None, max_features=15, n_estimators=25 ................\n[CV]  max_depth=None, max_features=15, n_estimators=25, score=0.8931623931623932, total=   0.1s\n[CV] max_depth=None, max_features=15, n_estimators=25 ................\n[CV]  max_depth=None, max_features=15, n_estimators=25, score=0.8755364806866953, total=   0.1s\n[CV] max_depth=None, max_features=15, n_estimators=25 ................\n"
     ]
    },
    {
     "name": "stdout",
     "output_type": "stream",
     "text": [
      "[CV]  max_depth=None, max_features=15, n_estimators=25, score=0.8240343347639485, total=   0.1s\n[CV] max_depth=None, max_features=15, n_estimators=50 ................\n[CV]  max_depth=None, max_features=15, n_estimators=50, score=0.8931623931623932, total=   0.2s\n[CV] max_depth=None, max_features=15, n_estimators=50 ................\n"
     ]
    },
    {
     "name": "stdout",
     "output_type": "stream",
     "text": [
      "[CV]  max_depth=None, max_features=15, n_estimators=50, score=0.9012875536480687, total=   0.2s\n[CV] max_depth=None, max_features=15, n_estimators=50 ................\n[CV]  max_depth=None, max_features=15, n_estimators=50, score=0.8025751072961373, total=   0.1s\n[CV] max_depth=None, max_features=15, n_estimators=150 ...............\n"
     ]
    },
    {
     "name": "stdout",
     "output_type": "stream",
     "text": [
      "[CV]  max_depth=None, max_features=15, n_estimators=150, score=0.8974358974358975, total=   0.5s\n[CV] max_depth=None, max_features=15, n_estimators=150 ...............\n"
     ]
    },
    {
     "name": "stdout",
     "output_type": "stream",
     "text": [
      "[CV]  max_depth=None, max_features=15, n_estimators=150, score=0.9184549356223176, total=   0.4s\n[CV] max_depth=None, max_features=15, n_estimators=150 ...............\n"
     ]
    },
    {
     "name": "stdout",
     "output_type": "stream",
     "text": [
      "[CV]  max_depth=None, max_features=15, n_estimators=150, score=0.8197424892703863, total=   0.4s\n[CV] max_depth=None, max_features=20, n_estimators=3 .................\n[CV]  max_depth=None, max_features=20, n_estimators=3, score=0.8333333333333334, total=   0.0s\n[CV] max_depth=None, max_features=20, n_estimators=3 .................\n[CV]  max_depth=None, max_features=20, n_estimators=3, score=0.8025751072961373, total=   0.0s\n[CV] max_depth=None, max_features=20, n_estimators=3 .................\n[CV]  max_depth=None, max_features=20, n_estimators=3, score=0.721030042918455, total=   0.0s\n[CV] max_depth=None, max_features=20, n_estimators=5 .................\n[CV]  max_depth=None, max_features=20, n_estimators=5, score=0.8333333333333334, total=   0.0s\n[CV] max_depth=None, max_features=20, n_estimators=5 .................\n[CV]  max_depth=None, max_features=20, n_estimators=5, score=0.8197424892703863, total=   0.0s\n[CV] max_depth=None, max_features=20, n_estimators=5 .................\n[CV]  max_depth=None, max_features=20, n_estimators=5, score=0.7339055793991416, total=   0.0s\n[CV] max_depth=None, max_features=20, n_estimators=10 ................\n[CV]  max_depth=None, max_features=20, n_estimators=10, score=0.8333333333333334, total=   0.0s\n[CV] max_depth=None, max_features=20, n_estimators=10 ................\n[CV]  max_depth=None, max_features=20, n_estimators=10, score=0.8025751072961373, total=   0.0s\n[CV] max_depth=None, max_features=20, n_estimators=10 ................\n"
     ]
    },
    {
     "name": "stdout",
     "output_type": "stream",
     "text": [
      "[CV]  max_depth=None, max_features=20, n_estimators=10, score=0.7253218884120172, total=   0.0s\n[CV] max_depth=None, max_features=20, n_estimators=25 ................\n[CV]  max_depth=None, max_features=20, n_estimators=25, score=0.8888888888888888, total=   0.1s\n[CV] max_depth=None, max_features=20, n_estimators=25 ................\n[CV]  max_depth=None, max_features=20, n_estimators=25, score=0.871244635193133, total=   0.1s\n[CV] max_depth=None, max_features=20, n_estimators=25 ................\n"
     ]
    },
    {
     "name": "stdout",
     "output_type": "stream",
     "text": [
      "[CV]  max_depth=None, max_features=20, n_estimators=25, score=0.7896995708154506, total=   0.1s\n[CV] max_depth=None, max_features=20, n_estimators=50 ................\n[CV]  max_depth=None, max_features=20, n_estimators=50, score=0.9017094017094017, total=   0.2s\n[CV] max_depth=None, max_features=20, n_estimators=50 ................\n"
     ]
    },
    {
     "name": "stdout",
     "output_type": "stream",
     "text": [
      "[CV]  max_depth=None, max_features=20, n_estimators=50, score=0.8841201716738197, total=   0.2s\n[CV] max_depth=None, max_features=20, n_estimators=50 ................\n[CV]  max_depth=None, max_features=20, n_estimators=50, score=0.7639484978540773, total=   0.2s\n[CV] max_depth=None, max_features=20, n_estimators=150 ...............\n"
     ]
    },
    {
     "name": "stdout",
     "output_type": "stream",
     "text": [
      "[CV]  max_depth=None, max_features=20, n_estimators=150, score=0.8931623931623932, total=   0.5s\n[CV] max_depth=None, max_features=20, n_estimators=150 ...............\n"
     ]
    },
    {
     "name": "stdout",
     "output_type": "stream",
     "text": [
      "[CV]  max_depth=None, max_features=20, n_estimators=150, score=0.9141630901287554, total=   0.5s\n[CV] max_depth=None, max_features=20, n_estimators=150 ...............\n"
     ]
    },
    {
     "name": "stdout",
     "output_type": "stream",
     "text": [
      "[CV]  max_depth=None, max_features=20, n_estimators=150, score=0.7725321888412017, total=   0.5s\n"
     ]
    },
    {
     "name": "stderr",
     "output_type": "stream",
     "text": [
      "[Parallel(n_jobs=1)]: Done 360 out of 360 | elapsed:   36.6s finished\n"
     ]
    },
    {
     "data": {
      "text/plain": [
       "GridSearchCV(cv='warn', error_score='raise-deprecating',\n       estimator=RandomForestClassifier(bootstrap=True, class_weight=None, criterion='gini',\n            max_depth=None, max_features='auto', max_leaf_nodes=None,\n            min_impurity_decrease=0.0, min_impurity_split=None,\n            min_samples_leaf=1, min_samples_split=2,\n            min_weight_fraction_leaf=0.0, n_estimators='warn', n_jobs=None,\n            oob_score=False, random_state=2, verbose=0, warm_start=False),\n       fit_params=None, iid='warn', n_jobs=None,\n       param_grid={'max_depth': [3, 5, 7, 10, None], 'n_estimators': [3, 5, 10, 25, 50, 150], 'max_features': [4, 7, 15, 20]},\n       pre_dispatch='2*n_jobs', refit=True, return_train_score='warn',\n       scoring='recall', verbose=4)"
      ]
     },
     "execution_count": 33,
     "metadata": {},
     "output_type": "execute_result"
    }
   ],
   "source": [
    "param_grid = {\"max_depth\": [3, 5, 7, 10, None],\n",
    "              \"n_estimators\": [3, 5, 10, 25, 50, 150],\n",
    "              \"max_features\": [4, 7, 15, 20]}"
   ]
  },
  {
   "cell_type": "code",
   "execution_count": 33,
   "metadata": {
    "collapsed": true
   },
   "outputs": [
    {
     "name": "stderr",
     "output_type": "stream",
     "text": [
      "/home/ankur/anaconda3/lib/python3.6/site-packages/sklearn/model_selection/_split.py:1943: FutureWarning: You should specify a value for 'cv' instead of relying on the default value. The default value will change from 3 to 5 in version 0.22.\n  warnings.warn(CV_WARNING, FutureWarning)\n[Parallel(n_jobs=1)]: Using backend SequentialBackend with 1 concurrent workers.\n[Parallel(n_jobs=1)]: Done   1 out of   1 | elapsed:    0.0s remaining:    0.0s\n[Parallel(n_jobs=1)]: Done   2 out of   2 | elapsed:    0.0s remaining:    0.0s\n[Parallel(n_jobs=1)]: Done   3 out of   3 | elapsed:    0.1s remaining:    0.0s\n"
     ]
    },
    {
     "name": "stdout",
     "output_type": "stream",
     "text": [
      "Fitting 3 folds for each of 120 candidates, totalling 360 fits\n[CV] max_depth=3, max_features=4, n_estimators=3 .....................\n[CV]  max_depth=3, max_features=4, n_estimators=3, score=0.9358974358974359, total=   0.0s\n[CV] max_depth=3, max_features=4, n_estimators=3 .....................\n[CV]  max_depth=3, max_features=4, n_estimators=3, score=0.9484978540772532, total=   0.0s\n[CV] max_depth=3, max_features=4, n_estimators=3 .....................\n[CV]  max_depth=3, max_features=4, n_estimators=3, score=0.927038626609442, total=   0.0s\n[CV] max_depth=3, max_features=4, n_estimators=5 .....................\n[CV]  max_depth=3, max_features=4, n_estimators=5, score=0.9615384615384616, total=   0.0s\n[CV] max_depth=3, max_features=4, n_estimators=5 .....................\n[CV]  max_depth=3, max_features=4, n_estimators=5, score=0.9828326180257511, total=   0.0s\n[CV] max_depth=3, max_features=4, n_estimators=5 .....................\n[CV]  max_depth=3, max_features=4, n_estimators=5, score=0.9356223175965666, total=   0.0s\n[CV] max_depth=3, max_features=4, n_estimators=10 ....................\n[CV]  max_depth=3, max_features=4, n_estimators=10, score=0.9871794871794872, total=   0.0s\n[CV] max_depth=3, max_features=4, n_estimators=10 ....................\n[CV]  max_depth=3, max_features=4, n_estimators=10, score=0.9785407725321889, total=   0.0s\n[CV] max_depth=3, max_features=4, n_estimators=10 ....................\n"
     ]
    },
    {
     "name": "stdout",
     "output_type": "stream",
     "text": [
      "[CV]  max_depth=3, max_features=4, n_estimators=10, score=0.9656652360515021, total=   0.0s\n[CV] max_depth=3, max_features=4, n_estimators=25 ....................\n[CV]  max_depth=3, max_features=4, n_estimators=25, score=0.9914529914529915, total=   0.0s\n[CV] max_depth=3, max_features=4, n_estimators=25 ....................\n[CV]  max_depth=3, max_features=4, n_estimators=25, score=0.9957081545064378, total=   0.1s\n[CV] max_depth=3, max_features=4, n_estimators=25 ....................\n"
     ]
    },
    {
     "name": "stdout",
     "output_type": "stream",
     "text": [
      "[CV]  max_depth=3, max_features=4, n_estimators=25, score=0.9742489270386266, total=   0.1s\n[CV] max_depth=3, max_features=4, n_estimators=50 ....................\n[CV]  max_depth=3, max_features=4, n_estimators=50, score=0.9914529914529915, total=   0.1s\n[CV] max_depth=3, max_features=4, n_estimators=50 ....................\n"
     ]
    },
    {
     "name": "stdout",
     "output_type": "stream",
     "text": [
      "[CV]  max_depth=3, max_features=4, n_estimators=50, score=0.9957081545064378, total=   0.1s\n[CV] max_depth=3, max_features=4, n_estimators=50 ....................\n[CV]  max_depth=3, max_features=4, n_estimators=50, score=0.9613733905579399, total=   0.1s\n[CV] max_depth=3, max_features=4, n_estimators=150 ...................\n"
     ]
    },
    {
     "name": "stdout",
     "output_type": "stream",
     "text": [
      "[CV]  max_depth=3, max_features=4, n_estimators=150, score=0.9871794871794872, total=   0.2s\n[CV] max_depth=3, max_features=4, n_estimators=150 ...................\n"
     ]
    },
    {
     "name": "stdout",
     "output_type": "stream",
     "text": [
      "[CV]  max_depth=3, max_features=4, n_estimators=150, score=0.9957081545064378, total=   0.2s\n[CV] max_depth=3, max_features=4, n_estimators=150 ...................\n"
     ]
    },
    {
     "name": "stdout",
     "output_type": "stream",
     "text": [
      "[CV]  max_depth=3, max_features=4, n_estimators=150, score=0.9570815450643777, total=   0.2s\n[CV] max_depth=3, max_features=7, n_estimators=3 .....................\n[CV]  max_depth=3, max_features=7, n_estimators=3, score=0.9529914529914529, total=   0.0s\n[CV] max_depth=3, max_features=7, n_estimators=3 .....................\n[CV]  max_depth=3, max_features=7, n_estimators=3, score=0.9828326180257511, total=   0.0s\n[CV] max_depth=3, max_features=7, n_estimators=3 .....................\n[CV]  max_depth=3, max_features=7, n_estimators=3, score=0.9141630901287554, total=   0.0s\n[CV] max_depth=3, max_features=7, n_estimators=5 .....................\n[CV]  max_depth=3, max_features=7, n_estimators=5, score=0.9615384615384616, total=   0.0s\n[CV] max_depth=3, max_features=7, n_estimators=5 .....................\n[CV]  max_depth=3, max_features=7, n_estimators=5, score=0.9957081545064378, total=   0.0s\n[CV] max_depth=3, max_features=7, n_estimators=5 .....................\n[CV]  max_depth=3, max_features=7, n_estimators=5, score=0.9356223175965666, total=   0.0s\n[CV] max_depth=3, max_features=7, n_estimators=10 ....................\n[CV]  max_depth=3, max_features=7, n_estimators=10, score=0.9658119658119658, total=   0.0s\n[CV] max_depth=3, max_features=7, n_estimators=10 ....................\n[CV]  max_depth=3, max_features=7, n_estimators=10, score=0.9914163090128756, total=   0.0s\n[CV] max_depth=3, max_features=7, n_estimators=10 ....................\n[CV]  max_depth=3, max_features=7, n_estimators=10, score=0.9098712446351931, total=   0.0s\n[CV] max_depth=3, max_features=7, n_estimators=25 ....................\n[CV]  max_depth=3, max_features=7, n_estimators=25, score=0.9700854700854701, total=   0.0s\n[CV] max_depth=3, max_features=7, n_estimators=25 ....................\n"
     ]
    },
    {
     "name": "stdout",
     "output_type": "stream",
     "text": [
      "[CV]  max_depth=3, max_features=7, n_estimators=25, score=0.9914163090128756, total=   0.1s\n[CV] max_depth=3, max_features=7, n_estimators=25 ....................\n[CV]  max_depth=3, max_features=7, n_estimators=25, score=0.9141630901287554, total=   0.0s\n[CV] max_depth=3, max_features=7, n_estimators=50 ....................\n[CV]  max_depth=3, max_features=7, n_estimators=50, score=0.9658119658119658, total=   0.1s\n[CV] max_depth=3, max_features=7, n_estimators=50 ....................\n"
     ]
    },
    {
     "name": "stdout",
     "output_type": "stream",
     "text": [
      "[CV]  max_depth=3, max_features=7, n_estimators=50, score=0.9871244635193133, total=   0.1s\n[CV] max_depth=3, max_features=7, n_estimators=50 ....................\n[CV]  max_depth=3, max_features=7, n_estimators=50, score=0.9141630901287554, total=   0.1s\n[CV] max_depth=3, max_features=7, n_estimators=150 ...................\n"
     ]
    },
    {
     "name": "stdout",
     "output_type": "stream",
     "text": [
      "[CV]  max_depth=3, max_features=7, n_estimators=150, score=0.9700854700854701, total=   0.3s\n[CV] max_depth=3, max_features=7, n_estimators=150 ...................\n"
     ]
    },
    {
     "name": "stdout",
     "output_type": "stream",
     "text": [
      "[CV]  max_depth=3, max_features=7, n_estimators=150, score=0.9914163090128756, total=   0.3s\n[CV] max_depth=3, max_features=7, n_estimators=150 ...................\n"
     ]
    },
    {
     "name": "stdout",
     "output_type": "stream",
     "text": [
      "[CV]  max_depth=3, max_features=7, n_estimators=150, score=0.9012875536480687, total=   0.2s\n[CV] max_depth=3, max_features=15, n_estimators=3 ....................\n[CV]  max_depth=3, max_features=15, n_estimators=3, score=0.905982905982906, total=   0.0s\n[CV] max_depth=3, max_features=15, n_estimators=3 ....................\n[CV]  max_depth=3, max_features=15, n_estimators=3, score=0.9742489270386266, total=   0.0s\n[CV] max_depth=3, max_features=15, n_estimators=3 ....................\n[CV]  max_depth=3, max_features=15, n_estimators=3, score=0.9055793991416309, total=   0.0s\n[CV] max_depth=3, max_features=15, n_estimators=5 ....................\n[CV]  max_depth=3, max_features=15, n_estimators=5, score=0.9188034188034188, total=   0.0s\n[CV] max_depth=3, max_features=15, n_estimators=5 ....................\n[CV]  max_depth=3, max_features=15, n_estimators=5, score=0.9785407725321889, total=   0.0s\n[CV] max_depth=3, max_features=15, n_estimators=5 ....................\n[CV]  max_depth=3, max_features=15, n_estimators=5, score=0.871244635193133, total=   0.0s\n[CV] max_depth=3, max_features=15, n_estimators=10 ...................\n[CV]  max_depth=3, max_features=15, n_estimators=10, score=0.9145299145299145, total=   0.0s\n[CV] max_depth=3, max_features=15, n_estimators=10 ...................\n[CV]  max_depth=3, max_features=15, n_estimators=10, score=0.9871244635193133, total=   0.0s\n[CV] max_depth=3, max_features=15, n_estimators=10 ...................\n[CV]  max_depth=3, max_features=15, n_estimators=10, score=0.8540772532188842, total=   0.0s\n[CV] max_depth=3, max_features=15, n_estimators=25 ...................\n[CV]  max_depth=3, max_features=15, n_estimators=25, score=0.9444444444444444, total=   0.0s\n[CV] max_depth=3, max_features=15, n_estimators=25 ...................\n"
     ]
    },
    {
     "name": "stdout",
     "output_type": "stream",
     "text": [
      "[CV]  max_depth=3, max_features=15, n_estimators=25, score=0.9914163090128756, total=   0.0s\n[CV] max_depth=3, max_features=15, n_estimators=25 ...................\n[CV]  max_depth=3, max_features=15, n_estimators=25, score=0.871244635193133, total=   0.0s\n[CV] max_depth=3, max_features=15, n_estimators=50 ...................\n[CV]  max_depth=3, max_features=15, n_estimators=50, score=0.9529914529914529, total=   0.1s\n[CV] max_depth=3, max_features=15, n_estimators=50 ...................\n"
     ]
    },
    {
     "name": "stdout",
     "output_type": "stream",
     "text": [
      "[CV]  max_depth=3, max_features=15, n_estimators=50, score=0.9871244635193133, total=   0.1s\n[CV] max_depth=3, max_features=15, n_estimators=50 ...................\n[CV]  max_depth=3, max_features=15, n_estimators=50, score=0.8669527896995708, total=   0.1s\n[CV] max_depth=3, max_features=15, n_estimators=150 ..................\n"
     ]
    },
    {
     "name": "stdout",
     "output_type": "stream",
     "text": [
      "[CV]  max_depth=3, max_features=15, n_estimators=150, score=0.9529914529914529, total=   0.3s\n[CV] max_depth=3, max_features=15, n_estimators=150 ..................\n"
     ]
    },
    {
     "name": "stdout",
     "output_type": "stream",
     "text": [
      "[CV]  max_depth=3, max_features=15, n_estimators=150, score=0.9871244635193133, total=   0.3s\n[CV] max_depth=3, max_features=15, n_estimators=150 ..................\n"
     ]
    },
    {
     "name": "stdout",
     "output_type": "stream",
     "text": [
      "[CV]  max_depth=3, max_features=15, n_estimators=150, score=0.8755364806866953, total=   0.3s\n[CV] max_depth=3, max_features=20, n_estimators=3 ....................\n[CV]  max_depth=3, max_features=20, n_estimators=3, score=0.9102564102564102, total=   0.0s\n[CV] max_depth=3, max_features=20, n_estimators=3 ....................\n[CV]  max_depth=3, max_features=20, n_estimators=3, score=0.9613733905579399, total=   0.0s\n[CV] max_depth=3, max_features=20, n_estimators=3 ....................\n[CV]  max_depth=3, max_features=20, n_estimators=3, score=0.8369098712446352, total=   0.0s\n[CV] max_depth=3, max_features=20, n_estimators=5 ....................\n[CV]  max_depth=3, max_features=20, n_estimators=5, score=0.8931623931623932, total=   0.0s\n[CV] max_depth=3, max_features=20, n_estimators=5 ....................\n[CV]  max_depth=3, max_features=20, n_estimators=5, score=0.9656652360515021, total=   0.0s\n[CV] max_depth=3, max_features=20, n_estimators=5 ....................\n[CV]  max_depth=3, max_features=20, n_estimators=5, score=0.8240343347639485, total=   0.0s\n[CV] max_depth=3, max_features=20, n_estimators=10 ...................\n[CV]  max_depth=3, max_features=20, n_estimators=10, score=0.9145299145299145, total=   0.0s\n[CV] max_depth=3, max_features=20, n_estimators=10 ...................\n[CV]  max_depth=3, max_features=20, n_estimators=10, score=0.9871244635193133, total=   0.0s\n[CV] max_depth=3, max_features=20, n_estimators=10 ...................\n[CV]  max_depth=3, max_features=20, n_estimators=10, score=0.8583690987124464, total=   0.0s\n[CV] max_depth=3, max_features=20, n_estimators=25 ...................\n"
     ]
    },
    {
     "name": "stdout",
     "output_type": "stream",
     "text": [
      "[CV]  max_depth=3, max_features=20, n_estimators=25, score=0.9358974358974359, total=   0.1s\n[CV] max_depth=3, max_features=20, n_estimators=25 ...................\n[CV]  max_depth=3, max_features=20, n_estimators=25, score=0.9828326180257511, total=   0.1s\n[CV] max_depth=3, max_features=20, n_estimators=25 ...................\n[CV]  max_depth=3, max_features=20, n_estimators=25, score=0.8755364806866953, total=   0.1s\n[CV] max_depth=3, max_features=20, n_estimators=50 ...................\n"
     ]
    },
    {
     "name": "stdout",
     "output_type": "stream",
     "text": [
      "[CV]  max_depth=3, max_features=20, n_estimators=50, score=0.9529914529914529, total=   0.1s\n[CV] max_depth=3, max_features=20, n_estimators=50 ...................\n[CV]  max_depth=3, max_features=20, n_estimators=50, score=0.9785407725321889, total=   0.1s\n[CV] max_depth=3, max_features=20, n_estimators=50 ...................\n"
     ]
    },
    {
     "name": "stdout",
     "output_type": "stream",
     "text": [
      "[CV]  max_depth=3, max_features=20, n_estimators=50, score=0.8583690987124464, total=   0.1s\n[CV] max_depth=3, max_features=20, n_estimators=150 ..................\n"
     ]
    },
    {
     "name": "stdout",
     "output_type": "stream",
     "text": [
      "[CV]  max_depth=3, max_features=20, n_estimators=150, score=0.9401709401709402, total=   0.3s\n[CV] max_depth=3, max_features=20, n_estimators=150 ..................\n"
     ]
    },
    {
     "name": "stdout",
     "output_type": "stream",
     "text": [
      "[CV]  max_depth=3, max_features=20, n_estimators=150, score=0.9828326180257511, total=   0.3s\n[CV] max_depth=3, max_features=20, n_estimators=150 ..................\n"
     ]
    },
    {
     "name": "stdout",
     "output_type": "stream",
     "text": [
      "[CV]  max_depth=3, max_features=20, n_estimators=150, score=0.8412017167381974, total=   0.3s\n[CV] max_depth=5, max_features=4, n_estimators=3 .....................\n[CV]  max_depth=5, max_features=4, n_estimators=3, score=0.9273504273504274, total=   0.0s\n[CV] max_depth=5, max_features=4, n_estimators=3 .....................\n[CV]  max_depth=5, max_features=4, n_estimators=3, score=0.8841201716738197, total=   0.0s\n[CV] max_depth=5, max_features=4, n_estimators=3 .....................\n[CV]  max_depth=5, max_features=4, n_estimators=3, score=0.8154506437768241, total=   0.0s\n[CV] max_depth=5, max_features=4, n_estimators=5 .....................\n[CV]  max_depth=5, max_features=4, n_estimators=5, score=0.9145299145299145, total=   0.0s\n[CV] max_depth=5, max_features=4, n_estimators=5 .....................\n[CV]  max_depth=5, max_features=4, n_estimators=5, score=0.9141630901287554, total=   0.0s\n[CV] max_depth=5, max_features=4, n_estimators=5 .....................\n[CV]  max_depth=5, max_features=4, n_estimators=5, score=0.8669527896995708, total=   0.0s\n[CV] max_depth=5, max_features=4, n_estimators=10 ....................\n[CV]  max_depth=5, max_features=4, n_estimators=10, score=0.9487179487179487, total=   0.0s\n[CV] max_depth=5, max_features=4, n_estimators=10 ....................\n[CV]  max_depth=5, max_features=4, n_estimators=10, score=0.9399141630901288, total=   0.0s\n[CV] max_depth=5, max_features=4, n_estimators=10 ....................\n[CV]  max_depth=5, max_features=4, n_estimators=10, score=0.8884120171673819, total=   0.0s\n[CV] max_depth=5, max_features=4, n_estimators=25 ....................\n[CV]  max_depth=5, max_features=4, n_estimators=25, score=0.9615384615384616, total=   0.0s\n[CV] max_depth=5, max_features=4, n_estimators=25 ....................\n"
     ]
    },
    {
     "name": "stdout",
     "output_type": "stream",
     "text": [
      "[CV]  max_depth=5, max_features=4, n_estimators=25, score=0.9613733905579399, total=   0.0s\n[CV] max_depth=5, max_features=4, n_estimators=25 ....................\n[CV]  max_depth=5, max_features=4, n_estimators=25, score=0.9055793991416309, total=   0.0s\n[CV] max_depth=5, max_features=4, n_estimators=50 ....................\n[CV]  max_depth=5, max_features=4, n_estimators=50, score=0.9615384615384616, total=   0.1s\n[CV] max_depth=5, max_features=4, n_estimators=50 ....................\n"
     ]
    },
    {
     "name": "stdout",
     "output_type": "stream",
     "text": [
      "[CV]  max_depth=5, max_features=4, n_estimators=50, score=0.9785407725321889, total=   0.1s\n[CV] max_depth=5, max_features=4, n_estimators=50 ....................\n[CV]  max_depth=5, max_features=4, n_estimators=50, score=0.9012875536480687, total=   0.1s\n[CV] max_depth=5, max_features=4, n_estimators=150 ...................\n"
     ]
    },
    {
     "name": "stdout",
     "output_type": "stream",
     "text": [
      "[CV]  max_depth=5, max_features=4, n_estimators=150, score=0.9658119658119658, total=   0.2s\n[CV] max_depth=5, max_features=4, n_estimators=150 ...................\n"
     ]
    },
    {
     "name": "stdout",
     "output_type": "stream",
     "text": [
      "[CV]  max_depth=5, max_features=4, n_estimators=150, score=0.9871244635193133, total=   0.2s\n[CV] max_depth=5, max_features=4, n_estimators=150 ...................\n"
     ]
    },
    {
     "name": "stdout",
     "output_type": "stream",
     "text": [
      "[CV]  max_depth=5, max_features=4, n_estimators=150, score=0.9055793991416309, total=   0.2s\n[CV] max_depth=5, max_features=7, n_estimators=3 .....................\n[CV]  max_depth=5, max_features=7, n_estimators=3, score=0.8931623931623932, total=   0.0s\n[CV] max_depth=5, max_features=7, n_estimators=3 .....................\n[CV]  max_depth=5, max_features=7, n_estimators=3, score=0.8841201716738197, total=   0.0s\n[CV] max_depth=5, max_features=7, n_estimators=3 .....................\n[CV]  max_depth=5, max_features=7, n_estimators=3, score=0.8626609442060086, total=   0.0s\n[CV] max_depth=5, max_features=7, n_estimators=5 .....................\n[CV]  max_depth=5, max_features=7, n_estimators=5, score=0.9316239316239316, total=   0.0s\n[CV] max_depth=5, max_features=7, n_estimators=5 .....................\n[CV]  max_depth=5, max_features=7, n_estimators=5, score=0.944206008583691, total=   0.0s\n[CV] max_depth=5, max_features=7, n_estimators=5 .....................\n[CV]  max_depth=5, max_features=7, n_estimators=5, score=0.8540772532188842, total=   0.0s\n[CV] max_depth=5, max_features=7, n_estimators=10 ....................\n[CV]  max_depth=5, max_features=7, n_estimators=10, score=0.9529914529914529, total=   0.0s\n[CV] max_depth=5, max_features=7, n_estimators=10 ....................\n[CV]  max_depth=5, max_features=7, n_estimators=10, score=0.9356223175965666, total=   0.0s\n[CV] max_depth=5, max_features=7, n_estimators=10 ....................\n[CV]  max_depth=5, max_features=7, n_estimators=10, score=0.8583690987124464, total=   0.0s\n[CV] max_depth=5, max_features=7, n_estimators=25 ....................\n"
     ]
    },
    {
     "name": "stdout",
     "output_type": "stream",
     "text": [
      "[CV]  max_depth=5, max_features=7, n_estimators=25, score=0.9615384615384616, total=   0.0s\n[CV] max_depth=5, max_features=7, n_estimators=25 ....................\n[CV]  max_depth=5, max_features=7, n_estimators=25, score=0.9570815450643777, total=   0.0s\n[CV] max_depth=5, max_features=7, n_estimators=25 ....................\n[CV]  max_depth=5, max_features=7, n_estimators=25, score=0.8841201716738197, total=   0.0s\n[CV] max_depth=5, max_features=7, n_estimators=50 ....................\n"
     ]
    },
    {
     "name": "stdout",
     "output_type": "stream",
     "text": [
      "[CV]  max_depth=5, max_features=7, n_estimators=50, score=0.9615384615384616, total=   0.1s\n[CV] max_depth=5, max_features=7, n_estimators=50 ....................\n[CV]  max_depth=5, max_features=7, n_estimators=50, score=0.9570815450643777, total=   0.1s\n[CV] max_depth=5, max_features=7, n_estimators=50 ....................\n[CV]  max_depth=5, max_features=7, n_estimators=50, score=0.8798283261802575, total=   0.1s\n[CV] max_depth=5, max_features=7, n_estimators=150 ...................\n"
     ]
    },
    {
     "name": "stdout",
     "output_type": "stream",
     "text": [
      "[CV]  max_depth=5, max_features=7, n_estimators=150, score=0.9529914529914529, total=   0.3s\n[CV] max_depth=5, max_features=7, n_estimators=150 ...................\n"
     ]
    },
    {
     "name": "stdout",
     "output_type": "stream",
     "text": [
      "[CV]  max_depth=5, max_features=7, n_estimators=150, score=0.9656652360515021, total=   0.3s\n[CV] max_depth=5, max_features=7, n_estimators=150 ...................\n"
     ]
    },
    {
     "name": "stdout",
     "output_type": "stream",
     "text": [
      "[CV]  max_depth=5, max_features=7, n_estimators=150, score=0.871244635193133, total=   0.3s\n[CV] max_depth=5, max_features=15, n_estimators=3 ....................\n[CV]  max_depth=5, max_features=15, n_estimators=3, score=0.8632478632478633, total=   0.0s\n[CV] max_depth=5, max_features=15, n_estimators=3 ....................\n[CV]  max_depth=5, max_features=15, n_estimators=3, score=0.9227467811158798, total=   0.0s\n[CV] max_depth=5, max_features=15, n_estimators=3 ....................\n[CV]  max_depth=5, max_features=15, n_estimators=3, score=0.8326180257510729, total=   0.0s\n[CV] max_depth=5, max_features=15, n_estimators=5 ....................\n[CV]  max_depth=5, max_features=15, n_estimators=5, score=0.8974358974358975, total=   0.0s\n[CV] max_depth=5, max_features=15, n_estimators=5 ....................\n[CV]  max_depth=5, max_features=15, n_estimators=5, score=0.9184549356223176, total=   0.0s\n[CV] max_depth=5, max_features=15, n_estimators=5 ....................\n[CV]  max_depth=5, max_features=15, n_estimators=5, score=0.8326180257510729, total=   0.0s\n[CV] max_depth=5, max_features=15, n_estimators=10 ...................\n[CV]  max_depth=5, max_features=15, n_estimators=10, score=0.9401709401709402, total=   0.0s\n[CV] max_depth=5, max_features=15, n_estimators=10 ...................\n[CV]  max_depth=5, max_features=15, n_estimators=10, score=0.944206008583691, total=   0.0s\n[CV] max_depth=5, max_features=15, n_estimators=10 ...................\n[CV]  max_depth=5, max_features=15, n_estimators=10, score=0.8497854077253219, total=   0.0s\n[CV] max_depth=5, max_features=15, n_estimators=25 ...................\n"
     ]
    },
    {
     "name": "stdout",
     "output_type": "stream",
     "text": [
      "[CV]  max_depth=5, max_features=15, n_estimators=25, score=0.9444444444444444, total=   0.1s\n[CV] max_depth=5, max_features=15, n_estimators=25 ...................\n[CV]  max_depth=5, max_features=15, n_estimators=25, score=0.944206008583691, total=   0.1s\n[CV] max_depth=5, max_features=15, n_estimators=25 ...................\n[CV]  max_depth=5, max_features=15, n_estimators=25, score=0.8197424892703863, total=   0.1s\n[CV] max_depth=5, max_features=15, n_estimators=50 ...................\n"
     ]
    },
    {
     "name": "stdout",
     "output_type": "stream",
     "text": [
      "[CV]  max_depth=5, max_features=15, n_estimators=50, score=0.9401709401709402, total=   0.1s\n[CV] max_depth=5, max_features=15, n_estimators=50 ...................\n[CV]  max_depth=5, max_features=15, n_estimators=50, score=0.9484978540772532, total=   0.1s\n[CV] max_depth=5, max_features=15, n_estimators=50 ...................\n"
     ]
    },
    {
     "name": "stdout",
     "output_type": "stream",
     "text": [
      "[CV]  max_depth=5, max_features=15, n_estimators=50, score=0.8326180257510729, total=   0.1s\n[CV] max_depth=5, max_features=15, n_estimators=150 ..................\n"
     ]
    },
    {
     "name": "stdout",
     "output_type": "stream",
     "text": [
      "[CV]  max_depth=5, max_features=15, n_estimators=150, score=0.9316239316239316, total=   0.3s\n[CV] max_depth=5, max_features=15, n_estimators=150 ..................\n"
     ]
    },
    {
     "name": "stdout",
     "output_type": "stream",
     "text": [
      "[CV]  max_depth=5, max_features=15, n_estimators=150, score=0.9613733905579399, total=   0.3s\n[CV] max_depth=5, max_features=15, n_estimators=150 ..................\n"
     ]
    },
    {
     "name": "stdout",
     "output_type": "stream",
     "text": [
      "[CV]  max_depth=5, max_features=15, n_estimators=150, score=0.8454935622317596, total=   0.3s\n[CV] max_depth=5, max_features=20, n_estimators=3 ....................\n[CV]  max_depth=5, max_features=20, n_estimators=3, score=0.8675213675213675, total=   0.0s\n[CV] max_depth=5, max_features=20, n_estimators=3 ....................\n[CV]  max_depth=5, max_features=20, n_estimators=3, score=0.8884120171673819, total=   0.0s\n[CV] max_depth=5, max_features=20, n_estimators=3 ....................\n[CV]  max_depth=5, max_features=20, n_estimators=3, score=0.7896995708154506, total=   0.0s\n[CV] max_depth=5, max_features=20, n_estimators=5 ....................\n[CV]  max_depth=5, max_features=20, n_estimators=5, score=0.9017094017094017, total=   0.0s\n[CV] max_depth=5, max_features=20, n_estimators=5 ....................\n[CV]  max_depth=5, max_features=20, n_estimators=5, score=0.871244635193133, total=   0.0s\n[CV] max_depth=5, max_features=20, n_estimators=5 ....................\n[CV]  max_depth=5, max_features=20, n_estimators=5, score=0.759656652360515, total=   0.0s\n[CV] max_depth=5, max_features=20, n_estimators=10 ...................\n[CV]  max_depth=5, max_features=20, n_estimators=10, score=0.9230769230769231, total=   0.0s\n[CV] max_depth=5, max_features=20, n_estimators=10 ...................\n[CV]  max_depth=5, max_features=20, n_estimators=10, score=0.927038626609442, total=   0.0s\n[CV] max_depth=5, max_features=20, n_estimators=10 ...................\n[CV]  max_depth=5, max_features=20, n_estimators=10, score=0.8025751072961373, total=   0.0s\n[CV] max_depth=5, max_features=20, n_estimators=25 ...................\n"
     ]
    },
    {
     "name": "stdout",
     "output_type": "stream",
     "text": [
      "[CV]  max_depth=5, max_features=20, n_estimators=25, score=0.9273504273504274, total=   0.1s\n[CV] max_depth=5, max_features=20, n_estimators=25 ...................\n[CV]  max_depth=5, max_features=20, n_estimators=25, score=0.9399141630901288, total=   0.1s\n[CV] max_depth=5, max_features=20, n_estimators=25 ...................\n[CV]  max_depth=5, max_features=20, n_estimators=25, score=0.8283261802575107, total=   0.1s\n[CV] max_depth=5, max_features=20, n_estimators=50 ...................\n"
     ]
    },
    {
     "name": "stdout",
     "output_type": "stream",
     "text": [
      "[CV]  max_depth=5, max_features=20, n_estimators=50, score=0.9273504273504274, total=   0.1s\n[CV] max_depth=5, max_features=20, n_estimators=50 ...................\n[CV]  max_depth=5, max_features=20, n_estimators=50, score=0.9484978540772532, total=   0.1s\n[CV] max_depth=5, max_features=20, n_estimators=50 ...................\n"
     ]
    },
    {
     "name": "stdout",
     "output_type": "stream",
     "text": [
      "[CV]  max_depth=5, max_features=20, n_estimators=50, score=0.8240343347639485, total=   0.1s\n[CV] max_depth=5, max_features=20, n_estimators=150 ..................\n"
     ]
    },
    {
     "name": "stdout",
     "output_type": "stream",
     "text": [
      "[CV]  max_depth=5, max_features=20, n_estimators=150, score=0.9316239316239316, total=   0.4s\n[CV] max_depth=5, max_features=20, n_estimators=150 ..................\n"
     ]
    },
    {
     "name": "stdout",
     "output_type": "stream",
     "text": [
      "[CV]  max_depth=5, max_features=20, n_estimators=150, score=0.9484978540772532, total=   0.4s\n[CV] max_depth=5, max_features=20, n_estimators=150 ..................\n"
     ]
    },
    {
     "name": "stdout",
     "output_type": "stream",
     "text": [
      "[CV]  max_depth=5, max_features=20, n_estimators=150, score=0.8197424892703863, total=   0.4s\n[CV] max_depth=7, max_features=4, n_estimators=3 .....................\n[CV]  max_depth=7, max_features=4, n_estimators=3, score=0.8803418803418803, total=   0.0s\n[CV] max_depth=7, max_features=4, n_estimators=3 .....................\n[CV]  max_depth=7, max_features=4, n_estimators=3, score=0.8755364806866953, total=   0.0s\n[CV] max_depth=7, max_features=4, n_estimators=3 .....................\n[CV]  max_depth=7, max_features=4, n_estimators=3, score=0.8154506437768241, total=   0.0s\n[CV] max_depth=7, max_features=4, n_estimators=5 .....................\n[CV]  max_depth=7, max_features=4, n_estimators=5, score=0.9188034188034188, total=   0.0s\n[CV] max_depth=7, max_features=4, n_estimators=5 .....................\n[CV]  max_depth=7, max_features=4, n_estimators=5, score=0.9012875536480687, total=   0.0s\n[CV] max_depth=7, max_features=4, n_estimators=5 .....................\n[CV]  max_depth=7, max_features=4, n_estimators=5, score=0.8540772532188842, total=   0.0s\n[CV] max_depth=7, max_features=4, n_estimators=10 ....................\n[CV]  max_depth=7, max_features=4, n_estimators=10, score=0.9487179487179487, total=   0.0s\n[CV] max_depth=7, max_features=4, n_estimators=10 ....................\n[CV]  max_depth=7, max_features=4, n_estimators=10, score=0.927038626609442, total=   0.0s\n[CV] max_depth=7, max_features=4, n_estimators=10 ....................\n[CV]  max_depth=7, max_features=4, n_estimators=10, score=0.8755364806866953, total=   0.0s\n[CV] max_depth=7, max_features=4, n_estimators=25 ....................\n[CV]  max_depth=7, max_features=4, n_estimators=25, score=0.9615384615384616, total=   0.0s\n[CV] max_depth=7, max_features=4, n_estimators=25 ....................\n"
     ]
    },
    {
     "name": "stdout",
     "output_type": "stream",
     "text": [
      "[CV]  max_depth=7, max_features=4, n_estimators=25, score=0.9313304721030042, total=   0.0s\n[CV] max_depth=7, max_features=4, n_estimators=25 ....................\n[CV]  max_depth=7, max_features=4, n_estimators=25, score=0.8927038626609443, total=   0.0s\n[CV] max_depth=7, max_features=4, n_estimators=50 ....................\n[CV]  max_depth=7, max_features=4, n_estimators=50, score=0.9572649572649573, total=   0.1s\n[CV] max_depth=7, max_features=4, n_estimators=50 ....................\n"
     ]
    },
    {
     "name": "stdout",
     "output_type": "stream",
     "text": [
      "[CV]  max_depth=7, max_features=4, n_estimators=50, score=0.9527896995708155, total=   0.1s\n[CV] max_depth=7, max_features=4, n_estimators=50 ....................\n[CV]  max_depth=7, max_features=4, n_estimators=50, score=0.8969957081545065, total=   0.1s\n[CV] max_depth=7, max_features=4, n_estimators=150 ...................\n"
     ]
    },
    {
     "name": "stdout",
     "output_type": "stream",
     "text": [
      "[CV]  max_depth=7, max_features=4, n_estimators=150, score=0.9700854700854701, total=   0.2s\n[CV] max_depth=7, max_features=4, n_estimators=150 ...................\n"
     ]
    },
    {
     "name": "stdout",
     "output_type": "stream",
     "text": [
      "[CV]  max_depth=7, max_features=4, n_estimators=150, score=0.9699570815450643, total=   0.2s\n[CV] max_depth=7, max_features=4, n_estimators=150 ...................\n"
     ]
    },
    {
     "name": "stdout",
     "output_type": "stream",
     "text": [
      "[CV]  max_depth=7, max_features=4, n_estimators=150, score=0.8969957081545065, total=   0.3s\n[CV] max_depth=7, max_features=7, n_estimators=3 .....................\n[CV]  max_depth=7, max_features=7, n_estimators=3, score=0.8589743589743589, total=   0.0s\n[CV] max_depth=7, max_features=7, n_estimators=3 .....................\n[CV]  max_depth=7, max_features=7, n_estimators=3, score=0.8583690987124464, total=   0.0s\n[CV] max_depth=7, max_features=7, n_estimators=3 .....................\n[CV]  max_depth=7, max_features=7, n_estimators=3, score=0.8197424892703863, total=   0.0s\n[CV] max_depth=7, max_features=7, n_estimators=5 .....................\n[CV]  max_depth=7, max_features=7, n_estimators=5, score=0.8888888888888888, total=   0.0s\n[CV] max_depth=7, max_features=7, n_estimators=5 .....................\n[CV]  max_depth=7, max_features=7, n_estimators=5, score=0.9012875536480687, total=   0.0s\n[CV] max_depth=7, max_features=7, n_estimators=5 .....................\n[CV]  max_depth=7, max_features=7, n_estimators=5, score=0.8497854077253219, total=   0.0s\n[CV] max_depth=7, max_features=7, n_estimators=10 ....................\n[CV]  max_depth=7, max_features=7, n_estimators=10, score=0.9102564102564102, total=   0.0s\n[CV] max_depth=7, max_features=7, n_estimators=10 ....................\n[CV]  max_depth=7, max_features=7, n_estimators=10, score=0.9184549356223176, total=   0.0s\n[CV] max_depth=7, max_features=7, n_estimators=10 ....................\n[CV]  max_depth=7, max_features=7, n_estimators=10, score=0.8497854077253219, total=   0.0s\n[CV] max_depth=7, max_features=7, n_estimators=25 ....................\n"
     ]
    },
    {
     "name": "stdout",
     "output_type": "stream",
     "text": [
      "[CV]  max_depth=7, max_features=7, n_estimators=25, score=0.9102564102564102, total=   0.1s\n[CV] max_depth=7, max_features=7, n_estimators=25 ....................\n[CV]  max_depth=7, max_features=7, n_estimators=25, score=0.9399141630901288, total=   0.0s\n[CV] max_depth=7, max_features=7, n_estimators=25 ....................\n[CV]  max_depth=7, max_features=7, n_estimators=25, score=0.8412017167381974, total=   0.0s\n[CV] max_depth=7, max_features=7, n_estimators=50 ....................\n"
     ]
    },
    {
     "name": "stdout",
     "output_type": "stream",
     "text": [
      "[CV]  max_depth=7, max_features=7, n_estimators=50, score=0.9145299145299145, total=   0.1s\n[CV] max_depth=7, max_features=7, n_estimators=50 ....................\n[CV]  max_depth=7, max_features=7, n_estimators=50, score=0.9399141630901288, total=   0.1s\n[CV] max_depth=7, max_features=7, n_estimators=50 ....................\n"
     ]
    },
    {
     "name": "stdout",
     "output_type": "stream",
     "text": [
      "[CV]  max_depth=7, max_features=7, n_estimators=50, score=0.8283261802575107, total=   0.1s\n[CV] max_depth=7, max_features=7, n_estimators=150 ...................\n"
     ]
    },
    {
     "name": "stdout",
     "output_type": "stream",
     "text": [
      "[CV]  max_depth=7, max_features=7, n_estimators=150, score=0.9316239316239316, total=   0.3s\n[CV] max_depth=7, max_features=7, n_estimators=150 ...................\n"
     ]
    },
    {
     "name": "stdout",
     "output_type": "stream",
     "text": [
      "[CV]  max_depth=7, max_features=7, n_estimators=150, score=0.9399141630901288, total=   0.3s\n[CV] max_depth=7, max_features=7, n_estimators=150 ...................\n"
     ]
    },
    {
     "name": "stdout",
     "output_type": "stream",
     "text": [
      "[CV]  max_depth=7, max_features=7, n_estimators=150, score=0.8240343347639485, total=   0.3s\n[CV] max_depth=7, max_features=15, n_estimators=3 ....................\n[CV]  max_depth=7, max_features=15, n_estimators=3, score=0.8632478632478633, total=   0.0s\n[CV] max_depth=7, max_features=15, n_estimators=3 ....................\n[CV]  max_depth=7, max_features=15, n_estimators=3, score=0.871244635193133, total=   0.0s\n[CV] max_depth=7, max_features=15, n_estimators=3 ....................\n[CV]  max_depth=7, max_features=15, n_estimators=3, score=0.759656652360515, total=   0.0s\n[CV] max_depth=7, max_features=15, n_estimators=5 ....................\n[CV]  max_depth=7, max_features=15, n_estimators=5, score=0.9017094017094017, total=   0.0s\n[CV] max_depth=7, max_features=15, n_estimators=5 ....................\n[CV]  max_depth=7, max_features=15, n_estimators=5, score=0.8841201716738197, total=   0.0s\n[CV] max_depth=7, max_features=15, n_estimators=5 ....................\n[CV]  max_depth=7, max_features=15, n_estimators=5, score=0.7811158798283262, total=   0.0s\n[CV] max_depth=7, max_features=15, n_estimators=10 ...................\n[CV]  max_depth=7, max_features=15, n_estimators=10, score=0.9017094017094017, total=   0.0s\n[CV] max_depth=7, max_features=15, n_estimators=10 ...................\n[CV]  max_depth=7, max_features=15, n_estimators=10, score=0.9141630901287554, total=   0.0s\n[CV] max_depth=7, max_features=15, n_estimators=10 ...................\n[CV]  max_depth=7, max_features=15, n_estimators=10, score=0.7854077253218884, total=   0.0s\n[CV] max_depth=7, max_features=15, n_estimators=25 ...................\n"
     ]
    },
    {
     "name": "stdout",
     "output_type": "stream",
     "text": [
      "[CV]  max_depth=7, max_features=15, n_estimators=25, score=0.9188034188034188, total=   0.1s\n[CV] max_depth=7, max_features=15, n_estimators=25 ...................\n[CV]  max_depth=7, max_features=15, n_estimators=25, score=0.9313304721030042, total=   0.1s\n[CV] max_depth=7, max_features=15, n_estimators=25 ...................\n[CV]  max_depth=7, max_features=15, n_estimators=25, score=0.8197424892703863, total=   0.1s\n[CV] max_depth=7, max_features=15, n_estimators=50 ...................\n"
     ]
    },
    {
     "name": "stdout",
     "output_type": "stream",
     "text": [
      "[CV]  max_depth=7, max_features=15, n_estimators=50, score=0.9316239316239316, total=   0.1s\n[CV] max_depth=7, max_features=15, n_estimators=50 ...................\n[CV]  max_depth=7, max_features=15, n_estimators=50, score=0.9356223175965666, total=   0.1s\n[CV] max_depth=7, max_features=15, n_estimators=50 ...................\n"
     ]
    },
    {
     "name": "stdout",
     "output_type": "stream",
     "text": [
      "[CV]  max_depth=7, max_features=15, n_estimators=50, score=0.8240343347639485, total=   0.1s\n[CV] max_depth=7, max_features=15, n_estimators=150 ..................\n"
     ]
    },
    {
     "name": "stdout",
     "output_type": "stream",
     "text": [
      "[CV]  max_depth=7, max_features=15, n_estimators=150, score=0.9145299145299145, total=   0.4s\n[CV] max_depth=7, max_features=15, n_estimators=150 ..................\n"
     ]
    },
    {
     "name": "stdout",
     "output_type": "stream",
     "text": [
      "[CV]  max_depth=7, max_features=15, n_estimators=150, score=0.944206008583691, total=   0.4s\n[CV] max_depth=7, max_features=15, n_estimators=150 ..................\n"
     ]
    },
    {
     "name": "stdout",
     "output_type": "stream",
     "text": [
      "[CV]  max_depth=7, max_features=15, n_estimators=150, score=0.8197424892703863, total=   0.4s\n[CV] max_depth=7, max_features=20, n_estimators=3 ....................\n[CV]  max_depth=7, max_features=20, n_estimators=3, score=0.8547008547008547, total=   0.0s\n[CV] max_depth=7, max_features=20, n_estimators=3 ....................\n[CV]  max_depth=7, max_features=20, n_estimators=3, score=0.8626609442060086, total=   0.0s\n[CV] max_depth=7, max_features=20, n_estimators=3 ....................\n[CV]  max_depth=7, max_features=20, n_estimators=3, score=0.7081545064377682, total=   0.0s\n[CV] max_depth=7, max_features=20, n_estimators=5 ....................\n[CV]  max_depth=7, max_features=20, n_estimators=5, score=0.8846153846153846, total=   0.0s\n[CV] max_depth=7, max_features=20, n_estimators=5 ....................\n[CV]  max_depth=7, max_features=20, n_estimators=5, score=0.8326180257510729, total=   0.0s\n[CV] max_depth=7, max_features=20, n_estimators=5 ....................\n[CV]  max_depth=7, max_features=20, n_estimators=5, score=0.7854077253218884, total=   0.0s\n[CV] max_depth=7, max_features=20, n_estimators=10 ...................\n[CV]  max_depth=7, max_features=20, n_estimators=10, score=0.9273504273504274, total=   0.0s\n[CV] max_depth=7, max_features=20, n_estimators=10 ...................\n[CV]  max_depth=7, max_features=20, n_estimators=10, score=0.871244635193133, total=   0.0s\n[CV] max_depth=7, max_features=20, n_estimators=10 ...................\n"
     ]
    },
    {
     "name": "stdout",
     "output_type": "stream",
     "text": [
      "[CV]  max_depth=7, max_features=20, n_estimators=10, score=0.7939914163090128, total=   0.0s\n[CV] max_depth=7, max_features=20, n_estimators=25 ...................\n[CV]  max_depth=7, max_features=20, n_estimators=25, score=0.9102564102564102, total=   0.1s\n[CV] max_depth=7, max_features=20, n_estimators=25 ...................\n[CV]  max_depth=7, max_features=20, n_estimators=25, score=0.8969957081545065, total=   0.1s\n[CV] max_depth=7, max_features=20, n_estimators=25 ...................\n"
     ]
    },
    {
     "name": "stdout",
     "output_type": "stream",
     "text": [
      "[CV]  max_depth=7, max_features=20, n_estimators=25, score=0.8154506437768241, total=   0.1s\n[CV] max_depth=7, max_features=20, n_estimators=50 ...................\n[CV]  max_depth=7, max_features=20, n_estimators=50, score=0.9230769230769231, total=   0.1s\n[CV] max_depth=7, max_features=20, n_estimators=50 ...................\n"
     ]
    },
    {
     "name": "stdout",
     "output_type": "stream",
     "text": [
      "[CV]  max_depth=7, max_features=20, n_estimators=50, score=0.9227467811158798, total=   0.1s\n[CV] max_depth=7, max_features=20, n_estimators=50 ...................\n[CV]  max_depth=7, max_features=20, n_estimators=50, score=0.8111587982832618, total=   0.1s\n[CV] max_depth=7, max_features=20, n_estimators=150 ..................\n"
     ]
    },
    {
     "name": "stdout",
     "output_type": "stream",
     "text": [
      "[CV]  max_depth=7, max_features=20, n_estimators=150, score=0.9230769230769231, total=   0.4s\n[CV] max_depth=7, max_features=20, n_estimators=150 ..................\n"
     ]
    },
    {
     "name": "stdout",
     "output_type": "stream",
     "text": [
      "[CV]  max_depth=7, max_features=20, n_estimators=150, score=0.9313304721030042, total=   0.4s\n[CV] max_depth=7, max_features=20, n_estimators=150 ..................\n"
     ]
    },
    {
     "name": "stdout",
     "output_type": "stream",
     "text": [
      "[CV]  max_depth=7, max_features=20, n_estimators=150, score=0.8025751072961373, total=   0.4s\n[CV] max_depth=10, max_features=4, n_estimators=3 ....................\n[CV]  max_depth=10, max_features=4, n_estimators=3, score=0.8675213675213675, total=   0.0s\n[CV] max_depth=10, max_features=4, n_estimators=3 ....................\n[CV]  max_depth=10, max_features=4, n_estimators=3, score=0.8583690987124464, total=   0.0s\n[CV] max_depth=10, max_features=4, n_estimators=3 ....................\n[CV]  max_depth=10, max_features=4, n_estimators=3, score=0.7982832618025751, total=   0.0s\n[CV] max_depth=10, max_features=4, n_estimators=5 ....................\n[CV]  max_depth=10, max_features=4, n_estimators=5, score=0.8760683760683761, total=   0.0s\n[CV] max_depth=10, max_features=4, n_estimators=5 ....................\n[CV]  max_depth=10, max_features=4, n_estimators=5, score=0.8583690987124464, total=   0.0s\n[CV] max_depth=10, max_features=4, n_estimators=5 ....................\n[CV]  max_depth=10, max_features=4, n_estimators=5, score=0.8111587982832618, total=   0.0s\n[CV] max_depth=10, max_features=4, n_estimators=10 ...................\n[CV]  max_depth=10, max_features=4, n_estimators=10, score=0.9273504273504274, total=   0.0s\n[CV] max_depth=10, max_features=4, n_estimators=10 ...................\n[CV]  max_depth=10, max_features=4, n_estimators=10, score=0.8884120171673819, total=   0.0s\n[CV] max_depth=10, max_features=4, n_estimators=10 ...................\n[CV]  max_depth=10, max_features=4, n_estimators=10, score=0.8025751072961373, total=   0.0s\n[CV] max_depth=10, max_features=4, n_estimators=25 ...................\n"
     ]
    },
    {
     "name": "stdout",
     "output_type": "stream",
     "text": [
      "[CV]  max_depth=10, max_features=4, n_estimators=25, score=0.9273504273504274, total=   0.0s\n[CV] max_depth=10, max_features=4, n_estimators=25 ...................\n[CV]  max_depth=10, max_features=4, n_estimators=25, score=0.927038626609442, total=   0.0s\n[CV] max_depth=10, max_features=4, n_estimators=25 ...................\n[CV]  max_depth=10, max_features=4, n_estimators=25, score=0.8369098712446352, total=   0.0s\n[CV] max_depth=10, max_features=4, n_estimators=50 ...................\n"
     ]
    },
    {
     "name": "stdout",
     "output_type": "stream",
     "text": [
      "[CV]  max_depth=10, max_features=4, n_estimators=50, score=0.9358974358974359, total=   0.1s\n[CV] max_depth=10, max_features=4, n_estimators=50 ...................\n[CV]  max_depth=10, max_features=4, n_estimators=50, score=0.927038626609442, total=   0.1s\n[CV] max_depth=10, max_features=4, n_estimators=50 ...................\n[CV]  max_depth=10, max_features=4, n_estimators=50, score=0.8454935622317596, total=   0.1s\n[CV] max_depth=10, max_features=4, n_estimators=150 ..................\n"
     ]
    },
    {
     "name": "stdout",
     "output_type": "stream",
     "text": [
      "[CV]  max_depth=10, max_features=4, n_estimators=150, score=0.9444444444444444, total=   0.3s\n[CV] max_depth=10, max_features=4, n_estimators=150 ..................\n"
     ]
    },
    {
     "name": "stdout",
     "output_type": "stream",
     "text": [
      "[CV]  max_depth=10, max_features=4, n_estimators=150, score=0.9484978540772532, total=   0.3s\n[CV] max_depth=10, max_features=4, n_estimators=150 ..................\n"
     ]
    },
    {
     "name": "stdout",
     "output_type": "stream",
     "text": [
      "[CV]  max_depth=10, max_features=4, n_estimators=150, score=0.8497854077253219, total=   0.3s\n[CV] max_depth=10, max_features=7, n_estimators=3 ....................\n[CV]  max_depth=10, max_features=7, n_estimators=3, score=0.8461538461538461, total=   0.0s\n[CV] max_depth=10, max_features=7, n_estimators=3 ....................\n[CV]  max_depth=10, max_features=7, n_estimators=3, score=0.8240343347639485, total=   0.0s\n[CV] max_depth=10, max_features=7, n_estimators=3 ....................\n[CV]  max_depth=10, max_features=7, n_estimators=3, score=0.7081545064377682, total=   0.0s\n[CV] max_depth=10, max_features=7, n_estimators=5 ....................\n[CV]  max_depth=10, max_features=7, n_estimators=5, score=0.8760683760683761, total=   0.0s\n[CV] max_depth=10, max_features=7, n_estimators=5 ....................\n[CV]  max_depth=10, max_features=7, n_estimators=5, score=0.8369098712446352, total=   0.0s\n[CV] max_depth=10, max_features=7, n_estimators=5 ....................\n[CV]  max_depth=10, max_features=7, n_estimators=5, score=0.7424892703862661, total=   0.0s\n[CV] max_depth=10, max_features=7, n_estimators=10 ...................\n[CV]  max_depth=10, max_features=7, n_estimators=10, score=0.9017094017094017, total=   0.0s\n[CV] max_depth=10, max_features=7, n_estimators=10 ...................\n[CV]  max_depth=10, max_features=7, n_estimators=10, score=0.8841201716738197, total=   0.0s\n[CV] max_depth=10, max_features=7, n_estimators=10 ...................\n[CV]  max_depth=10, max_features=7, n_estimators=10, score=0.7725321888412017, total=   0.0s\n[CV] max_depth=10, max_features=7, n_estimators=25 ...................\n"
     ]
    },
    {
     "name": "stdout",
     "output_type": "stream",
     "text": [
      "[CV]  max_depth=10, max_features=7, n_estimators=25, score=0.9102564102564102, total=   0.1s\n[CV] max_depth=10, max_features=7, n_estimators=25 ...................\n[CV]  max_depth=10, max_features=7, n_estimators=25, score=0.9227467811158798, total=   0.1s\n[CV] max_depth=10, max_features=7, n_estimators=25 ...................\n[CV]  max_depth=10, max_features=7, n_estimators=25, score=0.8068669527896996, total=   0.1s\n[CV] max_depth=10, max_features=7, n_estimators=50 ...................\n"
     ]
    },
    {
     "name": "stdout",
     "output_type": "stream",
     "text": [
      "[CV]  max_depth=10, max_features=7, n_estimators=50, score=0.9145299145299145, total=   0.1s\n[CV] max_depth=10, max_features=7, n_estimators=50 ...................\n[CV]  max_depth=10, max_features=7, n_estimators=50, score=0.9227467811158798, total=   0.1s\n[CV] max_depth=10, max_features=7, n_estimators=50 ...................\n"
     ]
    },
    {
     "name": "stdout",
     "output_type": "stream",
     "text": [
      "[CV]  max_depth=10, max_features=7, n_estimators=50, score=0.8412017167381974, total=   0.1s\n[CV] max_depth=10, max_features=7, n_estimators=150 ..................\n"
     ]
    },
    {
     "name": "stdout",
     "output_type": "stream",
     "text": [
      "[CV]  max_depth=10, max_features=7, n_estimators=150, score=0.9102564102564102, total=   0.3s\n[CV] max_depth=10, max_features=7, n_estimators=150 ..................\n"
     ]
    },
    {
     "name": "stdout",
     "output_type": "stream",
     "text": [
      "[CV]  max_depth=10, max_features=7, n_estimators=150, score=0.927038626609442, total=   0.3s\n[CV] max_depth=10, max_features=7, n_estimators=150 ..................\n"
     ]
    },
    {
     "name": "stdout",
     "output_type": "stream",
     "text": [
      "[CV]  max_depth=10, max_features=7, n_estimators=150, score=0.8412017167381974, total=   0.3s\n[CV] max_depth=10, max_features=15, n_estimators=3 ...................\n[CV]  max_depth=10, max_features=15, n_estimators=3, score=0.8504273504273504, total=   0.0s\n[CV] max_depth=10, max_features=15, n_estimators=3 ...................\n[CV]  max_depth=10, max_features=15, n_estimators=3, score=0.871244635193133, total=   0.0s\n[CV] max_depth=10, max_features=15, n_estimators=3 ...................\n[CV]  max_depth=10, max_features=15, n_estimators=3, score=0.7639484978540773, total=   0.0s\n[CV] max_depth=10, max_features=15, n_estimators=5 ...................\n[CV]  max_depth=10, max_features=15, n_estimators=5, score=0.8504273504273504, total=   0.0s\n[CV] max_depth=10, max_features=15, n_estimators=5 ...................\n[CV]  max_depth=10, max_features=15, n_estimators=5, score=0.8798283261802575, total=   0.0s\n[CV] max_depth=10, max_features=15, n_estimators=5 ...................\n[CV]  max_depth=10, max_features=15, n_estimators=5, score=0.7982832618025751, total=   0.0s\n[CV] max_depth=10, max_features=15, n_estimators=10 ..................\n[CV]  max_depth=10, max_features=15, n_estimators=10, score=0.8717948717948718, total=   0.0s\n[CV] max_depth=10, max_features=15, n_estimators=10 ..................\n[CV]  max_depth=10, max_features=15, n_estimators=10, score=0.8927038626609443, total=   0.0s\n[CV] max_depth=10, max_features=15, n_estimators=10 ..................\n"
     ]
    },
    {
     "name": "stdout",
     "output_type": "stream",
     "text": [
      "[CV]  max_depth=10, max_features=15, n_estimators=10, score=0.7896995708154506, total=   0.0s\n[CV] max_depth=10, max_features=15, n_estimators=25 ..................\n[CV]  max_depth=10, max_features=15, n_estimators=25, score=0.8888888888888888, total=   0.1s\n[CV] max_depth=10, max_features=15, n_estimators=25 ..................\n[CV]  max_depth=10, max_features=15, n_estimators=25, score=0.9184549356223176, total=   0.1s\n[CV] max_depth=10, max_features=15, n_estimators=25 ..................\n"
     ]
    },
    {
     "name": "stdout",
     "output_type": "stream",
     "text": [
      "[CV]  max_depth=10, max_features=15, n_estimators=25, score=0.8197424892703863, total=   0.1s\n[CV] max_depth=10, max_features=15, n_estimators=50 ..................\n[CV]  max_depth=10, max_features=15, n_estimators=50, score=0.9017094017094017, total=   0.1s\n[CV] max_depth=10, max_features=15, n_estimators=50 ..................\n"
     ]
    },
    {
     "name": "stdout",
     "output_type": "stream",
     "text": [
      "[CV]  max_depth=10, max_features=15, n_estimators=50, score=0.9184549356223176, total=   0.1s\n[CV] max_depth=10, max_features=15, n_estimators=50 ..................\n[CV]  max_depth=10, max_features=15, n_estimators=50, score=0.7982832618025751, total=   0.1s\n[CV] max_depth=10, max_features=15, n_estimators=150 .................\n"
     ]
    },
    {
     "name": "stdout",
     "output_type": "stream",
     "text": [
      "[CV]  max_depth=10, max_features=15, n_estimators=150, score=0.9017094017094017, total=   0.4s\n[CV] max_depth=10, max_features=15, n_estimators=150 .................\n"
     ]
    },
    {
     "name": "stdout",
     "output_type": "stream",
     "text": [
      "[CV]  max_depth=10, max_features=15, n_estimators=150, score=0.9356223175965666, total=   0.4s\n[CV] max_depth=10, max_features=15, n_estimators=150 .................\n"
     ]
    },
    {
     "name": "stdout",
     "output_type": "stream",
     "text": [
      "[CV]  max_depth=10, max_features=15, n_estimators=150, score=0.7939914163090128, total=   0.4s\n[CV] max_depth=10, max_features=20, n_estimators=3 ...................\n[CV]  max_depth=10, max_features=20, n_estimators=3, score=0.8418803418803419, total=   0.0s\n[CV] max_depth=10, max_features=20, n_estimators=3 ...................\n[CV]  max_depth=10, max_features=20, n_estimators=3, score=0.8154506437768241, total=   0.0s\n[CV] max_depth=10, max_features=20, n_estimators=3 ...................\n[CV]  max_depth=10, max_features=20, n_estimators=3, score=0.7124463519313304, total=   0.0s\n[CV] max_depth=10, max_features=20, n_estimators=5 ...................\n[CV]  max_depth=10, max_features=20, n_estimators=5, score=0.8504273504273504, total=   0.0s\n[CV] max_depth=10, max_features=20, n_estimators=5 ...................\n[CV]  max_depth=10, max_features=20, n_estimators=5, score=0.8283261802575107, total=   0.0s\n[CV] max_depth=10, max_features=20, n_estimators=5 ...................\n[CV]  max_depth=10, max_features=20, n_estimators=5, score=0.7381974248927039, total=   0.0s\n[CV] max_depth=10, max_features=20, n_estimators=10 ..................\n[CV]  max_depth=10, max_features=20, n_estimators=10, score=0.8504273504273504, total=   0.0s\n[CV] max_depth=10, max_features=20, n_estimators=10 ..................\n[CV]  max_depth=10, max_features=20, n_estimators=10, score=0.8283261802575107, total=   0.0s\n[CV] max_depth=10, max_features=20, n_estimators=10 ..................\n"
     ]
    },
    {
     "name": "stdout",
     "output_type": "stream",
     "text": [
      "[CV]  max_depth=10, max_features=20, n_estimators=10, score=0.7682403433476395, total=   0.0s\n[CV] max_depth=10, max_features=20, n_estimators=25 ..................\n[CV]  max_depth=10, max_features=20, n_estimators=25, score=0.905982905982906, total=   0.1s\n[CV] max_depth=10, max_features=20, n_estimators=25 ..................\n[CV]  max_depth=10, max_features=20, n_estimators=25, score=0.8755364806866953, total=   0.1s\n[CV] max_depth=10, max_features=20, n_estimators=25 ..................\n"
     ]
    },
    {
     "name": "stdout",
     "output_type": "stream",
     "text": [
      "[CV]  max_depth=10, max_features=20, n_estimators=25, score=0.7896995708154506, total=   0.1s\n[CV] max_depth=10, max_features=20, n_estimators=50 ..................\n[CV]  max_depth=10, max_features=20, n_estimators=50, score=0.9102564102564102, total=   0.2s\n[CV] max_depth=10, max_features=20, n_estimators=50 ..................\n"
     ]
    },
    {
     "name": "stdout",
     "output_type": "stream",
     "text": [
      "[CV]  max_depth=10, max_features=20, n_estimators=50, score=0.8884120171673819, total=   0.2s\n[CV] max_depth=10, max_features=20, n_estimators=50 ..................\n[CV]  max_depth=10, max_features=20, n_estimators=50, score=0.7854077253218884, total=   0.2s\n[CV] max_depth=10, max_features=20, n_estimators=150 .................\n"
     ]
    },
    {
     "name": "stdout",
     "output_type": "stream",
     "text": [
      "[CV]  max_depth=10, max_features=20, n_estimators=150, score=0.9017094017094017, total=   0.5s\n[CV] max_depth=10, max_features=20, n_estimators=150 .................\n"
     ]
    },
    {
     "name": "stdout",
     "output_type": "stream",
     "text": [
      "[CV]  max_depth=10, max_features=20, n_estimators=150, score=0.927038626609442, total=   0.5s\n[CV] max_depth=10, max_features=20, n_estimators=150 .................\n"
     ]
    },
    {
     "name": "stdout",
     "output_type": "stream",
     "text": [
      "[CV]  max_depth=10, max_features=20, n_estimators=150, score=0.7896995708154506, total=   0.5s\n[CV] max_depth=None, max_features=4, n_estimators=3 ..................\n[CV]  max_depth=None, max_features=4, n_estimators=3, score=0.8461538461538461, total=   0.0s\n[CV] max_depth=None, max_features=4, n_estimators=3 ..................\n[CV]  max_depth=None, max_features=4, n_estimators=3, score=0.8068669527896996, total=   0.0s\n[CV] max_depth=None, max_features=4, n_estimators=3 ..................\n[CV]  max_depth=None, max_features=4, n_estimators=3, score=0.7296137339055794, total=   0.0s\n[CV] max_depth=None, max_features=4, n_estimators=5 ..................\n[CV]  max_depth=None, max_features=4, n_estimators=5, score=0.8547008547008547, total=   0.0s\n[CV] max_depth=None, max_features=4, n_estimators=5 ..................\n[CV]  max_depth=None, max_features=4, n_estimators=5, score=0.8454935622317596, total=   0.0s\n[CV] max_depth=None, max_features=4, n_estimators=5 ..................\n[CV]  max_depth=None, max_features=4, n_estimators=5, score=0.7854077253218884, total=   0.0s\n[CV] max_depth=None, max_features=4, n_estimators=10 .................\n[CV]  max_depth=None, max_features=4, n_estimators=10, score=0.8717948717948718, total=   0.0s\n[CV] max_depth=None, max_features=4, n_estimators=10 .................\n[CV]  max_depth=None, max_features=4, n_estimators=10, score=0.8326180257510729, total=   0.0s\n[CV] max_depth=None, max_features=4, n_estimators=10 .................\n[CV]  max_depth=None, max_features=4, n_estimators=10, score=0.7682403433476395, total=   0.0s\n[CV] max_depth=None, max_features=4, n_estimators=25 .................\n"
     ]
    },
    {
     "name": "stdout",
     "output_type": "stream",
     "text": [
      "[CV]  max_depth=None, max_features=4, n_estimators=25, score=0.9316239316239316, total=   0.0s\n[CV] max_depth=None, max_features=4, n_estimators=25 .................\n[CV]  max_depth=None, max_features=4, n_estimators=25, score=0.9356223175965666, total=   0.0s\n[CV] max_depth=None, max_features=4, n_estimators=25 .................\n[CV]  max_depth=None, max_features=4, n_estimators=25, score=0.8454935622317596, total=   0.0s\n[CV] max_depth=None, max_features=4, n_estimators=50 .................\n"
     ]
    },
    {
     "name": "stdout",
     "output_type": "stream",
     "text": [
      "[CV]  max_depth=None, max_features=4, n_estimators=50, score=0.9102564102564102, total=   0.1s\n[CV] max_depth=None, max_features=4, n_estimators=50 .................\n[CV]  max_depth=None, max_features=4, n_estimators=50, score=0.9227467811158798, total=   0.1s\n[CV] max_depth=None, max_features=4, n_estimators=50 .................\n"
     ]
    },
    {
     "name": "stdout",
     "output_type": "stream",
     "text": [
      "[CV]  max_depth=None, max_features=4, n_estimators=50, score=0.8283261802575107, total=   0.1s\n[CV] max_depth=None, max_features=4, n_estimators=150 ................\n"
     ]
    },
    {
     "name": "stdout",
     "output_type": "stream",
     "text": [
      "[CV]  max_depth=None, max_features=4, n_estimators=150, score=0.9145299145299145, total=   0.3s\n[CV] max_depth=None, max_features=4, n_estimators=150 ................\n"
     ]
    },
    {
     "name": "stdout",
     "output_type": "stream",
     "text": [
      "[CV]  max_depth=None, max_features=4, n_estimators=150, score=0.9313304721030042, total=   0.3s\n[CV] max_depth=None, max_features=4, n_estimators=150 ................\n"
     ]
    },
    {
     "name": "stdout",
     "output_type": "stream",
     "text": [
      "[CV]  max_depth=None, max_features=4, n_estimators=150, score=0.8369098712446352, total=   0.3s\n[CV] max_depth=None, max_features=7, n_estimators=3 ..................\n[CV]  max_depth=None, max_features=7, n_estimators=3, score=0.8162393162393162, total=   0.0s\n[CV] max_depth=None, max_features=7, n_estimators=3 ..................\n[CV]  max_depth=None, max_features=7, n_estimators=3, score=0.7982832618025751, total=   0.0s\n[CV] max_depth=None, max_features=7, n_estimators=3 ..................\n[CV]  max_depth=None, max_features=7, n_estimators=3, score=0.7982832618025751, total=   0.0s\n[CV] max_depth=None, max_features=7, n_estimators=5 ..................\n[CV]  max_depth=None, max_features=7, n_estimators=5, score=0.8547008547008547, total=   0.0s\n[CV] max_depth=None, max_features=7, n_estimators=5 ..................\n[CV]  max_depth=None, max_features=7, n_estimators=5, score=0.8497854077253219, total=   0.0s\n[CV] max_depth=None, max_features=7, n_estimators=5 ..................\n[CV]  max_depth=None, max_features=7, n_estimators=5, score=0.8326180257510729, total=   0.0s\n[CV] max_depth=None, max_features=7, n_estimators=10 .................\n[CV]  max_depth=None, max_features=7, n_estimators=10, score=0.8333333333333334, total=   0.0s\n[CV] max_depth=None, max_features=7, n_estimators=10 .................\n[CV]  max_depth=None, max_features=7, n_estimators=10, score=0.8669527896995708, total=   0.0s\n[CV] max_depth=None, max_features=7, n_estimators=10 .................\n[CV]  max_depth=None, max_features=7, n_estimators=10, score=0.7467811158798283, total=   0.0s\n[CV] max_depth=None, max_features=7, n_estimators=25 .................\n"
     ]
    },
    {
     "name": "stdout",
     "output_type": "stream",
     "text": [
      "[CV]  max_depth=None, max_features=7, n_estimators=25, score=0.9017094017094017, total=   0.1s\n[CV] max_depth=None, max_features=7, n_estimators=25 .................\n[CV]  max_depth=None, max_features=7, n_estimators=25, score=0.9012875536480687, total=   0.1s\n[CV] max_depth=None, max_features=7, n_estimators=25 .................\n[CV]  max_depth=None, max_features=7, n_estimators=25, score=0.8154506437768241, total=   0.1s\n[CV] max_depth=None, max_features=7, n_estimators=50 .................\n"
     ]
    },
    {
     "name": "stdout",
     "output_type": "stream",
     "text": [
      "[CV]  max_depth=None, max_features=7, n_estimators=50, score=0.8888888888888888, total=   0.1s\n[CV] max_depth=None, max_features=7, n_estimators=50 .................\n[CV]  max_depth=None, max_features=7, n_estimators=50, score=0.9227467811158798, total=   0.1s\n[CV] max_depth=None, max_features=7, n_estimators=50 .................\n"
     ]
    },
    {
     "name": "stdout",
     "output_type": "stream",
     "text": [
      "[CV]  max_depth=None, max_features=7, n_estimators=50, score=0.8111587982832618, total=   0.1s\n[CV] max_depth=None, max_features=7, n_estimators=150 ................\n"
     ]
    },
    {
     "name": "stdout",
     "output_type": "stream",
     "text": [
      "[CV]  max_depth=None, max_features=7, n_estimators=150, score=0.8931623931623932, total=   0.3s\n[CV] max_depth=None, max_features=7, n_estimators=150 ................\n"
     ]
    },
    {
     "name": "stdout",
     "output_type": "stream",
     "text": [
      "[CV]  max_depth=None, max_features=7, n_estimators=150, score=0.927038626609442, total=   0.3s\n[CV] max_depth=None, max_features=7, n_estimators=150 ................\n"
     ]
    },
    {
     "name": "stdout",
     "output_type": "stream",
     "text": [
      "[CV]  max_depth=None, max_features=7, n_estimators=150, score=0.8240343347639485, total=   0.3s\n[CV] max_depth=None, max_features=15, n_estimators=3 .................\n[CV]  max_depth=None, max_features=15, n_estimators=3, score=0.8632478632478633, total=   0.0s\n[CV] max_depth=None, max_features=15, n_estimators=3 .................\n[CV]  max_depth=None, max_features=15, n_estimators=3, score=0.8197424892703863, total=   0.0s\n[CV] max_depth=None, max_features=15, n_estimators=3 .................\n[CV]  max_depth=None, max_features=15, n_estimators=3, score=0.7939914163090128, total=   0.0s\n[CV] max_depth=None, max_features=15, n_estimators=5 .................\n[CV]  max_depth=None, max_features=15, n_estimators=5, score=0.8632478632478633, total=   0.0s\n[CV] max_depth=None, max_features=15, n_estimators=5 .................\n[CV]  max_depth=None, max_features=15, n_estimators=5, score=0.8454935622317596, total=   0.0s\n[CV] max_depth=None, max_features=15, n_estimators=5 .................\n[CV]  max_depth=None, max_features=15, n_estimators=5, score=0.8111587982832618, total=   0.0s\n[CV] max_depth=None, max_features=15, n_estimators=10 ................\n[CV]  max_depth=None, max_features=15, n_estimators=10, score=0.8290598290598291, total=   0.0s\n[CV] max_depth=None, max_features=15, n_estimators=10 ................\n[CV]  max_depth=None, max_features=15, n_estimators=10, score=0.8197424892703863, total=   0.0s\n[CV] max_depth=None, max_features=15, n_estimators=10 ................\n"
     ]
    },
    {
     "name": "stdout",
     "output_type": "stream",
     "text": [
      "[CV]  max_depth=None, max_features=15, n_estimators=10, score=0.7339055793991416, total=   0.0s\n[CV] max_depth=None, max_features=15, n_estimators=25 ................\n[CV]  max_depth=None, max_features=15, n_estimators=25, score=0.8931623931623932, total=   0.1s\n[CV] max_depth=None, max_features=15, n_estimators=25 ................\n[CV]  max_depth=None, max_features=15, n_estimators=25, score=0.8755364806866953, total=   0.1s\n[CV] max_depth=None, max_features=15, n_estimators=25 ................\n"
     ]
    },
    {
     "name": "stdout",
     "output_type": "stream",
     "text": [
      "[CV]  max_depth=None, max_features=15, n_estimators=25, score=0.8240343347639485, total=   0.1s\n[CV] max_depth=None, max_features=15, n_estimators=50 ................\n[CV]  max_depth=None, max_features=15, n_estimators=50, score=0.8931623931623932, total=   0.2s\n[CV] max_depth=None, max_features=15, n_estimators=50 ................\n"
     ]
    },
    {
     "name": "stdout",
     "output_type": "stream",
     "text": [
      "[CV]  max_depth=None, max_features=15, n_estimators=50, score=0.9012875536480687, total=   0.2s\n[CV] max_depth=None, max_features=15, n_estimators=50 ................\n[CV]  max_depth=None, max_features=15, n_estimators=50, score=0.8025751072961373, total=   0.1s\n[CV] max_depth=None, max_features=15, n_estimators=150 ...............\n"
     ]
    },
    {
     "name": "stdout",
     "output_type": "stream",
     "text": [
      "[CV]  max_depth=None, max_features=15, n_estimators=150, score=0.8974358974358975, total=   0.5s\n[CV] max_depth=None, max_features=15, n_estimators=150 ...............\n"
     ]
    },
    {
     "name": "stdout",
     "output_type": "stream",
     "text": [
      "[CV]  max_depth=None, max_features=15, n_estimators=150, score=0.9184549356223176, total=   0.4s\n[CV] max_depth=None, max_features=15, n_estimators=150 ...............\n"
     ]
    },
    {
     "name": "stdout",
     "output_type": "stream",
     "text": [
      "[CV]  max_depth=None, max_features=15, n_estimators=150, score=0.8197424892703863, total=   0.4s\n[CV] max_depth=None, max_features=20, n_estimators=3 .................\n[CV]  max_depth=None, max_features=20, n_estimators=3, score=0.8333333333333334, total=   0.0s\n[CV] max_depth=None, max_features=20, n_estimators=3 .................\n[CV]  max_depth=None, max_features=20, n_estimators=3, score=0.8025751072961373, total=   0.0s\n[CV] max_depth=None, max_features=20, n_estimators=3 .................\n[CV]  max_depth=None, max_features=20, n_estimators=3, score=0.721030042918455, total=   0.0s\n[CV] max_depth=None, max_features=20, n_estimators=5 .................\n[CV]  max_depth=None, max_features=20, n_estimators=5, score=0.8333333333333334, total=   0.0s\n[CV] max_depth=None, max_features=20, n_estimators=5 .................\n[CV]  max_depth=None, max_features=20, n_estimators=5, score=0.8197424892703863, total=   0.0s\n[CV] max_depth=None, max_features=20, n_estimators=5 .................\n[CV]  max_depth=None, max_features=20, n_estimators=5, score=0.7339055793991416, total=   0.0s\n[CV] max_depth=None, max_features=20, n_estimators=10 ................\n[CV]  max_depth=None, max_features=20, n_estimators=10, score=0.8333333333333334, total=   0.0s\n[CV] max_depth=None, max_features=20, n_estimators=10 ................\n[CV]  max_depth=None, max_features=20, n_estimators=10, score=0.8025751072961373, total=   0.0s\n[CV] max_depth=None, max_features=20, n_estimators=10 ................\n"
     ]
    },
    {
     "name": "stdout",
     "output_type": "stream",
     "text": [
      "[CV]  max_depth=None, max_features=20, n_estimators=10, score=0.7253218884120172, total=   0.0s\n[CV] max_depth=None, max_features=20, n_estimators=25 ................\n[CV]  max_depth=None, max_features=20, n_estimators=25, score=0.8888888888888888, total=   0.1s\n[CV] max_depth=None, max_features=20, n_estimators=25 ................\n[CV]  max_depth=None, max_features=20, n_estimators=25, score=0.871244635193133, total=   0.1s\n[CV] max_depth=None, max_features=20, n_estimators=25 ................\n"
     ]
    },
    {
     "name": "stdout",
     "output_type": "stream",
     "text": [
      "[CV]  max_depth=None, max_features=20, n_estimators=25, score=0.7896995708154506, total=   0.1s\n[CV] max_depth=None, max_features=20, n_estimators=50 ................\n[CV]  max_depth=None, max_features=20, n_estimators=50, score=0.9017094017094017, total=   0.2s\n[CV] max_depth=None, max_features=20, n_estimators=50 ................\n"
     ]
    },
    {
     "name": "stdout",
     "output_type": "stream",
     "text": [
      "[CV]  max_depth=None, max_features=20, n_estimators=50, score=0.8841201716738197, total=   0.2s\n[CV] max_depth=None, max_features=20, n_estimators=50 ................\n[CV]  max_depth=None, max_features=20, n_estimators=50, score=0.7639484978540773, total=   0.2s\n[CV] max_depth=None, max_features=20, n_estimators=150 ...............\n"
     ]
    },
    {
     "name": "stdout",
     "output_type": "stream",
     "text": [
      "[CV]  max_depth=None, max_features=20, n_estimators=150, score=0.8931623931623932, total=   0.5s\n[CV] max_depth=None, max_features=20, n_estimators=150 ...............\n"
     ]
    },
    {
     "name": "stdout",
     "output_type": "stream",
     "text": [
      "[CV]  max_depth=None, max_features=20, n_estimators=150, score=0.9141630901287554, total=   0.5s\n[CV] max_depth=None, max_features=20, n_estimators=150 ...............\n"
     ]
    },
    {
     "name": "stdout",
     "output_type": "stream",
     "text": [
      "[CV]  max_depth=None, max_features=20, n_estimators=150, score=0.7725321888412017, total=   0.5s\n"
     ]
    },
    {
     "name": "stderr",
     "output_type": "stream",
     "text": [
      "[Parallel(n_jobs=1)]: Done 360 out of 360 | elapsed:   36.6s finished\n"
     ]
    },
    {
     "data": {
      "text/plain": [
       "GridSearchCV(cv='warn', error_score='raise-deprecating',\n       estimator=RandomForestClassifier(bootstrap=True, class_weight=None, criterion='gini',\n            max_depth=None, max_features='auto', max_leaf_nodes=None,\n            min_impurity_decrease=0.0, min_impurity_split=None,\n            min_samples_leaf=1, min_samples_split=2,\n            min_weight_fraction_leaf=0.0, n_estimators='warn', n_jobs=None,\n            oob_score=False, random_state=2, verbose=0, warm_start=False),\n       fit_params=None, iid='warn', n_jobs=None,\n       param_grid={'max_depth': [3, 5, 7, 10, None], 'n_estimators': [3, 5, 10, 25, 50, 150], 'max_features': [4, 7, 15, 20]},\n       pre_dispatch='2*n_jobs', refit=True, return_train_score='warn',\n       scoring='recall', verbose=4)"
      ]
     },
     "execution_count": 33,
     "metadata": {},
     "output_type": "execute_result"
    }
   ],
   "source": [
    "model = RandomForestClassifier(random_state=2)\n",
    "\n",
    "grid_search = GridSearchCV(model, param_grid=param_grid, scoring='recall', verbose=4)\n",
    "grid_search.fit(X, y)"
   ]
  },
  {
   "cell_type": "code",
   "execution_count": 34,
   "metadata": {},
   "outputs": [
    {
     "name": "stdout",
     "output_type": "stream",
     "text": [
      "0.9871410072998056\n{'max_depth': 3, 'max_features': 4, 'n_estimators': 25}\n"
     ]
    }
   ],
   "source": [
    "print(grid_search.best_score_)\n",
    "print(grid_search.best_params_)"
   ]
  },
  {
   "cell_type": "code",
   "execution_count": 35,
   "metadata": {},
   "outputs": [
    {
     "data": {
      "text/plain": [
       "RandomForestClassifier(bootstrap=True, class_weight=None, criterion='gini',\n            max_depth=3, max_features=4, max_leaf_nodes=None,\n            min_impurity_decrease=0.0, min_impurity_split=None,\n            min_samples_leaf=1, min_samples_split=2,\n            min_weight_fraction_leaf=0.0, n_estimators=25, n_jobs=None,\n            oob_score=False, random_state=2, verbose=0, warm_start=False)"
      ]
     },
     "execution_count": 35,
     "metadata": {},
     "output_type": "execute_result"
    }
   ],
   "source": [
    "rf = RandomForestClassifier(max_depth=3, max_features=4, n_estimators=25, random_state=2)\n",
    "rf.fit(X, y)"
   ]
  },
  {
   "cell_type": "code",
   "execution_count": 36,
   "metadata": {
    "collapsed": true
   },
   "outputs": [
    {
     "name": "stdout",
     "output_type": "stream",
     "text": [
      "0.73\n\n\n[[ 34 266]\n [  4 696]]\n\n\n0.9250398724082936\n"
     ]
    }
   ],
   "source": [
    "from sklearn.metrics import accuracy_score, confusion_matrix, fbeta_score\n",
    "\n",
    "y_pred = rf.predict(X)\n",
    "\n",
    "print(accuracy_score(y, y_pred))\n",
    "print(\"\\n\")\n",
    "print(confusion_matrix(y, y_pred))\n",
    "print(\"\\n\")\n",
    "print(fbeta_score(y, y_pred, beta=2))"
   ]
  },
  {
   "cell_type": "code",
   "execution_count": 37,
   "metadata": {},
   "outputs": [
    {
     "name": "stderr",
     "output_type": "stream",
     "text": [
      "/home/ankur/anaconda3/lib/python3.6/site-packages/sklearn/ensemble/forest.py:248: FutureWarning: The default value of n_estimators will change from 10 in version 0.20 to 100 in 0.22.\n  \"10 in version 0.20 to 100 in 0.22.\", FutureWarning)\n"
     ]
    },
    {
     "data": {
      "text/plain": [
       "0.991"
      ]
     },
     "execution_count": 37,
     "metadata": {},
     "output_type": "execute_result"
    }
   ],
   "source": [
    "c = RandomForestClassifier()\n",
    "c.fit(X, y)\n",
    "c.score(X, y)"
   ]
  },
  {
   "cell_type": "code",
   "execution_count": 25,
   "metadata": {},
   "outputs": [],
   "source": [
    ""
   ]
  },
  {
   "cell_type": "code",
   "execution_count": 25,
   "metadata": {},
   "outputs": [],
   "source": [
    ""
   ]
  },
  {
   "cell_type": "code",
   "execution_count": null,
   "metadata": {},
   "outputs": [],
   "source": []
  }
 ],
 "metadata": {
  "kernelspec": {
   "display_name": "Python 2",
   "language": "python",
   "name": "python2"
  },
  "language_info": {
   "codemirror_mode": {
    "name": "ipython",
    "version": 2
   },
   "file_extension": ".py",
   "mimetype": "text/x-python",
   "name": "python",
   "nbconvert_exporter": "python",
   "pygments_lexer": "ipython2",
   "version": "2.7.6"
  }
 },
 "nbformat": 4,
 "nbformat_minor": 0
}
