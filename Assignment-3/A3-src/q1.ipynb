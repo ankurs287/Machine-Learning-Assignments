{
 "cells": [
  {
   "cell_type": "code",
   "execution_count": 1,
   "metadata": {},
   "outputs": [
    {
     "name": "stderr",
     "output_type": "stream",
     "text": [
      "/home/ankur16225/anaconda3/lib/python3.6/site-packages/h5py/__init__.py:36: FutureWarning: Conversion of the second argument of issubdtype from `float` to `np.floating` is deprecated. In future, it will be treated as `np.float64 == np.dtype(float).type`.\n",
      "  from ._conv import register_converters as _register_converters\n"
     ]
    }
   ],
   "source": [
    "import pickle\n",
    "import h5py\n",
    "import matplotlib.pyplot as plt\n",
    "import numpy as np\n",
    "from sklearn.model_selection import train_test_split\n",
    "from tqdm import tqdm_notebook\n",
    "from sklearn.svm import SVC\n",
    "from copy import deepcopy\n",
    "\n",
    "%matplotlib inline"
   ]
  },
  {
   "cell_type": "markdown",
   "metadata": {},
   "source": [
    "## Dataset"
   ]
  },
  {
   "cell_type": "code",
   "execution_count": 2,
   "metadata": {
    "scrolled": true
   },
   "outputs": [
    {
     "name": "stdout",
     "output_type": "stream",
     "text": [
      "Number of samples in the dataset:  14251\n",
      "Distribution of samples among different classes:  [7293 6958]\n",
      "(14251, 28, 28)\n"
     ]
    }
   ],
   "source": [
    "filename = './data/Q1/MNIST_Subset.h5'\n",
    "f = h5py.File(filename, 'r')\n",
    "X = np.array(f[list(f.keys())[0]])\n",
    "y = np.array(f[list(f.keys())[1]])\n",
    "print('Number of samples in the dataset: ', len(y))\n",
    "\n",
    "unique, counts = np.unique(y, return_counts=True)\n",
    "print('Distribution of samples among different classes: ', counts)\n",
    "print(X.shape)"
   ]
  },
  {
   "cell_type": "markdown",
   "metadata": {},
   "source": [
    "## Preprocessing"
   ]
  },
  {
   "cell_type": "code",
   "execution_count": 3,
   "metadata": {},
   "outputs": [
    {
     "name": "stdout",
     "output_type": "stream",
     "text": [
      "(14251, 784)\n"
     ]
    },
    {
     "name": "stderr",
     "output_type": "stream",
     "text": [
      "/home/ankur16225/anaconda3/lib/python3.6/site-packages/sklearn/utils/validation.py:475: DataConversionWarning: Data with input dtype uint8 was converted to float64 by MinMaxScaler.\n",
      "  warnings.warn(msg, DataConversionWarning)\n"
     ]
    }
   ],
   "source": [
    " from sklearn.preprocessing import MinMaxScaler\n",
    "\n",
    "X = np.vstack([img.reshape(-1, ) for img in X])\n",
    "print(X.shape)\n",
    "X = MinMaxScaler().fit_transform(X)\n",
    "y = np.where(y == 7, 0, 1)"
   ]
  },
  {
   "cell_type": "markdown",
   "metadata": {},
   "source": [
    "## Train Test Split"
   ]
  },
  {
   "cell_type": "code",
   "execution_count": 4,
   "metadata": {},
   "outputs": [],
   "source": [
    "X_train, X_test, y_train, y_test = train_test_split(X, y, test_size=0.33, random_state=42)"
   ]
  },
  {
   "cell_type": "markdown",
   "metadata": {},
   "source": [
    "## Define Activation Function for Hidden Layers"
   ]
  },
  {
   "cell_type": "code",
   "execution_count": 5,
   "metadata": {},
   "outputs": [],
   "source": [
    "def sigmoid(z, deriv=False):\n",
    "    if deriv:\n",
    "        return z * (1.0 - z)\n",
    "    return 1 / (1 + np.exp(-z))\n",
    "\n",
    "\n",
    "def relu(z, deriv=False):\n",
    "    if deriv:\n",
    "        z[z<=0] = 0\n",
    "        z[z>0] = 1\n",
    "        return z\n",
    "    return z * (z > 0)"
   ]
  },
  {
   "cell_type": "markdown",
   "metadata": {},
   "source": [
    "## General Neural Network-\n",
    "Hidden Layers with Sigmoid/ Relu Activation Function.  \n",
    "Output Layer with Softmax Activation Function."
   ]
  },
  {
   "cell_type": "code",
   "execution_count": 6,
   "metadata": {},
   "outputs": [],
   "source": [
    "class Layer:\n",
    "    def __init__(self, input_dim, n_nodes, activation=sigmoid):\n",
    "        self.input_dim = input_dim\n",
    "        self.n_nodes = n_nodes\n",
    "        self.w = 2 * np.random.random((input_dim, n_nodes)) - 1  # input dim x nodes\n",
    "        self.b = 2 * np.random.random((1, n_nodes)) - 1\n",
    "        self.activation =  activation\n",
    "\n",
    "class NeuralNetwork:\n",
    "    def __init__(self, layers, lr=1):\n",
    "        self.layers = layers\n",
    "        self.lr = lr\n",
    "\n",
    "    def build_train_model(self, X, y, X_test, y_test, n_iterations):\n",
    "        m = X.shape[0]\n",
    "        l = X_test.shape[0]\n",
    "        n_layers = len(self.layers)\n",
    "\n",
    "        lr = self.lr\n",
    "\n",
    "        y = np.reshape(y, (len(y), 1))\n",
    "        y_ = np.where(y == 0, 1, 0)\n",
    "        y = np.hstack((y, y_))\n",
    "\n",
    "        y_test = np.reshape(y_test, (len(y_test), 1))\n",
    "        y_test_ = np.where(y_test == 0, 1, 0)\n",
    "        y_test = np.hstack((y_test, y_test_))\n",
    "        \n",
    "        train_errors = []\n",
    "        val_errors = []\n",
    "\n",
    "        for i in tqdm_notebook(range(n_iterations)):\n",
    "            inp = X\n",
    "            # Forward Propagation\n",
    "            y_pred_val = None\n",
    "            for j in range(n_layers):\n",
    "                layer = self.layers[j]\n",
    "                layer.inp = inp\n",
    "\n",
    "                if j == n_layers - 1:\n",
    "                    z = np.dot(inp, layer.w) + layer.b\n",
    "                    exp_scores = np.exp(z)\n",
    "                    exp_sum = np.sum(exp_scores, axis=1, keepdims=True) + 0.00001\n",
    "                    layer.a = exp_scores / exp_sum\n",
    "                else:\n",
    "                    z = np.dot(inp, layer.w) + layer.b\n",
    "                    layer.a = layer.activation(z)\n",
    "\n",
    "                inp = layer.a\n",
    "\n",
    "            error = y - self.layers[-1].a\n",
    "            \n",
    "#             J = -1*(1/m)*np.sum((np.log(self.layers[-1].a)*(y) + np.log(1-self.layers[-1].a)*(1-y)))\n",
    "            y_pred_val = self.predict(X_test)\n",
    "#             J_val = -1*(1/l)*np.sum((np.log(y_pred_val)*(y_test) + np.log(1-y_pred_val)*(1-y_test)))\n",
    "#             val_cost.append(J_val)\n",
    "#             cost.append(J)\n",
    "            \n",
    "            error_ = np.mean(np.abs(error[:, 0]))\n",
    "            train_errors.append(error_)\n",
    "            verror_ = np.mean(np.abs((y_test - y_pred_val)[:, 0]))\n",
    "            val_errors.append(verror_)\n",
    "            \n",
    "            if i % 200 == 0:\n",
    "                print('Train Error: ', np.round(error_, 4), 'Val Cost: ', np.round(verror_, 4))\n",
    "\n",
    "            # Backward Propagation\n",
    "            for j in range(n_layers - 1, -1, -1):\n",
    "                layer = self.layers[j]\n",
    "                if j == n_layers - 1:\n",
    "                    layer.dw = np.dot(self.layers[j - 1].a.T, error)\n",
    "                    layer.db = np.sum(error)\n",
    "                else:\n",
    "                    delta = np.dot(error, self.layers[j + 1].w.T) * layer.activation(layer.a, deriv=True)\n",
    "                    layer.dw = np.dot(layer.inp.T, delta)\n",
    "                    layer.db = np.sum(delta)\n",
    "                    error = delta\n",
    "\n",
    "            # Update Weights\n",
    "            for j in range(n_layers):\n",
    "                layer = self.layers[j]\n",
    "                layer.w += 1 / m * lr * layer.dw\n",
    "                layer.b += 1 / m * lr * layer.db\n",
    "\n",
    "        return train_errors, val_errors\n",
    "    \n",
    "    def predict(self, X_test):\n",
    "        n_layers = len(self.layers)\n",
    "        layers = deepcopy(self.layers)\n",
    "        inp = X_test\n",
    "        for j in range(n_layers):\n",
    "            layer = layers[j]\n",
    "            if j == n_layers - 1:\n",
    "                z = np.dot(inp, layer.w) + layer.b\n",
    "                exp_scores = np.exp(z)\n",
    "                exp_sum = np.sum(exp_scores, axis=1, keepdims=True)\n",
    "                layer.a = exp_scores / exp_sum\n",
    "            else:\n",
    "                z = np.dot(inp, layer.w) + layer.b\n",
    "                layer.a = layer.activation(z)\n",
    "\n",
    "            inp = layer.a\n",
    "\n",
    "        return layers[-1].a\n"
   ]
  },
  {
   "cell_type": "markdown",
   "metadata": {},
   "source": [
    "## Train and Test NN with 1 hidden layer `Sigmoid`"
   ]
  },
  {
   "cell_type": "code",
   "execution_count": 7,
   "metadata": {},
   "outputs": [],
   "source": [
    "layers = []\n",
    "h1 = Layer(len(X_train[0]), 100)\n",
    "layers.append(h1)\n",
    "o = Layer(100, 2)\n",
    "layers.append(o)"
   ]
  },
  {
   "cell_type": "code",
   "execution_count": 8,
   "metadata": {},
   "outputs": [
    {
     "data": {
      "application/vnd.jupyter.widget-view+json": {
       "model_id": "2f29de5ecd50446881d7de2b466d52c1",
       "version_major": 2,
       "version_minor": 0
      },
      "text/plain": [
       "HBox(children=(IntProgress(value=0, max=2000), HTML(value='')))"
      ]
     },
     "metadata": {},
     "output_type": "display_data"
    },
    {
     "name": "stdout",
     "output_type": "stream",
     "text": [
      "Train Error:  0.4406 Val Cost:  0.4416\n",
      "Train Error:  0.055 Val Cost:  0.0631\n",
      "Train Error:  0.0391 Val Cost:  0.0493\n",
      "Train Error:  0.0302 Val Cost:  0.0417\n",
      "Train Error:  0.0244 Val Cost:  0.0369\n",
      "Train Error:  0.0201 Val Cost:  0.0336\n",
      "Train Error:  0.0169 Val Cost:  0.0312\n",
      "Train Error:  0.0144 Val Cost:  0.0294\n",
      "Train Error:  0.0123 Val Cost:  0.0281\n",
      "Train Error:  0.0105 Val Cost:  0.0269\n",
      "\n"
     ]
    }
   ],
   "source": [
    "nn = NeuralNetwork(layers, lr=0.9)\n",
    "train_errors, val_errors = nn.build_train_model(X_train, y_train, X_test, y_test, 2000)"
   ]
  },
  {
   "cell_type": "code",
   "execution_count": 9,
   "metadata": {},
   "outputs": [
    {
     "name": "stdout",
     "output_type": "stream",
     "text": [
      "Training Accuracy 99.09%\n"
     ]
    },
    {
     "data": {
      "image/png": "[encoded data removed]",
      "text/plain": [
       "<Figure size 432x288 with 1 Axes>"
      ]
     },
     "metadata": {},
     "output_type": "display_data"
    }
   ],
   "source": [
    "accuracy = 1 - train_errors[-1]\n",
    "accuracy = np.round(accuracy, 4) * 100\n",
    "print(\"Training Accuracy \" + str(accuracy) + \"%\")\n",
    "plt.plot(train_errors, label='Train')\n",
    "plt.plot(val_errors, label='Validation')\n",
    "plt.xlabel('Epochs')\n",
    "plt.ylabel('Error')\n",
    "plt.title('1 Hidden Layer with Sigmoid')\n",
    "plt.legend()\n",
    "plt.savefig('1 Hidden Layer with Sigmoid.png')\n",
    "plt.show()"
   ]
  },
  {
   "cell_type": "code",
   "execution_count": 10,
   "metadata": {},
   "outputs": [
    {
     "name": "stdout",
     "output_type": "stream",
     "text": [
      "Test Accuracy 97.39999999999999%\n"
     ]
    }
   ],
   "source": [
    "y_pred = nn.predict(X_test)\n",
    "error = y_test - y_pred[:, 0]\n",
    "error = np.mean(np.abs(error))\n",
    "accuracy = 1 - error\n",
    "accuracy = np.round(accuracy, 4) * 100\n",
    "print(\"Test Accuracy \" + str(accuracy) + \"%\")"
   ]
  },
  {
   "cell_type": "code",
   "execution_count": 11,
   "metadata": {},
   "outputs": [],
   "source": [
    "# Store data (serialize)\n",
    "with open('sigmoid_1_layer_mlp.pickle', 'wb') as handle:\n",
    "    pickle.dump(nn, handle, protocol=pickle.HIGHEST_PROTOCOL)"
   ]
  },
  {
   "cell_type": "markdown",
   "metadata": {},
   "source": [
    "## Train and Test NN with 3 hidden layer `Sigmoid`"
   ]
  },
  {
   "cell_type": "code",
   "execution_count": 13,
   "metadata": {},
   "outputs": [],
   "source": [
    "layers = []\n",
    "h1 = Layer(len(X_train[0]), 100)\n",
    "layers.append(h1)\n",
    "h2 = Layer(100, 50)\n",
    "layers.append(h2)\n",
    "h3 = Layer(50, 50)\n",
    "layers.append(h3)\n",
    "o = Layer(50, 2)\n",
    "layers.append(o)"
   ]
  },
  {
   "cell_type": "code",
   "execution_count": 14,
   "metadata": {},
   "outputs": [
    {
     "data": {
      "application/vnd.jupyter.widget-view+json": {
       "model_id": "3ca12af71ce84b34905af01d743997bf",
       "version_major": 2,
       "version_minor": 0
      },
      "text/plain": [
       "HBox(children=(IntProgress(value=0, max=2000), HTML(value='')))"
      ]
     },
     "metadata": {},
     "output_type": "display_data"
    },
    {
     "name": "stdout",
     "output_type": "stream",
     "text": [
      "Train Error:  0.4899 Val Cost:  0.4865\n",
      "Train Error:  0.0579 Val Cost:  0.0649\n",
      "Train Error:  0.0361 Val Cost:  0.0467\n",
      "Train Error:  0.0242 Val Cost:  0.0379\n",
      "Train Error:  0.0166 Val Cost:  0.0325\n",
      "Train Error:  0.0114 Val Cost:  0.029\n",
      "Train Error:  0.0078 Val Cost:  0.0267\n",
      "Train Error:  0.0055 Val Cost:  0.0251\n",
      "Train Error:  0.0039 Val Cost:  0.0241\n",
      "Train Error:  0.0029 Val Cost:  0.0234\n",
      "\n"
     ]
    }
   ],
   "source": [
    "nn = NeuralNetwork(layers, lr=0.9)\n",
    "train_errors, val_errors = nn.build_train_model(X_train, y_train, X_test, y_test, 2000)"
   ]
  },
  {
   "cell_type": "code",
   "execution_count": 15,
   "metadata": {},
   "outputs": [
    {
     "name": "stdout",
     "output_type": "stream",
     "text": [
      "Training Accuracy 99.78%\n"
     ]
    },
    {
     "data": {
      "image/png": "[encoded data removed]",
      "text/plain": [
       "<Figure size 432x288 with 1 Axes>"
      ]
     },
     "metadata": {},
     "output_type": "display_data"
    }
   ],
   "source": [
    "accuracy = 1 - train_errors[-1]\n",
    "accuracy = np.round(accuracy, 4) * 100\n",
    "print(\"Training Accuracy \" + str(accuracy) + \"%\")\n",
    "plt.plot(train_errors, label='Train')\n",
    "plt.plot(val_errors, label='Validation')\n",
    "plt.xlabel('Epochs')\n",
    "plt.ylabel('Error')\n",
    "plt.title('3 Hidden Layer with Sigmoid')\n",
    "plt.legend()\n",
    "plt.savefig('3 Hidden Layer with Sigmoid.png')\n",
    "plt.show()"
   ]
  },
  {
   "cell_type": "code",
   "execution_count": 16,
   "metadata": {},
   "outputs": [
    {
     "name": "stdout",
     "output_type": "stream",
     "text": [
      "Test Accuracy 97.72%\n"
     ]
    }
   ],
   "source": [
    "y_pred = nn.predict(X_test)\n",
    "error = y_test - y_pred[:, 0]\n",
    "error = np.mean(np.abs(error))\n",
    "accuracy = 1 - error\n",
    "accuracy = np.round(accuracy, 4) * 100\n",
    "print(\"Test Accuracy \" + str(accuracy) + \"%\")"
   ]
  },
  {
   "cell_type": "code",
   "execution_count": 17,
   "metadata": {},
   "outputs": [],
   "source": [
    "# Store data (serialize)\n",
    "with open('sigmoid_3_layer_mlp.pickle', 'wb') as handle:\n",
    "    pickle.dump(nn, handle, protocol=pickle.HIGHEST_PROTOCOL)"
   ]
  },
  {
   "cell_type": "markdown",
   "metadata": {},
   "source": [
    "## Train and Test NN with 1 hidden layer `Relu`"
   ]
  },
  {
   "cell_type": "code",
   "execution_count": 22,
   "metadata": {},
   "outputs": [],
   "source": [
    "layers = []\n",
    "h1 = Layer(len(X_train[0]), 100, activation=relu)\n",
    "layers.append(h1)\n",
    "o = Layer(100, 2)\n",
    "layers.append(o)"
   ]
  },
  {
   "cell_type": "code",
   "execution_count": 23,
   "metadata": {},
   "outputs": [
    {
     "data": {
      "application/vnd.jupyter.widget-view+json": {
       "model_id": "43d35012e5d14a679a79fc66e621dc3b",
       "version_major": 2,
       "version_minor": 0
      },
      "text/plain": [
       "HBox(children=(IntProgress(value=0, max=2000), HTML(value='')))"
      ]
     },
     "metadata": {},
     "output_type": "display_data"
    },
    {
     "name": "stdout",
     "output_type": "stream",
     "text": [
      "Train Error:  0.5336 Val Cost:  0.4405\n",
      "Train Error:  0.0583 Val Cost:  0.064\n",
      "Train Error:  0.0464 Val Cost:  0.0542\n",
      "Train Error:  0.0403 Val Cost:  0.0493\n",
      "Train Error:  0.036 Val Cost:  0.0459\n",
      "Train Error:  0.0324 Val Cost:  0.0432\n",
      "Train Error:  0.0294 Val Cost:  0.041\n",
      "Train Error:  0.0268 Val Cost:  0.0391\n",
      "Train Error:  0.0246 Val Cost:  0.0376\n",
      "Train Error:  0.0227 Val Cost:  0.0363\n",
      "\n"
     ]
    }
   ],
   "source": [
    "nn = NeuralNetwork(layers, lr=0.1)\n",
    "train_errors, val_errors = nn.build_train_model(X_train, y_train, X_test, y_test, 2000)"
   ]
  },
  {
   "cell_type": "code",
   "execution_count": 24,
   "metadata": {},
   "outputs": [
    {
     "name": "stdout",
     "output_type": "stream",
     "text": [
      "Training Accuracy 97.89999999999999%\n"
     ]
    },
    {
     "data": {
      "image/png": "[encoded data removed]",
      "text/plain": [
       "<Figure size 432x288 with 1 Axes>"
      ]
     },
     "metadata": {},
     "output_type": "display_data"
    }
   ],
   "source": [
    "accuracy = 1 - train_errors[-1]\n",
    "accuracy = np.round(accuracy, 4) * 100\n",
    "print(\"Training Accuracy \" + str(accuracy) + \"%\")\n",
    "plt.plot(train_errors, label='Train')\n",
    "plt.plot(val_errors, label='Validation')\n",
    "plt.xlabel('Epochs')\n",
    "plt.ylabel('Error')\n",
    "plt.title('1 Hidden Layer with Relu')\n",
    "plt.legend()\n",
    "plt.savefig('1 Hidden Layer with Relu.png')\n",
    "plt.show()"
   ]
  },
  {
   "cell_type": "code",
   "execution_count": 25,
   "metadata": {},
   "outputs": [
    {
     "name": "stdout",
     "output_type": "stream",
     "text": [
      "Test Accuracy 96.48%\n"
     ]
    }
   ],
   "source": [
    "y_pred = nn.predict(X_test)\n",
    "error = y_test - y_pred[:, 0]\n",
    "error = np.mean(np.abs(error))\n",
    "accuracy = 1 - error\n",
    "accuracy = np.round(accuracy, 4) * 100\n",
    "print(\"Test Accuracy \" + str(accuracy) + \"%\")"
   ]
  },
  {
   "cell_type": "code",
   "execution_count": 26,
   "metadata": {},
   "outputs": [],
   "source": [
    "# Store data (serialize)\n",
    "with open('relu_1_layer_mlp.pickle', 'wb') as handle:\n",
    "    pickle.dump(nn, handle, protocol=pickle.HIGHEST_PROTOCOL)"
   ]
  },
  {
   "cell_type": "markdown",
   "metadata": {},
   "source": [
    "## Train and Test NN with 3 hidden layer `Relu`"
   ]
  },
  {
   "cell_type": "code",
   "execution_count": 32,
   "metadata": {},
   "outputs": [],
   "source": [
    "layers = []\n",
    "h1 = Layer(len(X_train[0]), 100,  activation=relu)\n",
    "layers.append(h1)\n",
    "h2 = Layer(100, 50,  activation=relu)\n",
    "layers.append(h2)\n",
    "h3 = Layer(50, 50,  activation=relu)\n",
    "layers.append(h3)\n",
    "o = Layer(50, 2)\n",
    "layers.append(o)"
   ]
  },
  {
   "cell_type": "code",
   "execution_count": 33,
   "metadata": {},
   "outputs": [
    {
     "data": {
      "application/vnd.jupyter.widget-view+json": {
       "model_id": "69fa5b114a934627abfe9780bcd3ccb6",
       "version_major": 2,
       "version_minor": 0
      },
      "text/plain": [
       "HBox(children=(IntProgress(value=0, max=2000), HTML(value='')))"
      ]
     },
     "metadata": {},
     "output_type": "display_data"
    },
    {
     "name": "stdout",
     "output_type": "stream",
     "text": [
      "Train Error:  0.4567 Val Cost:  0.5243\n",
      "Train Error:  0.1393 Val Cost:  0.1519\n",
      "Train Error:  0.1163 Val Cost:  0.1322\n",
      "Train Error:  0.1043 Val Cost:  0.1208\n",
      "Train Error:  0.0966 Val Cost:  0.1122\n",
      "Train Error:  0.0916 Val Cost:  0.1073\n",
      "Train Error:  0.0875 Val Cost:  0.1031\n",
      "Train Error:  0.0838 Val Cost:  0.0991\n",
      "Train Error:  0.0804 Val Cost:  0.0962\n",
      "Train Error:  0.0777 Val Cost:  0.0939\n",
      "\n"
     ]
    }
   ],
   "source": [
    "nn = NeuralNetwork(layers, lr=0.001)\n",
    "train_errors, val_errors = nn.build_train_model(X_train, y_train, X_test, y_test, 2000)"
   ]
  },
  {
   "cell_type": "code",
   "execution_count": 34,
   "metadata": {},
   "outputs": [
    {
     "name": "stdout",
     "output_type": "stream",
     "text": [
      "Training Accuracy 92.44%\n"
     ]
    },
    {
     "data": {
      "image/png": "[encoded data removed]",
      "text/plain": [
       "<Figure size 432x288 with 1 Axes>"
      ]
     },
     "metadata": {},
     "output_type": "display_data"
    }
   ],
   "source": [
    "accuracy = 1 - train_errors[-1]\n",
    "accuracy = np.round(accuracy, 4) * 100\n",
    "print(\"Training Accuracy \" + str(accuracy) + \"%\")\n",
    "plt.plot(train_errors, label='Train')\n",
    "plt.plot(val_errors, label='Validation')\n",
    "plt.xlabel('Epochs')\n",
    "plt.ylabel('Error')\n",
    "plt.title('3 Hidden Layer with Relu')\n",
    "plt.legend()\n",
    "plt.savefig('3 Hidden Layer with Relu.png')\n",
    "plt.show()"
   ]
  },
  {
   "cell_type": "code",
   "execution_count": 35,
   "metadata": {},
   "outputs": [
    {
     "name": "stdout",
     "output_type": "stream",
     "text": [
      "Test Accuracy 90.8%\n"
     ]
    }
   ],
   "source": [
    "y_pred = nn.predict(X_test)\n",
    "error = y_test - y_pred[:, 0]\n",
    "error = np.mean(np.abs(error))\n",
    "accuracy = 1 - error\n",
    "accuracy = np.round(accuracy, 4) * 100\n",
    "print(\"Test Accuracy \" + str(accuracy) + \"%\")"
   ]
  },
  {
   "cell_type": "code",
   "execution_count": 39,
   "metadata": {},
   "outputs": [],
   "source": [
    "# Store data (serialize)\n",
    "with open('relu_3_layer_mlp.pickle', 'wb') as handle:\n",
    "    pickle.dump(nn, handle, protocol=pickle.HIGHEST_PROTOCOL)"
   ]
  },
  {
   "cell_type": "markdown",
   "metadata": {},
   "source": [
    "## SVM"
   ]
  },
  {
   "cell_type": "code",
   "execution_count": 36,
   "metadata": {},
   "outputs": [
    {
     "name": "stdout",
     "output_type": "stream",
     "text": [
      "[LibSVM]"
     ]
    },
    {
     "data": {
      "text/plain": [
       "SVC(C=1.0, cache_size=200, class_weight=None, coef0=0.0,\n",
       "  decision_function_shape='ovr', degree=3, gamma='auto', kernel='rbf',\n",
       "  max_iter=-1, probability=False, random_state=None, shrinking=True,\n",
       "  tol=0.001, verbose=True)"
      ]
     },
     "execution_count": 36,
     "metadata": {},
     "output_type": "execute_result"
    }
   ],
   "source": [
    "clf = SVC(verbose=True)\n",
    "clf.fit(X_train, y_train)"
   ]
  },
  {
   "cell_type": "code",
   "execution_count": 40,
   "metadata": {},
   "outputs": [
    {
     "name": "stdout",
     "output_type": "stream",
     "text": [
      "Training Accuracy 96.28194386258903%\n"
     ]
    }
   ],
   "source": [
    "accuracy = clf.score(X_train, y_train)\n",
    "print(\"Training Accuracy \" + str(accuracy*100) + \"%\")"
   ]
  },
  {
   "cell_type": "code",
   "execution_count": 41,
   "metadata": {},
   "outputs": [
    {
     "name": "stdout",
     "output_type": "stream",
     "text": [
      "Test Accuracy 95.42844992557941%\n"
     ]
    }
   ],
   "source": [
    "accuracy = clf.score(X_test, y_test)\n",
    "print(\"Test Accuracy \" + str(accuracy*100) + \"%\")"
   ]
  },
  {
   "cell_type": "code",
   "execution_count": null,
   "metadata": {},
   "outputs": [],
   "source": []
  }
 ],
 "metadata": {
  "kernelspec": {
   "display_name": "Python 3",
   "language": "python",
   "name": "python3"
  },
  "language_info": {
   "codemirror_mode": {
    "name": "ipython",
    "version": 3
   },
   "file_extension": ".py",
   "mimetype": "text/x-python",
   "name": "python",
   "nbconvert_exporter": "python",
   "pygments_lexer": "ipython3",
   "version": "3.6.6"
  }
 },
 "nbformat": 4,
 "nbformat_minor": 2
}
