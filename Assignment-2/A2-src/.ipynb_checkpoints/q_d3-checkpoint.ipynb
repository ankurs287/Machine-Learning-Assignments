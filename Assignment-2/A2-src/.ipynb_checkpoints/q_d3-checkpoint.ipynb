{
 "cells": [
  {
   "cell_type": "markdown",
   "metadata": {},
   "source": [
    "# Dataset 3"
   ]
  },
  {
   "cell_type": "code",
   "execution_count": 28,
   "metadata": {},
   "outputs": [
    {
     "name": "stdout",
     "output_type": "stream",
     "text": [
      "Number of samples in dataset 3:  100\n",
      "Distribution of samples among different classes:  [34 33 33]\n"
     ]
    }
   ],
   "source": [
    "filename = 'data_3.h5'\n",
    "f = h5py.File(filename, 'r')\n",
    "\n",
    "X = np.array(f[list(f.keys())[0]])\n",
    "y = np.array(f[list(f.keys())[1]])\n",
    "print('Number of samples in dataset 3: ', len(y))\n",
    "\n",
    "unique, counts = np.unique(y, return_counts=True)\n",
    "print('Distribution of samples among different classes: ', counts)"
   ]
  },
  {
   "cell_type": "markdown",
   "metadata": {},
   "source": [
    "## (i) Scatter the data"
   ]
  },
  {
   "cell_type": "code",
   "execution_count": null,
   "metadata": {},
   "outputs": [],
   "source": [
    "plt.figure()\n",
    "plt.title('Dataset 3 plot')\n",
    "plt.scatter(X[:, 0], X[:, 1], c=y)\n",
    "plt.savefig('dataset3_plot.png')\n",
    "plt.show()\n"
   ]
  },
  {
   "cell_type": "markdown",
   "metadata": {},
   "source": [
    "## One vs All and One vs One"
   ]
  },
  {
   "cell_type": "code",
   "execution_count": 40,
   "metadata": {},
   "outputs": [],
   "source": [
    "def one_vs_all(X, y, kernel=None, gamma=1):\n",
    "    kX = X.copy()\n",
    "    if kernel is not None:\n",
    "        kX = np.hstack((X, kernel(X, gamma)))\n",
    "    models = []\n",
    "    for y_i in range(3):\n",
    "        y_ = y.copy()\n",
    "        y_ = (y_ == y_i).astype(int)\n",
    "\n",
    "        clf = SVC(kernel='linear')\n",
    "        clf.fit(kX, y_)\n",
    "\n",
    "        models.append(clf)\n",
    "    return models\n",
    "\n",
    "\n",
    "def one_vs_one(X, y, kernel=None, gamma=1):\n",
    "    models = []\n",
    "    kX = X.copy()\n",
    "    if kernel is not None:\n",
    "        kX = np.hstack((X, kernel(X, gamma)))\n",
    "    for y_i in range(2):\n",
    "        for y_j in range(y_i + 1, 3):\n",
    "            e1 = np.where(y == y_i)[0]\n",
    "            e2 = np.where(y == y_j)[0]\n",
    "            y_ = np.hstack((y[e1], y[e2]))\n",
    "            X_ = np.vstack((kX[e1], kX[e2]))\n",
    "            p = np.random.permutation(len(X_))\n",
    "            y_ = y_[p]\n",
    "            X_ = X_[p]\n",
    "\n",
    "            clf = SVC(kernel='linear')\n",
    "            clf.fit(X_, y_)\n",
    "\n",
    "            models.append(clf)\n",
    "    return models\n"
   ]
  },
  {
   "cell_type": "markdown",
   "metadata": {},
   "source": [
    "## (ii) Plot the dataset with decision boundaries corresponding to the kernel used"
   ]
  },
  {
   "cell_type": "markdown",
   "metadata": {},
   "source": [
    "### One-vs-All Approach"
   ]
  },
  {
   "cell_type": "code",
   "execution_count": 37,
   "metadata": {},
   "outputs": [
    {
     "data": {
      "image/png": "[encoded data removed]",
      "text/plain": [
       "<Figure size 432x288 with 1 Axes>"
      ]
     },
     "metadata": {},
     "output_type": "display_data"
    }
   ],
   "source": [
    "colors = 'bry'\n",
    "models = one_vs_all(X, y)\n",
    "idxs = []\n",
    "pad = 0.25\n",
    "h = 1000\n",
    "x1_min, x1_max = X[:, 0].min() - pad, X[:, 0].max() + pad\n",
    "x2_min, x2_max = X[:, 1].min() - pad, X[:, 1].max() + pad\n",
    "x1, x2 = np.meshgrid(np.linspace(x1_min, x1_max, h), np.linspace(x2_min, x2_max, h))\n",
    "for y_i in range(3):\n",
    "    clf = models[y_i]\n",
    "    w = clf._get_coef()[0]\n",
    "    b = clf.intercept_\n",
    "\n",
    "    idx = np.where(predict(np.c_[x1.ravel(), x2.ravel()], w, b) == 1)\n",
    "    idxs.append(idx)\n",
    "\n",
    "Z = np.zeros((np.c_[x1.ravel(), x2.ravel()].shape[0]))\n",
    "for i in range(3):\n",
    "    Z[idxs[i]] = i\n",
    "    idx = np.where(y == i)\n",
    "\n",
    "    plt.scatter(X[idx, 0], X[idx, 1], c=colors[i], cmap=plt.cm.Paired, s=20)\n",
    "\n",
    "Z = Z.reshape(x1.shape)\n",
    "plt.contourf(x1, x2, Z, alpha=0.2)\n",
    "\n",
    "plt.show()\n"
   ]
  },
  {
   "cell_type": "markdown",
   "metadata": {},
   "source": [
    "### One-vs-One Approach"
   ]
  },
  {
   "cell_type": "code",
   "execution_count": 32,
   "metadata": {},
   "outputs": [
    {
     "name": "stdout",
     "output_type": "stream",
     "text": [
      "1.0\n",
      "0.5074626865671642\n",
      "0.0\n"
     ]
    },
    {
     "data": {
      "image/png": "[encoded data removed]",
      "text/plain": [
       "<Figure size 432x288 with 1 Axes>"
      ]
     },
     "metadata": {},
     "output_type": "display_data"
    }
   ],
   "source": [
    "models = one_vs_one(X, y)\n",
    "k = 0\n",
    "colors = 'bry'\n",
    "idxs = []\n",
    "pad = 0.25\n",
    "h = 1000\n",
    "x1_min, x1_max = X[:, 0].min() - pad, X[:, 0].max() + pad\n",
    "x2_min, x2_max = X[:, 1].min() - pad, X[:, 1].max() + pad\n",
    "x1, x2 = np.meshgrid(np.linspace(x1_min, x1_max, h), np.linspace(x2_min, x2_max, h))\n",
    "for y_i in range(2):\n",
    "    for y_j in range(y_i + 1, 3):\n",
    "        e1 = np.where(y == y_i)[0]\n",
    "        e2 = np.where(y == y_j)[0]\n",
    "        X_ = np.vstack((X[e1], X[e2]))\n",
    "        p = np.random.permutation(len(X_))\n",
    "        X_ = X_[p]\n",
    "\n",
    "        clf = models[k]\n",
    "        k += 1\n",
    "        \n",
    "        w = clf._get_coef()[0]\n",
    "        b = clf.intercept_\n",
    "        \n",
    "        x1_min, x1_max = X_[:, 0].min() - pad, X_[:, 0].max() + pad\n",
    "        x2_min, x2_max = X_[:, 1].min() - pad, X_[:, 1].max() + pad\n",
    "        x1, x2 = np.meshgrid(np.linspace(x1_min, x1_max, h), np.linspace(x2_min, x2_max, h))\n",
    "        \n",
    "        idx = np.where(predict(np.c_[x1.ravel(), x2.ravel()], w, b) == 1)\n",
    "        idxs.append(idx)\n",
    "\n",
    "\n",
    "        Z = predict(np.c_[x1.ravel(), x2.ravel()], w, b)\n",
    "        Z = Z.reshape(x1.shape)\n",
    "        plt.contourf(x1, x2, Z, alpha=0.2)\n",
    "\n",
    "plt.scatter(X[:, 0], X[:, 1], c=y)\n",
    "plt.show()\n"
   ]
  },
  {
   "cell_type": "markdown",
   "metadata": {
    "collapsed": true
   },
   "source": [
    "## (iii) Soft margin SVM with linear kernel"
   ]
  },
  {
   "cell_type": "code",
   "execution_count": 39,
   "metadata": {},
   "outputs": [
    {
     "data": {
      "image/png": "[encoded data removed]",
      "text/plain": [
       "<Figure size 432x288 with 1 Axes>"
      ]
     },
     "metadata": {},
     "output_type": "display_data"
    }
   ],
   "source": [
    "colors = 'bry'\n",
    "models = one_vs_all(X, y)\n",
    "idxs = []\n",
    "pad = 0.25\n",
    "h = 1000\n",
    "x1_min, x1_max = X[:, 0].min() - pad, X[:, 0].max() + pad\n",
    "x2_min, x2_max = X[:, 1].min() - pad, X[:, 1].max() + pad\n",
    "x1, x2 = np.meshgrid(np.linspace(x1_min, x1_max, h), np.linspace(x2_min, x2_max, h))\n",
    "for y_i in range(3):\n",
    "    clf = models[y_i]\n",
    "    w = clf._get_coef()[0]\n",
    "    b = clf.intercept_\n",
    "\n",
    "    idx = np.where(predict(np.c_[x1.ravel(), x2.ravel()], w, b) == 1)\n",
    "    idxs.append(idx)\n",
    "\n",
    "Z = np.zeros((np.c_[x1.ravel(), x2.ravel()].shape[0]))\n",
    "for i in range(3):\n",
    "    Z[idxs[i]] = i\n",
    "    idx = np.where(y == i)\n",
    "\n",
    "    plt.scatter(X[idx, 0], X[idx, 1], c=colors[i], cmap=plt.cm.Paired, s=20)\n",
    "\n",
    "Z = Z.reshape(x1.shape)\n",
    "plt.contourf(x1, x2, Z, alpha=0.2)\n",
    "\n",
    "plt.show()"
   ]
  },
  {
   "cell_type": "markdown",
   "metadata": {},
   "source": [
    "## (iv) Soft margin SVM with rbf kernel"
   ]
  },
  {
   "cell_type": "code",
   "execution_count": 46,
   "metadata": {},
   "outputs": [
    {
     "data": {
      "image/png": "[encoded data removed]",
      "text/plain": [
       "<Figure size 432x288 with 1 Axes>"
      ]
     },
     "metadata": {},
     "output_type": "display_data"
    }
   ],
   "source": [
    "colors = 'bry'\n",
    "gamma = -1\n",
    "models = one_vs_all(X, y, rbf_kernel, gamma=gamma)\n",
    "idxs = []\n",
    "pad = 0.25\n",
    "h = 1000\n",
    "x1_min, x1_max = X[:, 0].min() - pad, X[:, 0].max() + pad\n",
    "x2_min, x2_max = X[:, 1].min() - pad, X[:, 1].max() + pad\n",
    "x1, x2 = np.meshgrid(np.linspace(x1_min, x1_max, h), np.linspace(x2_min, x2_max, h))\n",
    "for y_i in range(3):\n",
    "    clf = models[y_i]\n",
    "    w = clf._get_coef()[0]\n",
    "    b = clf.intercept_\n",
    "\n",
    "    Z = predict(np.c_[x1.ravel(), x2.ravel(), rbf_kernel(x1.ravel(), gamma), rbf_kernel(x2.ravel(), gamma)], w, b)\n",
    "    idx = np.where(Z == 1)\n",
    "    idxs.append(idx)\n",
    "\n",
    "Z = np.zeros((np.c_[x1.ravel(), x2.ravel(), rbf_kernel(x1.ravel(), gamma), rbf_kernel(x2.ravel(), gamma)].shape[0]))\n",
    "for i in range(3):\n",
    "    Z[idxs[i]] = i\n",
    "    idx = np.where(y == i)\n",
    "\n",
    "    plt.scatter(X[idx, 0], X[idx, 1], c=colors[i], cmap=plt.cm.Paired, s=20)\n",
    "\n",
    "Z = Z.reshape(x1.shape)\n",
    "plt.contourf(x1, x2, Z, alpha=0.2)\n",
    "\n",
    "plt.show()"
   ]
  },
  {
   "cell_type": "code",
   "execution_count": null,
   "metadata": {
    "collapsed": true
   },
   "outputs": [],
   "source": []
  }
 ],
 "metadata": {
  "kernelspec": {
   "display_name": "Python 3",
   "language": "python",
   "name": "python3"
  },
  "language_info": {
   "codemirror_mode": {
    "name": "ipython",
    "version": 3
   },
   "file_extension": ".py",
   "mimetype": "text/x-python",
   "name": "python",
   "nbconvert_exporter": "python",
   "pygments_lexer": "ipython3",
   "version": "3.6.6"
  }
 },
 "nbformat": 4,
 "nbformat_minor": 1
}
