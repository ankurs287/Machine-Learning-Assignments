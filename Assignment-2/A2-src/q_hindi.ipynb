{
 "cells": [
  {
   "cell_type": "code",
   "execution_count": 1,
   "metadata": {},
   "outputs": [],
   "source": [
    "import numpy as np\n",
    "import matplotlib.pyplot as plt\n",
    "%matplotlib inline\n",
    "from sklearn.svm import SVC\n",
    "import os\n",
    "from scipy import misc\n",
    "from sklearn.model_selection import KFold\n",
    "from tqdm import tqdm\n",
    "import pickle"
   ]
  },
  {
   "cell_type": "code",
   "execution_count": 2,
   "metadata": {},
   "outputs": [],
   "source": [
    "model_file = './saved_models/hindi_models.sav'\n",
    "train_val_dir = os.getcwd() + \"/Train_val/\"\n",
    "test = os.getcwd() + \"/Test/\""
   ]
  },
  {
   "cell_type": "code",
   "execution_count": 3,
   "metadata": {},
   "outputs": [],
   "source": [
    "def get_data(directory):\n",
    "    X = []\n",
    "    y = []\n",
    "    l = 0\n",
    "    labels = {}\n",
    "    for label in os.listdir(directory):\n",
    "        labels[label] = l\n",
    "        for sample in os.listdir(directory + label):\n",
    "            img = misc.imread(directory + label + \"/\" + sample)\n",
    "            X.append(img)\n",
    "            y.append(l)\n",
    "        l += 1\n",
    "        \n",
    "    X = np.asarray(X)\n",
    "    y = np.asarray(y)\n",
    "    X = np.vstack([img.reshape(-1, ) for img in X])\n",
    "    \n",
    "    p = np.random.permutation(len(X))\n",
    "    return X[p], y[p], labels"
   ]
  },
  {
   "cell_type": "code",
   "execution_count": 4,
   "metadata": {},
   "outputs": [],
   "source": [
    "def svm(X_train, y_train):\n",
    "    try:\n",
    "        loaded_model = pickle.load(open(model_file, 'rb'))\n",
    "        print('local model returned')\n",
    "        return loaded_model\n",
    "\n",
    "    except FileNotFoundError:\n",
    "        models = []\n",
    "        k = 5\n",
    "        kf = KFold(n_splits=k)\n",
    "        for train, val in tqdm(kf.split(X_train)):\n",
    "            X_fold = X_train[train]\n",
    "            y_fold = y_train[train]\n",
    "            clf = SVC(kernel='rbf')\n",
    "            clf.fit(X_fold, y_fold)\n",
    "\n",
    "            models.append([[train, val], clf])\n",
    "        pickle.dump(models, open(model_file, 'wb'))\n",
    "        print('Fresh models returned')\n",
    "        return models"
   ]
  },
  {
   "cell_type": "code",
   "execution_count": 5,
   "metadata": {},
   "outputs": [
    {
     "name": "stderr",
     "output_type": "stream",
     "text": [
      "/home/ankur16225/anaconda3/lib/python3.6/site-packages/ipykernel_launcher.py:9: DeprecationWarning: `imread` is deprecated!\n",
      "`imread` is deprecated in SciPy 1.0.0, and will be removed in 1.2.0.\n",
      "Use ``imageio.imread`` instead.\n",
      "  if __name__ == '__main__':\n"
     ]
    },
    {
     "name": "stdout",
     "output_type": "stream",
     "text": [
      "{'character_4_gha': 0, 'character_1_ka': 1, 'character_2_kha': 2, 'character_5_kna': 3, 'character_3_ga': 4}\n"
     ]
    }
   ],
   "source": [
    "X_train, y_train, labels = get_data(train_val_dir)\n",
    "print(labels)"
   ]
  },
  {
   "cell_type": "code",
   "execution_count": 6,
   "metadata": {
    "scrolled": false
   },
   "outputs": [
    {
     "name": "stdout",
     "output_type": "stream",
     "text": [
      "local model returned\n"
     ]
    }
   ],
   "source": [
    "models = svm(X_train, y_train)"
   ]
  },
  {
   "cell_type": "code",
   "execution_count": 7,
   "metadata": {},
   "outputs": [
    {
     "name": "stderr",
     "output_type": "stream",
     "text": [
      "/home/ankur16225/anaconda3/lib/python3.6/site-packages/ipykernel_launcher.py:9: DeprecationWarning: `imread` is deprecated!\n",
      "`imread` is deprecated in SciPy 1.0.0, and will be removed in 1.2.0.\n",
      "Use ``imageio.imread`` instead.\n",
      "  if __name__ == '__main__':\n",
      "100%|██████████| 5/5 [06:25<00:00, 77.03s/it]\n"
     ]
    }
   ],
   "source": [
    "train_accuracy_collection = []\n",
    "val_accuracy_collection = []\n",
    "test_accuracy_collection = []\n",
    "\n",
    "X_test, y_test, _ = get_data(test)\n",
    "\n",
    "for model in tqdm(models):\n",
    "    fold, cv_model = model\n",
    "\n",
    "    train = fold[0]\n",
    "    val = fold[1]\n",
    "    X_fold = X_train[train]\n",
    "    y_fold = y_train[train]\n",
    "\n",
    "    clf = cv_model\n",
    "\n",
    "    train_accuracy_collection.append(clf.score(X_fold, y_fold))\n",
    "\n",
    "    X_val = X_train[val]\n",
    "    y_val = y_train[val]\n",
    "    val_accuracy_collection.append(clf.score(X_val, y_val))\n",
    "    \n",
    "    test_accuracy_collection.append(clf.score(X_test, y_test))"
   ]
  },
  {
   "cell_type": "code",
   "execution_count": 11,
   "metadata": {},
   "outputs": [
    {
     "name": "stdout",
     "output_type": "stream",
     "text": [
      "[0.8402941176470589, 0.8366176470588236, 0.8391176470588235, 0.8348529411764706, 0.8354411764705882]\n",
      "[0.8288235294117647, 0.8423529411764706, 0.8311764705882353, 0.85, 0.8482352941176471]\n",
      "[0.625, 0.661, 0.655, 0.671, 0.665]\n"
     ]
    }
   ],
   "source": [
    "print(train_accuracy_collection)\n",
    "print(val_accuracy_collection)\n",
    "print(test_accuracy_collection)"
   ]
  },
  {
   "cell_type": "code",
   "execution_count": null,
   "metadata": {},
   "outputs": [],
   "source": []
  },
  {
   "cell_type": "code",
   "execution_count": null,
   "metadata": {},
   "outputs": [],
   "source": []
  },
  {
   "cell_type": "code",
   "execution_count": null,
   "metadata": {},
   "outputs": [],
   "source": []
  },
  {
   "cell_type": "code",
   "execution_count": null,
   "metadata": {},
   "outputs": [],
   "source": []
  },
  {
   "cell_type": "code",
   "execution_count": null,
   "metadata": {},
   "outputs": [],
   "source": []
  },
  {
   "cell_type": "code",
   "execution_count": null,
   "metadata": {},
   "outputs": [],
   "source": []
  }
 ],
 "metadata": {
  "kernelspec": {
   "display_name": "Python 3",
   "language": "python",
   "name": "python3"
  },
  "language_info": {
   "codemirror_mode": {
    "name": "ipython",
    "version": 3
   },
   "file_extension": ".py",
   "mimetype": "text/x-python",
   "name": "python",
   "nbconvert_exporter": "python",
   "pygments_lexer": "ipython3",
   "version": "3.6.6"
  }
 },
 "nbformat": 4,
 "nbformat_minor": 1
}
