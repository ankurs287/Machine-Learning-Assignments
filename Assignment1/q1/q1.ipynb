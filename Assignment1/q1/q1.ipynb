{
 "cells": [
  {
   "cell_type": "markdown",
   "metadata": {},
   "source": [
    "# 1. Linear Regression"
   ]
  },
  {
   "cell_type": "code",
   "execution_count": 1,
   "metadata": {},
   "outputs": [],
   "source": [
    "import numpy as np\n",
    "import pandas as pd\n",
    "import matplotlib.pyplot as plt"
   ]
  },
  {
   "cell_type": "markdown",
   "metadata": {},
   "source": [
    "### Import dataset"
   ]
  },
  {
   "cell_type": "code",
   "execution_count": 7,
   "metadata": {},
   "outputs": [
    {
     "name": "stdout",
     "output_type": "stream",
     "text": [
      "      CRIM    ZN  INDUS  CHAS    NOX     RM        AGE     DIS  RAD  TAX  \\\n",
      "0  0.00632  18.0   2.31     0  0.538  6.575  65.199997  4.0900    1  296   \n",
      "1  0.02731   0.0   7.07     0  0.469  6.421  78.900002  4.9671    2  242   \n",
      "2  0.02729   0.0   7.07     0  0.469  7.185  61.099998  4.9671    2  242   \n",
      "3  0.03237   0.0   2.18     0  0.458  6.998  45.799999  6.0622    3  222   \n",
      "4  0.06905   0.0   2.18     0  0.458  7.147  54.200001  6.0622    3  222   \n",
      "\n",
      "          PT           B  LSTAT         MV  \n",
      "0  15.300000  396.899994   4.98  24.000000  \n",
      "1  17.799999  396.899994   9.14  21.600000  \n",
      "2  17.799999  392.829987   4.03  34.700001  \n",
      "3  18.700001  394.630005   2.94  33.400002  \n",
      "4  18.700001  396.899994   5.33  36.200001  \n"
     ]
    }
   ],
   "source": [
    "data = pd.read_excel(\"./data/boston.xls\")\n",
    "print(data.head())"
   ]
  },
  {
   "cell_type": "markdown",
   "metadata": {
    "collapsed": true
   },
   "source": [
    "### Preprocessing: Feature Normalisation\n",
    "Extract features and normalise them"
   ]
  },
  {
   "cell_type": "code",
   "execution_count": 8,
   "metadata": {},
   "outputs": [],
   "source": [
    "def feature_normalisation(X):\n",
    "    mu = np.mean(X, axis=0)\n",
    "    std = np.std(X, axis=0)\n",
    "    return (X - mu) / std"
   ]
  },
  {
   "cell_type": "code",
   "execution_count": 9,
   "metadata": {},
   "outputs": [],
   "source": [
    "data = data.values\n",
    "dataset_size = len(data)\n",
    "np.random.shuffle(data)\n",
    "\n",
    "X = data[:, :-1]\n",
    "y = data[:, -1]\n",
    "X = feature_normalisation(X)\n"
   ]
  },
  {
   "cell_type": "markdown",
   "metadata": {},
   "source": [
    "## Gradient Descent"
   ]
  },
  {
   "cell_type": "code",
   "execution_count": 10,
   "metadata": {},
   "outputs": [],
   "source": [
    "def gradient_descent(X, y, alpha=0.1, time=100, lam=None, reg='ridge'):\n",
    "    # Adding intercept\n",
    "    X = np.hstack((np.ones((len(X), 1)), X))\n",
    "    n = len(X)\n",
    "    theta = np.zeros(len(X[0]))\n",
    "    rmse = np.zeros(time)\n",
    "    for i in range(time):\n",
    "        pred = np.dot(X, theta)\n",
    "        error = np.subtract(pred, y)\n",
    "        derivative = (alpha / n) * np.dot(X.T, error)\n",
    "        if lam is not None:\n",
    "            if reg == 'ridge':\n",
    "                derivative -= (lam / n) * theta\n",
    "            elif reg == 'lasso':\n",
    "                derivative -= (lam / n) * theta\n",
    "\n",
    "        theta = theta - derivative\n",
    "\n",
    "        new_pred = np.dot(X, theta)\n",
    "        new_error = np.subtract(new_pred, y)\n",
    "        rmse[i] = np.sqrt((1. / n) * np.dot(new_error.T, new_error))\n",
    "    return theta, rmse\n"
   ]
  },
  {
   "cell_type": "code",
   "execution_count": 11,
   "metadata": {},
   "outputs": [
    {
     "name": "stdout",
     "output_type": "stream",
     "text": [
      "4.532786513004417\n",
      "4.9667092975597145\n",
      "4.624588268730105\n",
      "4.483358012512484\n",
      "3.6173584470680376\n"
     ]
    }
   ],
   "source": [
    "alpha = 0.01\n",
    "time = 100\n",
    "k = 5\n",
    "train_size = int(dataset_size / k)\n",
    "theta = [None] * k\n",
    "\n",
    "plt.figure()\n",
    "\n",
    "for i in range(k):\n",
    "    X_fold = X[i * train_size:(i + 1) * train_size, :]\n",
    "    y_fold = y[i * train_size:(i + 1) * train_size]\n",
    "    theta[i], rmse = gradient_descent(X_fold, y_fold, time=time)\n",
    "\n",
    "    print(rmse[-1])\n",
    "\n",
    "    plt.plot(rmse, label='Fold: %s' % (i + 1))\n",
    "\n",
    "plt.legend()\n",
    "plt.xlabel('Time')\n",
    "plt.ylabel('RMSE')\n",
    "plt.savefig(\"./q1_(\" + str(1) + \").png\")\n",
    "# plt.show()\n",
    "plt.close()"
   ]
  },
  {
   "cell_type": "code",
   "execution_count": 12,
   "metadata": {},
   "outputs": [],
   "source": [
    "#  RMSE\n",
    "def RMSE(X, y, theta):\n",
    "    X = np.hstack((np.ones((len(X), 1)), X))\n",
    "    error = np.subtract(np.dot(X, theta), y)\n",
    "    return np.sqrt((1. / len(X)) * np.dot(error.T, error))\n"
   ]
  },
  {
   "cell_type": "code",
   "execution_count": 13,
   "metadata": {},
   "outputs": [
    {
     "name": "stdout",
     "output_type": "stream",
     "text": [
      "Fold:  1 4.532786513004417\n",
      "Fold:  2 4.9667092975597145\n",
      "Fold:  3 4.624588268730105\n",
      "Fold:  4 4.483358012512484\n",
      "Fold:  5 3.6173584470680376\n"
     ]
    }
   ],
   "source": [
    "for j in range(k):\n",
    "    X_fold = X[j * train_size:(j + 1) * train_size, :]\n",
    "    y_fold = y[j * train_size:(j + 1) * train_size]\n",
    "    print(\"Fold: \", j + 1, RMSE(X_fold, y_fold, theta[j]))\n"
   ]
  },
  {
   "cell_type": "markdown",
   "metadata": {},
   "source": [
    "## Regularization"
   ]
  },
  {
   "cell_type": "code",
   "execution_count": 14,
   "metadata": {},
   "outputs": [],
   "source": [
    "from sklearn.model_selection import GridSearchCV\n",
    "from sklearn.linear_model import Ridge"
   ]
  },
  {
   "cell_type": "code",
   "execution_count": 15,
   "metadata": {},
   "outputs": [
    {
     "name": "stdout",
     "output_type": "stream",
     "text": [
      "4.679301462189175\n"
     ]
    }
   ],
   "source": [
    "parameters = {'alpha': [0.001, 0.01, 0.1, 1, 10, 100]}\n",
    "reg = Ridge(alpha=1.0)\n",
    "reg.fit(X, y)\n",
    "y_pred = reg.predict(X)\n",
    "print(np.sqrt((1 / len(X)) * np.dot((y_pred - y),(y_pred - y))))\n"
   ]
  },
  {
   "cell_type": "code",
   "execution_count": 16,
   "metadata": {},
   "outputs": [],
   "source": [
    "l = 1.0  # Regularisation Parameter\n"
   ]
  },
  {
   "cell_type": "code",
   "execution_count": 17,
   "metadata": {},
   "outputs": [
    {
     "name": "stdout",
     "output_type": "stream",
     "text": [
      "5.264471254743731\n",
      "5.599842136673281\n",
      "5.282854319540708\n",
      "5.132626553171499\n",
      "4.514406213277949\n",
      "4.722943131032555\n"
     ]
    },
    {
     "data": {
      "text/plain": [
       "<Figure size 432x288 with 0 Axes>"
      ]
     },
     "metadata": {},
     "output_type": "display_data"
    }
   ],
   "source": [
    "alpha = 0.01\n",
    "time = 100\n",
    "k = 5\n",
    "train_size = int(dataset_size / k)\n",
    "theta = [None] * k\n",
    "\n",
    "plt.figure()\n",
    "\n",
    "for i in range(k):\n",
    "    X_fold = X[i * train_size:(i + 1) * train_size, :]\n",
    "    y_fold = y[i * train_size:(i + 1) * train_size]\n",
    "    theta[i], rmse = gradient_descent(X_fold, y_fold, time=time, lam=l, reg='lasso')\n",
    "\n",
    "    print(rmse[-1])\n",
    "    \n",
    "_, e = gradient_descent(X, y, time=time, lam=l)\n",
    "print(e[-1])"
   ]
  },
  {
   "cell_type": "code",
   "execution_count": 18,
   "metadata": {},
   "outputs": [
    {
     "name": "stdout",
     "output_type": "stream",
     "text": [
      "Fold:  1 5.264471254743731\n",
      "Fold:  2 5.599842136673281\n",
      "Fold:  3 5.282854319540708\n",
      "Fold:  4 5.132626553171499\n",
      "Fold:  5 4.514406213277949\n"
     ]
    }
   ],
   "source": [
    "for j in range(k):\n",
    "    X_fold = X[j * train_size:(j + 1) * train_size, :]\n",
    "    y_fold = y[j * train_size:(j + 1) * train_size]\n",
    "    print(\"Fold: \", j + 1, RMSE(X_fold, y_fold, theta[j]))\n"
   ]
  },
  {
   "cell_type": "code",
   "execution_count": null,
   "metadata": {},
   "outputs": [],
   "source": []
  }
 ],
 "metadata": {
  "kernelspec": {
   "display_name": "Python 3",
   "language": "python",
   "name": "python3"
  },
  "language_info": {
   "codemirror_mode": {
    "name": "ipython",
    "version": 3
   },
   "file_extension": ".py",
   "mimetype": "text/x-python",
   "name": "python",
   "nbconvert_exporter": "python",
   "pygments_lexer": "ipython3",
   "version": "3.6.5"
  }
 },
 "nbformat": 4,
 "nbformat_minor": 1
}
