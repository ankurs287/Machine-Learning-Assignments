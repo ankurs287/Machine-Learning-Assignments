{
 "cells": [
  {
   "cell_type": "code",
   "execution_count": 50,
   "metadata": {},
   "outputs": [],
   "source": [
    "import numpy as np\n",
    "import pandas as pd\n",
    "import matplotlib.pyplot as plt"
   ]
  },
  {
   "cell_type": "markdown",
   "metadata": {},
   "source": [
    "####Import dataset"
   ]
  },
  {
   "cell_type": "code",
   "execution_count": 51,
   "metadata": {},
   "outputs": [
    {
     "name": "stdout",
     "output_type": "stream",
     "text": [
      "      CRIM    ZN  INDUS  CHAS    NOX     RM        AGE     DIS  RAD  TAX  \\\n0  0.00632  18.0   2.31     0  0.538  6.575  65.199997  4.0900    1  296   \n1  0.02731   0.0   7.07     0  0.469  6.421  78.900002  4.9671    2  242   \n2  0.02729   0.0   7.07     0  0.469  7.185  61.099998  4.9671    2  242   \n3  0.03237   0.0   2.18     0  0.458  6.998  45.799999  6.0622    3  222   \n4  0.06905   0.0   2.18     0  0.458  7.147  54.200001  6.0622    3  222   \n\n          PT           B  LSTAT         MV  \n0  15.300000  396.899994   4.98  24.000000  \n1  17.799999  396.899994   9.14  21.600000  \n2  17.799999  392.829987   4.03  34.700001  \n3  18.700001  394.630005   2.94  33.400002  \n4  18.700001  396.899994   5.33  36.200001  \n"
     ]
    }
   ],
   "source": [
    "data = pd.read_excel(\"boston.xls\")\n",
    "print(data.head())"
   ]
  },
  {
   "cell_type": "markdown",
   "metadata": {
    "collapsed": true
   },
   "source": [
    "#### Preprocessing: Feature Normalisation\n",
    "Extract features and normalise them"
   ]
  },
  {
   "cell_type": "code",
   "execution_count": 52,
   "metadata": {},
   "outputs": [],
   "source": [
    "def feature_normalisation(X):\n",
    "    mu = np.mean(X, axis=0)\n",
    "    std = np.std(X, axis=0)\n",
    "    return (X - mu) / std"
   ]
  },
  {
   "cell_type": "code",
   "execution_count": 53,
   "metadata": {},
   "outputs": [],
   "source": [
    "data = data.values\n",
    "dataset_size = len(data)\n",
    "# np.random.shuffle(data)\n",
    "\n",
    "X = data[:, :-1]\n",
    "y = data[:, -1]\n",
    "X = feature_normalisation(X)\n"
   ]
  },
  {
   "cell_type": "markdown",
   "metadata": {},
   "source": [
    "#### Split dataset into 5-folds"
   ]
  },
  {
   "cell_type": "code",
   "execution_count": 54,
   "metadata": {
    "collapsed": false
   },
   "outputs": [],
   "source": [
    "# train_size = int(dataset_size / 5)\n",
    "# X_train0, X_test = X[:train_size, :], X[train_size:, :]\n",
    "# y_train, y_test = y[:train_size], y[train_size:]"
   ]
  },
  {
   "cell_type": "markdown",
   "metadata": {},
   "source": [
    "####Gradient Descent"
   ]
  },
  {
   "cell_type": "code",
   "execution_count": 55,
   "metadata": {},
   "outputs": [],
   "source": [
    "def gradient_descent(X, y, alpha=0.1, time=1):\n",
    "    # Adding intercept\n",
    "    X = np.hstack((np.ones((len(X), 1)), X))\n",
    "    n = len(X)\n",
    "    theta = np.zeros(len(X[0]))\n",
    "    rmse = np.zeros(time)\n",
    "    for i in range(time):\n",
    "        pred = np.dot(X, theta)\n",
    "        error = np.subtract(pred, y)\n",
    "        derivative = (1. / n) * np.dot(X.T, error)\n",
    "        theta = theta - alpha * derivative\n",
    "\n",
    "        new_pred = np.dot(X, theta)\n",
    "        new_error = np.subtract(new_pred, y)\n",
    "        rmse[i] = (1. / n) * np.sqrt(np.dot(new_error.T, new_error))\n",
    "    return theta, rmse\n"
   ]
  },
  {
   "cell_type": "code",
   "execution_count": 62,
   "metadata": {
    "collapsed": false
   },
   "outputs": [
    {
     "name": "stderr",
     "output_type": "stream",
     "text": [
      "/home/ankur/anaconda3/lib/python3.6/site-packages/matplotlib/pyplot.py:537: RuntimeWarning: More than 20 figures have been opened. Figures created through the pyplot interface (`matplotlib.pyplot.figure`) are retained until explicitly closed and may consume too much memory. (To control this warning, see the rcParam `figure.max_open_warning`).\n  max_open_warning, RuntimeWarning)\n"
     ]
    },
    {
     "name": "stdout",
     "output_type": "stream",
     "text": [
      "1.3934405906097782\n2.036430426661481\n1.4185718654553738\n"
     ]
    },
    {
     "name": "stdout",
     "output_type": "stream",
     "text": [
      "1.9421841938902602\n1.0399707806835112\n"
     ]
    }
   ],
   "source": [
    "alpha = 0.1\n",
    "time = 1\n",
    "k = 5\n",
    "train_size = int(dataset_size / k)\n",
    "theta = [None] * k\n",
    "for i in range(k):\n",
    "    X_fold = X[i * train_size:(i + 1) * train_size, :]\n",
    "    y_fold = y[i * train_size:(i + 1) * train_size]\n",
    "    theta[i], rmse = gradient_descent(X_fold, y_fold, time=time)\n",
    "\n",
    "    plt.figure()\n",
    "    plt.plot(range(1, time + 1), rmse, color='b')\n",
    "    plt.xlabel('Time')\n",
    "    plt.ylabel('RMSE')\n",
    "    plt.savefig(\"./q1/q1_(\" + str(i) + \").png\")\n",
    "    plt.close()\n",
    "    \n",
    "    print(rmse[-1])\n",
    "    # plt.show()\n"
   ]
  },
  {
   "cell_type": "markdown",
   "metadata": {},
   "source": [
    "####Plot RMSE for train and test dataset"
   ]
  },
  {
   "cell_type": "code",
   "execution_count": 59,
   "metadata": {},
   "outputs": [],
   "source": [
    "# plt.figure()\n",
    "# plt.plot(range(1, time + 1), rmse, color='b')\n",
    "# plt.xlabel('Time')\n",
    "# plt.ylabel('RMSE')\n",
    "# plt.savefig(\"./q1_(i).png\")\n",
    "# # plt.show()\n",
    "# plt.close()"
   ]
  },
  {
   "cell_type": "code",
   "execution_count": 60,
   "metadata": {},
   "outputs": [],
   "source": [
    "def accuracy(X, y, theta):\n",
    "    X = np.hstack((np.ones((len(X), 1)), X))\n",
    "    error = np.subtract(np.dot(X, theta),y)\n",
    "    return (1. / len(X)) * np.sqrt(np.dot(error.T, error))\n"
   ]
  },
  {
   "cell_type": "code",
   "execution_count": 61,
   "metadata": {},
   "outputs": [
    {
     "name": "stdout",
     "output_type": "stream",
     "text": [
      "Theta:  0 , Fold:  0 1.3934405906097782\nTheta:  1 , Fold:  1 2.036430426661481\nTheta:  2 , Fold:  2 1.4185718654553738\nTheta:  3 , Fold:  3 1.9421841938902602\nTheta:  4 , Fold:  4 1.0399707806835112\n"
     ]
    }
   ],
   "source": [
    "for j in range(k):\n",
    "    a = 0\n",
    "    i=j\n",
    "    # for i in range(k):\n",
    "    X_fold = X[i * train_size:(i + 1) * train_size, :]\n",
    "    y_fold = y[i * train_size:(i + 1) * train_size]\n",
    "    a += accuracy(X_fold, y_fold, theta[j])\n",
    "    print(\"Theta: \", j, \", Fold: \", j, a)\n",
    "# print(a/k)\n"
   ]
  },
  {
   "cell_type": "code",
   "execution_count": 62,
   "metadata": {},
   "outputs": [],
   "source": []
  },
  {
   "cell_type": "code",
   "execution_count": null,
   "metadata": {},
   "outputs": [],
   "source": []
  }
 ],
 "metadata": {
  "kernelspec": {
   "display_name": "Python 2",
   "language": "python",
   "name": "python2"
  },
  "language_info": {
   "codemirror_mode": {
    "name": "ipython",
    "version": 2
   },
   "file_extension": ".py",
   "mimetype": "text/x-python",
   "name": "python",
   "nbconvert_exporter": "python",
   "pygments_lexer": "ipython2",
   "version": "2.7.6"
  }
 },
 "nbformat": 4,
 "nbformat_minor": 0
}
